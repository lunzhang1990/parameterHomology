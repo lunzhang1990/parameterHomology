{
 "cells": [
  {
   "cell_type": "code",
   "execution_count": 6,
   "metadata": {},
   "outputs": [],
   "source": [
    "l=[[0,1,0,1],[0,1,1,-1]]"
   ]
  },
  {
   "cell_type": "code",
   "execution_count": 7,
   "metadata": {},
   "outputs": [],
   "source": [
    "for i in range(len(l)):\n",
    "    cur = l[i]\n",
    "    last = cur[-1]\n",
    "    if last !=0:\n",
    "        temp = [x/last for x in cur]\n",
    "        l[i] = temp"
   ]
  },
  {
   "cell_type": "code",
   "execution_count": 8,
   "metadata": {},
   "outputs": [],
   "source": [
    "ret = []\n",
    "for i in range(len(l)):\n",
    "    for j in range(i+1,len(l)):\n",
    "        first = l[i]\n",
    "        second = l[j]\n",
    "        if first[-1] !=0 and second[-1] != 0:\n",
    "            temp = [first[i] - second[i] for i in range(len(first))]\n",
    "            ret.append(temp)"
   ]
  },
  {
   "cell_type": "code",
   "execution_count": 9,
   "metadata": {},
   "outputs": [],
   "source": [
    "ret= [x[:-1] for x in ret]"
   ]
  },
  {
   "cell_type": "code",
   "execution_count": 10,
   "metadata": {},
   "outputs": [
    {
     "data": {
      "text/plain": [
       "[[0.0, 2.0, 1.0]]"
      ]
     },
     "execution_count": 10,
     "metadata": {},
     "output_type": "execute_result"
    }
   ],
   "source": [
    "ret"
   ]
  },
  {
   "cell_type": "code",
   "execution_count": 11,
   "metadata": {},
   "outputs": [],
   "source": [
    "import numpy as np"
   ]
  },
  {
   "cell_type": "markdown",
   "metadata": {},
   "source": [
    "# linear case"
   ]
  },
  {
   "cell_type": "code",
   "execution_count": 12,
   "metadata": {},
   "outputs": [],
   "source": [
    "thresholds = [1]"
   ]
  },
  {
   "cell_type": "code",
   "execution_count": 13,
   "metadata": {},
   "outputs": [],
   "source": [
    "def generatePMatrix(m, pmatrix):\n",
    "    acc_prod = list(map(lambda x: int(x), [np.prod(m[i+1:]) for i in range(len(m))]))\n",
    "    l = np.sum(m)-1\n",
    "    p = [() for _ in range(np.prod(m))]\n",
    "    level = []\n",
    "\n",
    "    for i in range(len(p)):\n",
    "        total = i\n",
    "        level = []\n",
    "        for j in range(len(m)):\n",
    "            current = int(total/acc_prod[j])\n",
    "            total %= acc_prod[j]\n",
    "            level.append(current)\n",
    "        curr_p = []\n",
    "        for i in range(len(level)):\n",
    "            temp = [0 for _ in range(m[i])]\n",
    "            temp[m[i]-1-level[i]] = 1\n",
    "            curr_p+=temp\n",
    "        pmatrix.append(curr_p)"
   ]
  },
  {
   "cell_type": "code",
   "execution_count": 14,
   "metadata": {},
   "outputs": [],
   "source": [
    "pmatrix = []\n",
    "generatePMatrix([2],pmatrix)"
   ]
  },
  {
   "cell_type": "code",
   "execution_count": 15,
   "metadata": {},
   "outputs": [],
   "source": [
    "epsilon = [1]\n",
    "nepsilon = [-1]\n",
    "notheta = 1\n",
    "theta = []\n",
    "for i in range(notheta):\n",
    "    temp = [0 for  _ in range(notheta)]\n",
    "    temp[i] = 1\n",
    "    theta.append(temp)"
   ]
  },
  {
   "cell_type": "code",
   "execution_count": 16,
   "metadata": {},
   "outputs": [],
   "source": [
    "def diffByOneBit(a,b):\n",
    "    # a< b and differ only one bit\n",
    "    diff = abs(a-b)\n",
    "    if (a|b == b) and bin(diff).count('1') == 1:\n",
    "        return True\n",
    "    return False\n",
    "\n",
    "def generateOneBitCondition(m):\n",
    "    \n",
    "    counts = [int(np.log2(i)) for i in m]\n",
    "    bitsNo = [sum(counts[i+1:]) for i in range(len(counts))]\n",
    "    \n",
    "    pairs = set()\n",
    "    for i in range(len(m)):\n",
    "        component = m[i]\n",
    "        for j in range(component):\n",
    "            for k in range(j+1,component):\n",
    "                if diffByOneBit(j,k):\n",
    "                    pairs.add((j<<bitsNo[i],k<<bitsNo[i]))\n",
    "            \n",
    "    return pairs"
   ]
  },
  {
   "cell_type": "code",
   "execution_count": 17,
   "metadata": {},
   "outputs": [],
   "source": [
    "t = generateOneBitCondition([2])\n",
    "onebit = []\n",
    "#b - s >= epsilon\n",
    "for pair in t:\n",
    "    s = pmatrix[pair[0]]\n",
    "    b = pmatrix[pair[1]]\n",
    "    diff = [b[i] - s[i] for i in range(len(b))]\n",
    "    onebit.append(diff)"
   ]
  },
  {
   "cell_type": "code",
   "execution_count": 18,
   "metadata": {},
   "outputs": [],
   "source": [
    "# last term for the constant term\n",
    "oneBitEps = []\n",
    "for x in onebit:\n",
    "    oneBitEps.append(x + [0 for i in range(notheta)] + nepsilon + [0])"
   ]
  },
  {
   "cell_type": "code",
   "execution_count": 19,
   "metadata": {},
   "outputs": [
    {
     "data": {
      "text/plain": [
       "[[1, -1, 0, -1, 0]]"
      ]
     },
     "execution_count": 19,
     "metadata": {},
     "output_type": "execute_result"
    }
   ],
   "source": [
    "oneBitEps"
   ]
  },
  {
   "cell_type": "code",
   "execution_count": 20,
   "metadata": {},
   "outputs": [],
   "source": [
    "polyWithTheta = []\n",
    "for x in pmatrix:\n",
    "    for y in theta:\n",
    "        y = [-t for t in y]\n",
    "        polyWithTheta.append(x+y+[0] + [0])"
   ]
  },
  {
   "cell_type": "code",
   "execution_count": 21,
   "metadata": {},
   "outputs": [
    {
     "data": {
      "text/plain": [
       "[[0, 1, -1, 0, 0], [1, 0, -1, 0, 0]]"
      ]
     },
     "execution_count": 21,
     "metadata": {},
     "output_type": "execute_result"
    }
   ],
   "source": [
    "polyWithTheta"
   ]
  },
  {
   "cell_type": "code",
   "execution_count": 22,
   "metadata": {},
   "outputs": [
    {
     "data": {
      "text/plain": [
       "[[1, -1, 0, -1, 0]]"
      ]
     },
     "execution_count": 22,
     "metadata": {},
     "output_type": "execute_result"
    }
   ],
   "source": [
    "oneBitEps"
   ]
  },
  {
   "cell_type": "code",
   "execution_count": 23,
   "metadata": {},
   "outputs": [],
   "source": [
    "lBoundEps = [[0,1,0,-1,0]]\n",
    "thetaBoundEps = [[0,0,1,-1,0]]"
   ]
  },
  {
   "cell_type": "code",
   "execution_count": 24,
   "metadata": {},
   "outputs": [],
   "source": [
    "sdr = [[1 for _ in range(len(polyWithTheta[0]))]]\n",
    "sdr[0][-2] = 0\n",
    "sdr[0][-1] = -1"
   ]
  },
  {
   "cell_type": "code",
   "execution_count": 25,
   "metadata": {},
   "outputs": [
    {
     "data": {
      "text/plain": [
       "[[1, 1, 1, 0, -1]]"
      ]
     },
     "execution_count": 25,
     "metadata": {},
     "output_type": "execute_result"
    }
   ],
   "source": [
    "sdr"
   ]
  },
  {
   "cell_type": "code",
   "execution_count": 26,
   "metadata": {},
   "outputs": [],
   "source": [
    "matrix = polyWithTheta + oneBitEps + lBoundEps + thetaBoundEps + sdr "
   ]
  },
  {
   "cell_type": "code",
   "execution_count": 27,
   "metadata": {},
   "outputs": [
    {
     "name": "stdout",
     "output_type": "stream",
     "text": [
      "[(0, 1, -1, 0), (1, 0, -1, 0), (1, -1, 0, 0), (-1.0, -2.0, 0.0, 1.0), (1.0, -1.0, 1.0, 0.0), (-2.0, -1.0, -1.0, 1.0)]\n",
      "[(-2.0, -1.0, 1.0), (1.5, -0.5, -0.5), (-3.0, 0.0, 1.0), (1.0, -2.0, 0.0), (1, -1, 0), (-1.5, -0.5, 0.5), (-1.5, 0.5, 0.5), (3.0, -1.0, -1.0), (0.0, -1.0, 0.0), (-0.5, -1.5, 0.5)]\n",
      "[(-1.0, 0.0), (-2.5, 0.5), (-2.3333333333333335, 0.3333333333333333), (-2.6666666666666665, 0.6666666666666667), (-1.3333333333333333, 0.3333333333333333), (-1.6666666666666667, 0.3333333333333333), (-5.0, 1.0), (0.5, -0.16666666666666669), (0.8333333333333333, -0.16666666666666669), (0.16666666666666669, -0.16666666666666669), (-0.3333333333333333, 0.0), (0.6666666666666667, -0.3333333333333333), (-0.6666666666666666, 0.0), (0.0, 0.0), (0.3333333333333333, 0.0), (-0.6666666666666667, 0.3333333333333333), (0.6666666666666666, 0.0), (1.0, -0.3333333333333333), (1.5, -0.5), (1.6666666666666667, -0.3333333333333333), (-3.3333333333333335, 0.6666666666666667), (-3.0, 0.6666666666666667), (2.5, -0.5), (2.0, -0.3333333333333333), (-4.0, 1.0)]\n"
     ]
    }
   ],
   "source": [
    "# eliminate from first to the second last\n",
    "ret = matrix.copy()\n",
    "while len(ret[0]) > 2:\n",
    "    newMatrix = []\n",
    "    for x in ret:\n",
    "        if x[0] == 0:\n",
    "            newMatrix.append(x[1:])\n",
    "    \n",
    "    for i in range(len(ret)):\n",
    "        for j in range(i+1, len(ret)):\n",
    "            \n",
    "            if ret[i][0] == 0 or ret[j][0] == 0:\n",
    "                continue\n",
    "                \n",
    "            first = list(ret[i])\n",
    "            second = list(ret[j])\n",
    "            first = [x/ret[i][0] for x in first]\n",
    "            second = [x/ret[j][0] for x in second]\n",
    "            \n",
    "            diff = [first[i] - second[i] for i in range(len(first))]\n",
    "            \n",
    "            newMatrix.append(diff[1:])\n",
    "    \n",
    "    # remove duplicate\n",
    "    newMatrix = [tuple(x) for x in newMatrix]\n",
    "    newMatrix = list(set(newMatrix))\n",
    "    \n",
    "    ret = newMatrix\n",
    "    \n",
    "    print(ret)"
   ]
  },
  {
   "cell_type": "code",
   "execution_count": 28,
   "metadata": {},
   "outputs": [],
   "source": [
    "# every x, theta, epsilon, d variable and constant term are on the left only zero on the right\n",
    "candidates = []\n",
    "for pair in ret:\n",
    "    if pair[0]:\n",
    "        candidates.append(-pair[1]/pair[0])"
   ]
  },
  {
   "cell_type": "code",
   "execution_count": 29,
   "metadata": {},
   "outputs": [
    {
     "data": {
      "text/plain": [
       "0.14285714285714285"
      ]
     },
     "execution_count": 29,
     "metadata": {},
     "output_type": "execute_result"
    }
   ],
   "source": [
    "min([x for x in candidates if x>0])"
   ]
  },
  {
   "cell_type": "code",
   "execution_count": 30,
   "metadata": {},
   "outputs": [],
   "source": [
    "# two output linear\n",
    "\n",
    "pmatrix = []\n",
    "generatePMatrix([2],pmatrix)\n",
    "\n",
    "epsilon = [1]\n",
    "nepsilon = [-1]\n",
    "notheta = 2\n",
    "theta = []\n",
    "for i in range(notheta):\n",
    "    temp = [0 for  _ in range(notheta)]\n",
    "    temp[i] = 1\n",
    "    theta.append(temp)\n",
    "    \n",
    "t = generateOneBitCondition([2])\n",
    "onebit = []\n",
    "#b - s >= epsilon\n",
    "for pair in t:\n",
    "    s = pmatrix[pair[0]]\n",
    "    b = pmatrix[pair[1]]\n",
    "    diff = [b[i] - s[i] for i in range(len(b))]\n",
    "    onebit.append(diff)\n",
    "    \n",
    "# last term for the constant term\n",
    "oneBitEps = []\n",
    "for x in onebit:\n",
    "    oneBitEps.append(x + [0 for i in range(notheta)] + nepsilon + [0])\n",
    "    \n",
    "polyWithTheta = []\n",
    "for x in pmatrix:\n",
    "    for y in theta:\n",
    "        y = [-t for t in y]\n",
    "        polyWithTheta.append(x+y+[0] + [0])\n",
    "        \n",
    "lBoundEps = [[0,1,0,0,-1,0]]\n",
    "\n",
    "thetaBoundEps = [[0,0,1,0,-1,0],[0,0,0,1,-1,0]]\n",
    "thetaOrder = [[0,0,1,-1,0,0]]\n",
    "\n",
    "sdr = [[1 for _ in range(len(polyWithTheta[0]))]]\n",
    "sdr[0][-2] = 0\n",
    "sdr[0][-1] = -1"
   ]
  },
  {
   "cell_type": "code",
   "execution_count": 31,
   "metadata": {},
   "outputs": [
    {
     "data": {
      "text/plain": [
       "[[1, 1, 1, 1, 0, -1]]"
      ]
     },
     "execution_count": 31,
     "metadata": {},
     "output_type": "execute_result"
    }
   ],
   "source": [
    "sdr"
   ]
  },
  {
   "cell_type": "code",
   "execution_count": 32,
   "metadata": {},
   "outputs": [
    {
     "data": {
      "text/plain": [
       "[[1, -1, 0, 0, -1, 0]]"
      ]
     },
     "execution_count": 32,
     "metadata": {},
     "output_type": "execute_result"
    }
   ],
   "source": [
    "oneBitEps"
   ]
  },
  {
   "cell_type": "code",
   "execution_count": 33,
   "metadata": {},
   "outputs": [
    {
     "data": {
      "text/plain": [
       "[[0, 1, -1, 0, 0, 0],\n",
       " [0, 1, 0, -1, 0, 0],\n",
       " [1, 0, -1, 0, 0, 0],\n",
       " [1, 0, 0, -1, 0, 0]]"
      ]
     },
     "execution_count": 33,
     "metadata": {},
     "output_type": "execute_result"
    }
   ],
   "source": [
    "polyWithTheta"
   ]
  },
  {
   "cell_type": "code",
   "execution_count": 34,
   "metadata": {},
   "outputs": [],
   "source": [
    "from fractions import Fraction\n",
    "one = Fraction(1,1)\n",
    "zero = Fraction(0,1)"
   ]
  },
  {
   "cell_type": "code",
   "execution_count": 35,
   "metadata": {},
   "outputs": [],
   "source": [
    "# two output linear\n",
    "from fractions import Fraction\n",
    "one = Fraction(1,1)\n",
    "zero = Fraction(0,1)\n",
    "pmatrix = []\n",
    "generatePMatrix([2],pmatrix)\n",
    "pmatrix = [list(map(lambda x: Fraction(x), y)) for y in pmatrix]\n",
    "\n",
    "epsilon = [one]\n",
    "nepsilon = [-one]\n",
    "notheta = 2\n",
    "theta = []\n",
    "for i in range(notheta):\n",
    "    temp = [zero for  _ in range(notheta)]\n",
    "    temp[i] = one\n",
    "    theta.append(temp)\n",
    "    \n",
    "t = generateOneBitCondition([2])\n",
    "onebit = []\n",
    "#b - s >= epsilon\n",
    "for pair in t:\n",
    "    s = pmatrix[pair[0]]\n",
    "    b = pmatrix[pair[1]]\n",
    "    diff = [b[i] - s[i] for i in range(len(b))]\n",
    "    onebit.append(diff)\n",
    "    \n",
    "# last term for the constant term\n",
    "oneBitEps = []\n",
    "for x in onebit:\n",
    "    oneBitEps.append(x + [zero for i in range(notheta)] + nepsilon + [zero])\n",
    "    \n",
    "polyWithTheta = []\n",
    "for x in pmatrix:\n",
    "    for y in theta:\n",
    "        y = [-t for t in y]\n",
    "        polyWithTheta.append(x+y+[zero] + [zero])\n",
    "        \n",
    "lBoundEps = [[zero,one,zero,one,-one,zero]]\n",
    "\n",
    "thetaBoundEps = [[zero,zero,one,zero,-one,zero],[zero,zero,zero,one,-one,zero]]\n",
    "thetaOrder = [[zero,zero,one,-one,zero,zero]]\n",
    "\n",
    "sdr = [[one for _ in range(len(polyWithTheta[0]))]]\n",
    "sdr[0][-2] = zero\n",
    "sdr[0][-1] = -one"
   ]
  },
  {
   "cell_type": "code",
   "execution_count": 36,
   "metadata": {},
   "outputs": [],
   "source": [
    "matrix = polyWithTheta + oneBitEps + lBoundEps + thetaOrder + thetaBoundEps + sdr "
   ]
  },
  {
   "cell_type": "code",
   "execution_count": 37,
   "metadata": {},
   "outputs": [
    {
     "name": "stdout",
     "output_type": "stream",
     "text": [
      "[(Fraction(1, 1), Fraction(-1, 1), Fraction(0, 1), Fraction(0, 1), Fraction(0, 1)), (Fraction(1, 1), Fraction(0, 1), Fraction(-1, 1), Fraction(0, 1), Fraction(0, 1)), (Fraction(0, 1), Fraction(1, 1), Fraction(0, 1), Fraction(-1, 1), Fraction(0, 1)), (Fraction(0, 1), Fraction(1, 1), Fraction(-1, 1), Fraction(0, 1), Fraction(0, 1)), (Fraction(1, 1), Fraction(0, 1), Fraction(1, 1), Fraction(-1, 1), Fraction(0, 1)), (Fraction(1, 1), Fraction(-1, 1), Fraction(0, 1), Fraction(1, 1), Fraction(0, 1)), (Fraction(1, 1), Fraction(0, 1), Fraction(-1, 1), Fraction(1, 1), Fraction(0, 1)), (Fraction(0, 1), Fraction(-1, 1), Fraction(1, 1), Fraction(0, 1), Fraction(0, 1)), (Fraction(-1, 1), Fraction(-2, 1), Fraction(-1, 1), Fraction(0, 1), Fraction(1, 1)), (Fraction(-1, 1), Fraction(-1, 1), Fraction(-2, 1), Fraction(0, 1), Fraction(1, 1)), (Fraction(0, 1), Fraction(0, 1), Fraction(1, 1), Fraction(-1, 1), Fraction(0, 1)), (Fraction(-2, 1), Fraction(-1, 1), Fraction(-1, 1), Fraction(-1, 1), Fraction(1, 1))]\n",
      "[(Fraction(-2, 1), Fraction(-2, 1), Fraction(1, 1), Fraction(1, 1)), (Fraction(-1, 2), Fraction(1, 2), Fraction(-3, 2), Fraction(1, 2)), (Fraction(0, 1), Fraction(0, 1), Fraction(-1, 1), Fraction(0, 1)), (Fraction(-3, 1), Fraction(-1, 1), Fraction(0, 1), Fraction(1, 1)), (Fraction(1, 1), Fraction(1, 1), Fraction(-2, 1), Fraction(0, 1)), (Fraction(-1, 1), Fraction(-3, 1), Fraction(0, 1), Fraction(1, 1)), (Fraction(0, 1), Fraction(1, 1), Fraction(-1, 1), Fraction(0, 1)), (Fraction(-1, 2), Fraction(-3, 2), Fraction(-1, 2), Fraction(1, 2)), (Fraction(-1, 2), Fraction(-3, 2), Fraction(1, 2), Fraction(1, 2)), (Fraction(1, 1), Fraction(-1, 1), Fraction(0, 1), Fraction(0, 1)), (Fraction(1, 1), Fraction(0, 1), Fraction(-1, 1), Fraction(0, 1)), (Fraction(-3, 2), Fraction(-1, 2), Fraction(-1, 2), Fraction(1, 2)), (Fraction(-3, 2), Fraction(-1, 2), Fraction(1, 2), Fraction(1, 2)), (Fraction(-2, 1), Fraction(-2, 1), Fraction(0, 1), Fraction(1, 1)), (Fraction(-1, 1), Fraction(1, 1), Fraction(-1, 1), Fraction(0, 1)), (Fraction(-1, 1), Fraction(1, 1), Fraction(0, 1), Fraction(0, 1)), (Fraction(-3, 1), Fraction(-1, 1), Fraction(1, 1), Fraction(1, 1)), (Fraction(1, 1), Fraction(-1, 1), Fraction(-1, 1), Fraction(0, 1)), (Fraction(3, 2), Fraction(1, 2), Fraction(-1, 2), Fraction(-1, 2)), (Fraction(0, 1), Fraction(-2, 1), Fraction(1, 1), Fraction(0, 1)), (Fraction(-1, 1), Fraction(-3, 1), Fraction(1, 1), Fraction(1, 1)), (Fraction(1, 2), Fraction(3, 2), Fraction(-1, 2), Fraction(-1, 2)), (Fraction(0, 1), Fraction(2, 1), Fraction(-2, 1), Fraction(0, 1)), (Fraction(-1, 1), Fraction(-1, 1), Fraction(1, 1), Fraction(0, 1)), (Fraction(-2, 1), Fraction(0, 1), Fraction(-1, 1), Fraction(1, 1)), (Fraction(-1, 1), Fraction(-1, 1), Fraction(-1, 1), Fraction(1, 1))]\n",
      "[(Fraction(4, 1), Fraction(-1, 1), Fraction(-1, 1)), (Fraction(4, 1), Fraction(-2, 1), Fraction(-1, 1)), (Fraction(-4, 3), Fraction(10, 3), Fraction(-2, 3)), (Fraction(-3, 1), Fraction(0, 1), Fraction(1, 1)), (Fraction(-8, 3), Fraction(1, 1), Fraction(2, 3)), (Fraction(4, 1), Fraction(2, 1), Fraction(-1, 1)), (Fraction(-8, 3), Fraction(2, 3), Fraction(2, 3)), (Fraction(2, 1), Fraction(-3, 2), Fraction(-1, 2)), (Fraction(-2, 1), Fraction(3, 1), Fraction(-1, 2)), (Fraction(2, 1), Fraction(1, 1), Fraction(-1, 1)), (Fraction(2, 1), Fraction(2, 1), Fraction(-1, 1)), (Fraction(0, 1), Fraction(3, 1), Fraction(-1, 1)), (Fraction(-1, 3), Fraction(-2, 3), Fraction(1, 3)), (Fraction(2, 3), Fraction(-5, 6), Fraction(-1, 6)), (Fraction(-4, 1), Fraction(0, 1), Fraction(1, 1)), (Fraction(-4, 3), Fraction(8, 3), Fraction(-2, 3)), (Fraction(1, 3), Fraction(-5, 6), Fraction(1, 6)), (Fraction(-8, 3), Fraction(0, 1), Fraction(2, 3)), (Fraction(3, 1), Fraction(-3, 2), Fraction(-1, 2)), (Fraction(2, 3), Fraction(-1, 6), Fraction(-1, 6)), (Fraction(-2, 3), Fraction(2, 1), Fraction(-1, 3)), (Fraction(8, 3), Fraction(2, 3), Fraction(-2, 3)), (Fraction(8, 3), Fraction(-1, 3), Fraction(-2, 3)), (Fraction(1, 1), Fraction(-1, 1), Fraction(0, 1)), (Fraction(1, 1), Fraction(-5, 2), Fraction(1, 2)), (Fraction(1, 1), Fraction(-2, 1), Fraction(0, 1)), (Fraction(4, 3), Fraction(-4, 3), Fraction(-1, 3)), (Fraction(1, 3), Fraction(-1, 6), Fraction(1, 6)), (Fraction(0, 1), Fraction(1, 1), Fraction(0, 1)), (Fraction(0, 1), Fraction(3, 2), Fraction(-1, 2)), (Fraction(0, 1), Fraction(1, 1), Fraction(-1, 2)), (Fraction(-4, 3), Fraction(3, 1), Fraction(-2, 3)), (Fraction(4, 3), Fraction(1, 1), Fraction(-1, 3)), (Fraction(-2, 1), Fraction(-3, 2), Fraction(1, 2)), (Fraction(-1, 1), Fraction(-3, 2), Fraction(1, 2)), (Fraction(-4, 1), Fraction(2, 1), Fraction(0, 1)), (Fraction(4, 1), Fraction(1, 1), Fraction(-1, 1)), (Fraction(-1, 1), Fraction(4, 1), Fraction(-1, 1)), (Fraction(-2, 1), Fraction(4, 1), Fraction(-1, 1)), (Fraction(4, 3), Fraction(0, 1), Fraction(-1, 3)), (Fraction(2, 3), Fraction(-5, 3), Fraction(1, 3)), (Fraction(-4, 1), Fraction(4, 1), Fraction(0, 1)), (Fraction(4, 3), Fraction(-1, 3), Fraction(-1, 3)), (Fraction(4, 3), Fraction(2, 3), Fraction(-1, 3)), (Fraction(-2, 1), Fraction(1, 2), Fraction(1, 2)), (Fraction(-2, 1), Fraction(-1, 2), Fraction(1, 2)), (Fraction(-2, 1), Fraction(0, 1), Fraction(1, 2)), (Fraction(-1, 1), Fraction(-1, 2), Fraction(1, 2)), (Fraction(-1, 1), Fraction(0, 1), Fraction(0, 1)), (Fraction(-1, 1), Fraction(1, 2), Fraction(1, 2)), (Fraction(-2, 1), Fraction(0, 1), Fraction(0, 1)), (Fraction(0, 1), Fraction(1, 3), Fraction(0, 1)), (Fraction(2, 1), Fraction(0, 1), Fraction(-1, 1)), (Fraction(-2, 3), Fraction(-1, 3), Fraction(1, 6)), (Fraction(0, 1), Fraction(-1, 1), Fraction(0, 1)), (Fraction(0, 1), Fraction(-2, 1), Fraction(1, 2)), (Fraction(0, 1), Fraction(-1, 1), Fraction(1, 2)), (Fraction(-2, 3), Fraction(-2, 3), Fraction(2, 3)), (Fraction(-4, 3), Fraction(-1, 3), Fraction(1, 3)), (Fraction(0, 1), Fraction(2, 1), Fraction(-1, 1)), (Fraction(-2, 1), Fraction(-2, 1), Fraction(1, 1)), (Fraction(-2, 1), Fraction(-1, 1), Fraction(1, 1)), (Fraction(-1, 1), Fraction(-2, 1), Fraction(1, 1)), (Fraction(-2, 1), Fraction(-3, 1), Fraction(1, 1)), (Fraction(3, 1), Fraction(-1, 2), Fraction(-1, 2)), (Fraction(3, 1), Fraction(1, 2), Fraction(-1, 2)), (Fraction(-4, 1), Fraction(1, 1), Fraction(1, 1)), (Fraction(3, 1), Fraction(0, 1), Fraction(-1, 1)), (Fraction(4, 3), Fraction(4, 3), Fraction(-1, 3)), (Fraction(0, 1), Fraction(2, 1), Fraction(0, 1)), (Fraction(-4, 3), Fraction(1, 3), Fraction(1, 3)), (Fraction(-4, 3), Fraction(-2, 3), Fraction(1, 3)), (Fraction(2, 3), Fraction(1, 3), Fraction(-1, 6)), (Fraction(0, 1), Fraction(-1, 3), Fraction(0, 1)), (Fraction(0, 1), Fraction(2, 3), Fraction(0, 1)), (Fraction(0, 1), Fraction(-3, 1), Fraction(1, 1)), (Fraction(2, 1), Fraction(1, 2), Fraction(-1, 2)), (Fraction(2, 1), Fraction(-1, 2), Fraction(-1, 2)), (Fraction(2, 1), Fraction(0, 1), Fraction(-1, 2)), (Fraction(2, 1), Fraction(0, 1), Fraction(0, 1)), (Fraction(-4, 1), Fraction(3, 1), Fraction(0, 1)), (Fraction(-1, 3), Fraction(-4, 3), Fraction(1, 3)), (Fraction(-2, 3), Fraction(-4, 3), Fraction(2, 3)), (Fraction(4, 3), Fraction(-2, 3), Fraction(-1, 3)), (Fraction(4, 3), Fraction(1, 3), Fraction(-1, 3)), (Fraction(4, 1), Fraction(0, 1), Fraction(-1, 1)), (Fraction(-2, 1), Fraction(1, 1), Fraction(0, 1)), (Fraction(2, 1), Fraction(-7, 2), Fraction(1, 2)), (Fraction(2, 1), Fraction(-3, 1), Fraction(0, 1)), (Fraction(-1, 1), Fraction(1, 1), Fraction(0, 1)), (Fraction(-2, 1), Fraction(1, 1), Fraction(1, 2)), (Fraction(-2, 3), Fraction(-1, 1), Fraction(2, 3)), (Fraction(8, 3), Fraction(-4, 3), Fraction(-2, 3)), (Fraction(2, 1), Fraction(-1, 1), Fraction(-1, 2)), (Fraction(2, 1), Fraction(-2, 1), Fraction(0, 1)), (Fraction(-1, 1), Fraction(5, 2), Fraction(-1, 2)), (Fraction(-2, 1), Fraction(2, 1), Fraction(0, 1)), (Fraction(2, 1), Fraction(-1, 1), Fraction(0, 1)), (Fraction(0, 1), Fraction(-3, 2), Fraction(1, 2)), (Fraction(-2, 3), Fraction(4, 3), Fraction(-1, 3)), (Fraction(1, 1), Fraction(1, 2), Fraction(-1, 2)), (Fraction(1, 1), Fraction(0, 1), Fraction(0, 1)), (Fraction(1, 1), Fraction(-1, 2), Fraction(0, 1)), (Fraction(-4, 3), Fraction(4, 3), Fraction(1, 3)), (Fraction(0, 1), Fraction(4, 1), Fraction(-1, 1)), (Fraction(-2, 3), Fraction(0, 1), Fraction(1, 6)), (Fraction(1, 3), Fraction(-1, 2), Fraction(1, 6)), (Fraction(-4, 1), Fraction(2, 1), Fraction(1, 1)), (Fraction(2, 3), Fraction(-1, 2), Fraction(-1, 6)), (Fraction(-2, 1), Fraction(0, 1), Fraction(1, 1)), (Fraction(-8, 3), Fraction(-1, 1), Fraction(2, 3)), (Fraction(3, 1), Fraction(2, 1), Fraction(-1, 1)), (Fraction(3, 1), Fraction(1, 1), Fraction(-1, 1)), (Fraction(-2, 3), Fraction(2, 3), Fraction(-1, 3)), (Fraction(1, 3), Fraction(1, 1), Fraction(-1, 3)), (Fraction(-2, 3), Fraction(1, 1), Fraction(-1, 3)), (Fraction(1, 1), Fraction(-3, 2), Fraction(1, 2)), (Fraction(8, 3), Fraction(4, 3), Fraction(-2, 3)), (Fraction(-8, 3), Fraction(4, 3), Fraction(2, 3)), (Fraction(0, 1), Fraction(-2, 1), Fraction(1, 1)), (Fraction(0, 1), Fraction(-1, 2), Fraction(0, 1)), (Fraction(0, 1), Fraction(1, 2), Fraction(-1, 2)), (Fraction(0, 1), Fraction(0, 1), Fraction(0, 1)), (Fraction(-2, 3), Fraction(1, 3), Fraction(1, 6)), (Fraction(2, 1), Fraction(1, 1), Fraction(-1, 2)), (Fraction(8, 3), Fraction(-2, 3), Fraction(-2, 3)), (Fraction(8, 3), Fraction(1, 3), Fraction(-2, 3)), (Fraction(4, 3), Fraction(-1, 1), Fraction(-1, 3)), (Fraction(-1, 1), Fraction(-1, 1), Fraction(1, 2)), (Fraction(2, 3), Fraction(-7, 3), Fraction(1, 3)), (Fraction(-2, 1), Fraction(5, 1), Fraction(-1, 1))]\n"
     ]
    },
    {
     "name": "stdout",
     "output_type": "stream",
     "text": [
      "[(Fraction(7, 4), Fraction(-3, 4)), (Fraction(7, 4), Fraction(-1, 4)), (Fraction(5, 4), Fraction(-1, 4)), (Fraction(5, 4), Fraction(-3, 4)), (Fraction(13, 8), Fraction(-1, 4)), (Fraction(15, 8), Fraction(-3, 4)), (Fraction(11, 8), Fraction(-1, 2)), (Fraction(9, 8), Fraction(-1, 4)), (Fraction(9, 8), Fraction(-3, 4)), (Fraction(5, 4), Fraction(0, 1)), (Fraction(5, 3), Fraction(-2, 3)), (Fraction(23, 12), Fraction(-5, 12)), (Fraction(13, 6), Fraction(-2, 3)), (Fraction(-11, 2), Fraction(3, 2)), (Fraction(-11, 2), Fraction(5, 4)), (Fraction(5, 1), Fraction(-3, 2)), (Fraction(11, 2), Fraction(-3, 2)), (Fraction(-5, 1), Fraction(3, 2)), (Fraction(-5, 1), Fraction(1, 1)), (Fraction(-21, 4), Fraction(3, 2)), (Fraction(-5, 1), Fraction(5, 4)), (Fraction(23, 4), Fraction(-5, 4)), (Fraction(-3, 8), Fraction(1, 4)), (Fraction(3, 8), Fraction(-1, 4)), (Fraction(1, 2), Fraction(1, 4)), (Fraction(3, 4), Fraction(1, 4)), (Fraction(-1, 4), Fraction(1, 2)), (Fraction(-3, 4), Fraction(1, 2)), (Fraction(0, 1), Fraction(1, 2)), (Fraction(7, 8), Fraction(-1, 4)), (Fraction(-3, 4), Fraction(-3, 4)), (Fraction(-1, 8), Fraction(0, 1)), (Fraction(3, 4), Fraction(-1, 4)), (Fraction(3, 4), Fraction(0, 1)), (Fraction(1, 4), Fraction(-3, 4)), (Fraction(1, 4), Fraction(-1, 4)), (Fraction(19, 12), Fraction(-5, 12)), (Fraction(5, 6), Fraction(1, 12)), (Fraction(-1, 6), Fraction(1, 3)), (Fraction(5, 6), Fraction(-2, 3)), (Fraction(-9, 2), Fraction(3, 2)), (Fraction(-4, 1), Fraction(1, 1)), (Fraction(-4, 1), Fraction(3, 2)), (Fraction(-9, 2), Fraction(5, 4)), (Fraction(-9, 2), Fraction(1, 1)), (Fraction(-17, 4), Fraction(3, 2)), (Fraction(-4, 1), Fraction(5, 4)), (Fraction(-17, 4), Fraction(5, 4)), (Fraction(-35, 8), Fraction(5, 4)), (Fraction(-33, 8), Fraction(5, 4)), (Fraction(-5, 8), Fraction(-1, 4)), (Fraction(-8, 1), Fraction(2, 1)), (Fraction(2, 1), Fraction(-1, 1)), (Fraction(5, 2), Fraction(-1, 1)), (Fraction(11, 4), Fraction(-1, 1)), (Fraction(-7, 2), Fraction(5, 6)), (Fraction(-3, 1), Fraction(5, 6)), (Fraction(3, 2), Fraction(-3, 4)), (Fraction(3, 2), Fraction(-1, 4)), (Fraction(9, 8), Fraction(-1, 2)), (Fraction(13, 8), Fraction(-3, 4)), (Fraction(1, 1), Fraction(-1, 4)), (Fraction(1, 1), Fraction(-3, 4)), (Fraction(1, 1), Fraction(0, 1)), (Fraction(1, 1), Fraction(-1, 2)), (Fraction(3, 2), Fraction(-1, 2)), (Fraction(5, 4), Fraction(-1, 2)), (Fraction(19, 6), Fraction(-5, 6)), (Fraction(1, 3), Fraction(-1, 6)), (Fraction(-1, 4), Fraction(1, 4)), (Fraction(1, 2), Fraction(-1, 4)), (Fraction(1, 4), Fraction(0, 1)), (Fraction(1, 8), Fraction(0, 1)), (Fraction(-3, 4), Fraction(0, 1)), (Fraction(3, 4), Fraction(-1, 2)), (Fraction(-1, 4), Fraction(-3, 4)), (Fraction(-1, 3), Fraction(0, 1)), (Fraction(2, 3), Fraction(0, 1)), (Fraction(-3, 4), Fraction(-1, 4)), (Fraction(1, 3), Fraction(0, 1)), (Fraction(-2, 3), Fraction(0, 1)), (Fraction(13, 2), Fraction(-3, 2)), (Fraction(6, 1), Fraction(-3, 2)), (Fraction(2, 3), Fraction(-1, 6)), (Fraction(7, 6), Fraction(-1, 6)), (Fraction(-1, 3), Fraction(-1, 6)), (Fraction(11, 12), Fraction(-1, 6)), (Fraction(-13, 8), Fraction(1, 2)), (Fraction(1, 1), Fraction(-1, 1)), (Fraction(3, 2), Fraction(-1, 1)), (Fraction(-5, 4), Fraction(-1, 4)), (Fraction(-13, 8), Fraction(0, 1)), (Fraction(-5, 4), Fraction(3, 4)), (Fraction(-5, 4), Fraction(0, 1)), (Fraction(-7, 4), Fraction(3, 4)), (Fraction(-3, 2), Fraction(1, 4)), (Fraction(-3, 2), Fraction(3, 4)), (Fraction(-1, 6), Fraction(-1, 6)), (Fraction(-5, 6), Fraction(1, 6)), (Fraction(5, 6), Fraction(-1, 6)), (Fraction(1, 6), Fraction(1, 6)), (Fraction(4, 3), Fraction(-1, 6)), (Fraction(-3, 2), Fraction(0, 1)), (Fraction(-3, 2), Fraction(1, 2)), (Fraction(-5, 4), Fraction(1, 4)), (Fraction(-7, 4), Fraction(1, 4)), (Fraction(-7, 4), Fraction(1, 2)), (Fraction(-11, 8), Fraction(1, 4)), (Fraction(-9, 8), Fraction(0, 1)), (Fraction(-15, 8), Fraction(1, 4)), (Fraction(-15, 8), Fraction(1, 2)), (Fraction(-11, 8), Fraction(3, 4)), (Fraction(-5, 2), Fraction(5, 6)), (Fraction(2, 1), Fraction(-5, 6)), (Fraction(5, 2), Fraction(-5, 6)), (Fraction(9, 4), Fraction(-5, 6)), (Fraction(-7, 3), Fraction(2, 3)), (Fraction(-11, 6), Fraction(2, 3)), (Fraction(-2, 1), Fraction(5, 6)), (Fraction(-25, 12), Fraction(2, 3)), (Fraction(-9, 4), Fraction(5, 6)), (Fraction(7, 3), Fraction(-2, 3)), (Fraction(11, 6), Fraction(-2, 3)), (Fraction(5, 8), Fraction(-3, 4)), (Fraction(-5, 8), Fraction(0, 1)), (Fraction(3, 4), Fraction(-3, 4)), (Fraction(-3, 8), Fraction(0, 1)), (Fraction(-7, 8), Fraction(0, 1)), (Fraction(1, 2), Fraction(-3, 4)), (Fraction(-1, 2), Fraction(1, 2)), (Fraction(3, 8), Fraction(0, 1)), (Fraction(-7, 8), Fraction(1, 4)), (Fraction(7, 8), Fraction(0, 1)), (Fraction(-11, 8), Fraction(0, 1)), (Fraction(-15, 8), Fraction(3, 4)), (Fraction(-7, 4), Fraction(0, 1)), (Fraction(-5, 4), Fraction(1, 2)), (Fraction(-11, 8), Fraction(1, 2)), (Fraction(-13, 8), Fraction(1, 4)), (Fraction(-9, 8), Fraction(3, 4)), (Fraction(5, 3), Fraction(-1, 3)), (Fraction(17, 12), Fraction(-1, 12)), (Fraction(-23, 6), Fraction(7, 6)), (Fraction(15, 4), Fraction(-3, 4)), (Fraction(27, 8), Fraction(-3, 4)), (Fraction(7, 2), Fraction(-1, 2)), (Fraction(3, 1), Fraction(0, 1)), (Fraction(29, 8), Fraction(-3, 4)), (Fraction(31, 8), Fraction(-3, 4)), (Fraction(-7, 1), Fraction(3, 2)), (Fraction(15, 2), Fraction(-3, 2)), (Fraction(-3, 2), Fraction(1, 12)), (Fraction(5, 4), Fraction(-1, 12)), (Fraction(1, 1), Fraction(-1, 3)), (Fraction(1, 1), Fraction(-1, 12)), (Fraction(7, 4), Fraction(-7, 12)), (Fraction(3, 2), Fraction(-1, 3)), (Fraction(-3, 2), Fraction(7, 12)), (Fraction(-5, 4), Fraction(1, 12)), (Fraction(-3, 2), Fraction(1, 3)), (Fraction(3, 2), Fraction(-7, 12)), (Fraction(-1, 1), Fraction(0, 1)), (Fraction(-2, 1), Fraction(1, 2)), (Fraction(-1, 1), Fraction(1, 2)), (Fraction(-9, 4), Fraction(3, 4)), (Fraction(-1, 1), Fraction(1, 4)), (Fraction(-5, 2), Fraction(3, 4)), (Fraction(-2, 1), Fraction(1, 4)), (Fraction(-2, 1), Fraction(3, 4)), (Fraction(3, 1), Fraction(-5, 6)), (Fraction(7, 2), Fraction(-5, 6)), (Fraction(-19, 6), Fraction(5, 6)), (Fraction(-8, 3), Fraction(5, 6)), (Fraction(-35, 12), Fraction(5, 6)), (Fraction(-1, 3), Fraction(1, 6)), (Fraction(7, 6), Fraction(-5, 6)), (Fraction(1, 1), Fraction(-1, 6)), (Fraction(3, 2), Fraction(-1, 6)), (Fraction(-13, 2), Fraction(3, 2)), (Fraction(-6, 1), Fraction(3, 2)), (Fraction(-6, 1), Fraction(1, 1)), (Fraction(-25, 4), Fraction(3, 2)), (Fraction(-14, 3), Fraction(4, 3)), (Fraction(-1, 2), Fraction(1, 3)), (Fraction(1, 4), Fraction(1, 12)), (Fraction(-7, 8), Fraction(1, 12)), (Fraction(1, 2), Fraction(-2, 3)), (Fraction(-5, 8), Fraction(1, 12)), (Fraction(-1, 4), Fraction(1, 12)), (Fraction(-1, 2), Fraction(1, 12)), (Fraction(-3, 8), Fraction(1, 12)), (Fraction(1, 2), Fraction(1, 12)), (Fraction(-3, 4), Fraction(1, 12)), (Fraction(-7, 3), Fraction(5, 6)), (Fraction(-31, 12), Fraction(5, 6)), (Fraction(-2, 1), Fraction(2, 3)), (Fraction(-1, 1), Fraction(2, 3)), (Fraction(-1, 1), Fraction(-1, 12)), (Fraction(-1, 1), Fraction(5, 12)), (Fraction(-11, 6), Fraction(5, 6)), (Fraction(4, 1), Fraction(-1, 1)), (Fraction(9, 2), Fraction(-1, 1)), (Fraction(-9, 2), Fraction(5, 6)), (Fraction(-4, 1), Fraction(4, 3)), (Fraction(5, 6), Fraction(-1, 3)), (Fraction(-1, 6), Fraction(-1, 12)), (Fraction(-7, 24), Fraction(-1, 12)), (Fraction(4, 3), Fraction(-1, 3)), (Fraction(-1, 6), Fraction(-1, 3)), (Fraction(5, 6), Fraction(-1, 12)), (Fraction(13, 12), Fraction(-1, 12)), (Fraction(-13, 6), Fraction(5, 6)), (Fraction(-5, 3), Fraction(5, 6)), (Fraction(-7, 6), Fraction(5, 6)), (Fraction(-7, 6), Fraction(-1, 6)), (Fraction(-2, 3), Fraction(-1, 6)), (Fraction(7, 12), Fraction(-1, 6)), (Fraction(3, 1), Fraction(-1, 1)), (Fraction(-13, 4), Fraction(3, 4)), (Fraction(-7, 2), Fraction(3, 4)), (Fraction(-7, 2), Fraction(1, 2)), (Fraction(13, 4), Fraction(-1, 1)), (Fraction(-3, 1), Fraction(1, 2)), (Fraction(-3, 1), Fraction(3, 4)), (Fraction(-1, 2), Fraction(1, 6)), (Fraction(1, 2), Fraction(-5, 6)), (Fraction(1, 2), Fraction(1, 6)), (Fraction(0, 1), Fraction(1, 6)), (Fraction(5, 8), Fraction(-1, 4)), (Fraction(-1, 2), Fraction(3, 4)), (Fraction(1, 2), Fraction(0, 1)), (Fraction(-3, 4), Fraction(1, 4)), (Fraction(-1, 4), Fraction(0, 1)), (Fraction(-1, 2), Fraction(-1, 4)), (Fraction(0, 1), Fraction(1, 4)), (Fraction(-1, 2), Fraction(1, 4)), (Fraction(0, 1), Fraction(-3, 4)), (Fraction(0, 1), Fraction(-1, 4)), (Fraction(-1, 3), Fraction(1, 12)), (Fraction(-5, 12), Fraction(-1, 12)), (Fraction(-7, 12), Fraction(1, 12)), (Fraction(-2, 3), Fraction(-1, 12)), (Fraction(-13, 24), Fraction(-1, 12)), (Fraction(1, 3), Fraction(-1, 12)), (Fraction(-11, 12), Fraction(-1, 12)), (Fraction(1, 3), Fraction(-1, 3)), (Fraction(1, 12), Fraction(-1, 12)), (Fraction(-1, 12), Fraction(1, 12)), (Fraction(-3, 1), Fraction(2, 3)), (Fraction(7, 2), Fraction(-7, 6)), (Fraction(3, 1), Fraction(-2, 3)), (Fraction(-1, 4), Fraction(-1, 12)), (Fraction(1, 8), Fraction(-1, 12)), (Fraction(-3, 4), Fraction(-1, 12)), (Fraction(1, 2), Fraction(-1, 3)), (Fraction(-3, 2), Fraction(1, 6)), (Fraction(23, 6), Fraction(-5, 6)), (Fraction(11, 6), Fraction(-5, 6)), (Fraction(-9, 4), Fraction(1, 2)), (Fraction(-11, 4), Fraction(1, 4)), (Fraction(-9, 4), Fraction(0, 1)), (Fraction(2, 1), Fraction(-2, 3)), (Fraction(5, 2), Fraction(-2, 3)), (Fraction(-5, 2), Fraction(0, 1)), (Fraction(-5, 2), Fraction(1, 4)), (Fraction(-19, 8), Fraction(1, 4)), (Fraction(-1, 1), Fraction(-1, 2)), (Fraction(-17, 8), Fraction(1, 4)), (Fraction(-7, 6), Fraction(1, 3)), (Fraction(-2, 3), Fraction(1, 3)), (Fraction(-1, 3), Fraction(-1, 3)), (Fraction(1, 3), Fraction(-2, 3)), (Fraction(1, 3), Fraction(1, 12)), (Fraction(7, 12), Fraction(1, 12)), (Fraction(-13, 24), Fraction(1, 12)), (Fraction(7, 6), Fraction(-1, 12)), (Fraction(13, 24), Fraction(-1, 12)), (Fraction(-5, 3), Fraction(5, 12)), (Fraction(-17, 12), Fraction(-1, 12)), (Fraction(-13, 6), Fraction(2, 3)), (Fraction(-19, 4), Fraction(3, 4)), (Fraction(-4, 1), Fraction(3, 4)), (Fraction(-9, 2), Fraction(3, 4)), (Fraction(-17, 4), Fraction(3, 4)), (Fraction(-35, 8), Fraction(3, 4)), (Fraction(-33, 8), Fraction(3, 4)), (Fraction(-9, 2), Fraction(1, 2)), (Fraction(-4, 1), Fraction(1, 2)), (Fraction(-4, 1), Fraction(2, 3)), (Fraction(1, 6), Fraction(1, 12)), (Fraction(-13, 12), Fraction(1, 12)), (Fraction(-19, 12), Fraction(1, 12)), (Fraction(-5, 6), Fraction(1, 12)), (Fraction(-17, 24), Fraction(1, 12)), (Fraction(-4, 3), Fraction(1, 3)), (Fraction(-4, 3), Fraction(1, 12)), (Fraction(-5, 6), Fraction(1, 3)), (Fraction(1, 6), Fraction(-1, 3)), (Fraction(1, 6), Fraction(1, 3)), (Fraction(-8, 3), Fraction(1, 3)), (Fraction(-29, 12), Fraction(7, 12)), (Fraction(-7, 24), Fraction(1, 12)), (Fraction(6, 1), Fraction(-2, 1)), (Fraction(-6, 1), Fraction(2, 1)), (Fraction(-8, 3), Fraction(2, 3)), (Fraction(-19, 6), Fraction(2, 3)), (Fraction(-3, 2), Fraction(1, 1)), (Fraction(-3, 2), Fraction(3, 2)), (Fraction(-7, 4), Fraction(1, 1)), (Fraction(-29, 12), Fraction(2, 3)), (Fraction(8, 3), Fraction(-2, 3)), (Fraction(3, 1), Fraction(-3, 2)), (Fraction(-3, 1), Fraction(3, 2)), (Fraction(31, 8), Fraction(-5, 4)), (Fraction(3, 1), Fraction(-5, 4)), (Fraction(-15, 4), Fraction(1, 1)), (Fraction(-13, 4), Fraction(3, 2)), (Fraction(-13, 4), Fraction(1, 1)), (Fraction(-15, 4), Fraction(3, 2)), (Fraction(-15, 4), Fraction(5, 4)), (Fraction(-13, 4), Fraction(5, 4)), (Fraction(-17, 8), Fraction(3, 4)), (Fraction(-11, 4), Fraction(3, 4)), (Fraction(-19, 8), Fraction(3, 4)), (Fraction(-2, 1), Fraction(0, 1)), (Fraction(-5, 2), Fraction(1, 2)), (Fraction(-23, 8), Fraction(3, 4)), (Fraction(-21, 8), Fraction(3, 4)), (Fraction(-1, 1), Fraction(3, 4)), (Fraction(-9, 4), Fraction(1, 4)), (Fraction(-1, 1), Fraction(-1, 4)), (Fraction(-13, 3), Fraction(4, 3)), (Fraction(-23, 6), Fraction(5, 6)), (Fraction(5, 3), Fraction(-1, 6)), (Fraction(-21, 4), Fraction(3, 4)), (Fraction(-5, 1), Fraction(3, 4)), (Fraction(5, 1), Fraction(-1, 1)), (Fraction(11, 2), Fraction(-1, 1)), (Fraction(11, 12), Fraction(1, 12)), (Fraction(-5, 24), Fraction(1, 12)), (Fraction(7, 6), Fraction(-2, 3)), (Fraction(5, 24), Fraction(-1, 12)), (Fraction(-7, 3), Fraction(1, 3)), (Fraction(-25, 12), Fraction(7, 12)), (Fraction(-11, 6), Fraction(1, 3)), (Fraction(17, 8), Fraction(-3, 4)), (Fraction(21, 8), Fraction(-3, 4)), (Fraction(2, 1), Fraction(-1, 2)), (Fraction(19, 8), Fraction(-3, 4)), (Fraction(11, 4), Fraction(-1, 2)), (Fraction(5, 2), Fraction(0, 1)), (Fraction(23, 8), Fraction(-3, 4)), (Fraction(4, 1), Fraction(-4, 3)), (Fraction(-11, 24), Fraction(1, 12)), (Fraction(-7, 6), Fraction(-1, 12)), (Fraction(-2, 3), Fraction(2, 3)), (Fraction(7, 12), Fraction(-1, 12)), (Fraction(5, 12), Fraction(1, 12)), (Fraction(-1, 3), Fraction(1, 3)), (Fraction(-2, 3), Fraction(-1, 3)), (Fraction(2, 3), Fraction(-2, 3)), (Fraction(2, 3), Fraction(1, 12)), (Fraction(7, 6), Fraction(1, 12)), (Fraction(5, 1), Fraction(-3, 4)), (Fraction(13, 6), Fraction(-5, 6)), (Fraction(5, 3), Fraction(-5, 6)), (Fraction(-7, 1), Fraction(2, 1)), (Fraction(5, 2), Fraction(-3, 2)), (Fraction(11, 4), Fraction(-5, 4)), (Fraction(2, 1), Fraction(-3, 2)), (Fraction(10, 3), Fraction(-2, 3)), (Fraction(-25, 6), Fraction(5, 6)), (Fraction(25, 6), Fraction(-5, 6)), (Fraction(-1, 12), Fraction(-1, 12)), (Fraction(-11, 12), Fraction(1, 12)), (Fraction(-1, 3), Fraction(-1, 12)), (Fraction(-7, 6), Fraction(1, 12)), (Fraction(-5, 24), Fraction(-1, 12)), (Fraction(-25, 24), Fraction(1, 12)), (Fraction(2, 3), Fraction(-1, 12)), (Fraction(-7, 12), Fraction(-1, 12)), (Fraction(2, 3), Fraction(-1, 3)), (Fraction(7, 6), Fraction(-1, 3)), (Fraction(-9, 8), Fraction(1, 4)), (Fraction(-13, 8), Fraction(3, 4)), (Fraction(-3, 2), Fraction(-1, 2)), (Fraction(-3, 2), Fraction(-1, 4)), (Fraction(7, 4), Fraction(-1, 1)), (Fraction(-1, 1), Fraction(1, 6)), (Fraction(-1, 4), Fraction(-1, 4)), (Fraction(1, 4), Fraction(1, 4)), (Fraction(-1, 2), Fraction(0, 1)), (Fraction(1, 2), Fraction(-1, 2)), (Fraction(0, 1), Fraction(0, 1)), (Fraction(5, 8), Fraction(0, 1)), (Fraction(1, 8), Fraction(-3, 4)), (Fraction(1, 8), Fraction(-1, 4)), (Fraction(-3, 8), Fraction(-1, 4)), (Fraction(1, 8), Fraction(1, 4)), (Fraction(4, 3), Fraction(-5, 6)), (Fraction(-5, 1), Fraction(2, 1)), (Fraction(-11, 2), Fraction(2, 1)), (Fraction(-3, 4), Fraction(3, 4)), (Fraction(3, 8), Fraction(-3, 4)), (Fraction(-5, 8), Fraction(1, 4)), (Fraction(-1, 8), Fraction(-1, 4)), (Fraction(3, 8), Fraction(1, 4)), (Fraction(-11, 3), Fraction(5, 6)), (Fraction(-4, 3), Fraction(5, 12)), (Fraction(-13, 12), Fraction(-1, 12)), (Fraction(1, 6), Fraction(-1, 12)), (Fraction(-2, 3), Fraction(1, 12)), (Fraction(5, 12), Fraction(-1, 12)), (Fraction(-5, 12), Fraction(1, 12)), (Fraction(1, 24), Fraction(-1, 12)), (Fraction(-19, 24), Fraction(1, 12)), (Fraction(-5, 6), Fraction(-1, 12)), (Fraction(-1, 3), Fraction(2, 3)), (Fraction(11, 12), Fraction(-1, 12)), (Fraction(1, 12), Fraction(1, 12)), (Fraction(-19, 4), Fraction(1, 1)), (Fraction(-19, 4), Fraction(5, 4)), (Fraction(1, 6), Fraction(-1, 6)), (Fraction(-5, 6), Fraction(5, 6)), (Fraction(-25, 6), Fraction(7, 6)), (Fraction(-1, 6), Fraction(1, 6)), (Fraction(4, 1), Fraction(-3, 4)), (Fraction(17, 4), Fraction(-3, 4)), (Fraction(-5, 6), Fraction(-1, 6)), (Fraction(5, 6), Fraction(-5, 6)), (Fraction(-4, 3), Fraction(5, 6)), (Fraction(9, 2), Fraction(-3, 4)), (Fraction(19, 4), Fraction(-3, 4)), (Fraction(4, 1), Fraction(-1, 2)), (Fraction(-17, 12), Fraction(1, 12)), (Fraction(-13, 6), Fraction(7, 12)), (Fraction(-23, 12), Fraction(1, 12)), (Fraction(-5, 3), Fraction(1, 3)), (Fraction(-5, 3), Fraction(1, 12)), (Fraction(-17, 12), Fraction(1, 3)), (Fraction(-13, 6), Fraction(1, 3)), (Fraction(0, 1), Fraction(1, 12)), (Fraction(0, 1), Fraction(-2, 3)), (Fraction(0, 1), Fraction(1, 3)), (Fraction(-1, 8), Fraction(1, 12)), (Fraction(2, 1), Fraction(-1, 3)), (Fraction(3, 4), Fraction(1, 12)), (Fraction(-11, 6), Fraction(1, 6)), (Fraction(-3, 1), Fraction(1, 1)), (Fraction(15, 4), Fraction(-5, 4)), (Fraction(7, 2), Fraction(-5, 4)), (Fraction(-7, 2), Fraction(1, 1)), (Fraction(-7, 2), Fraction(3, 2)), (Fraction(29, 8), Fraction(-5, 4)), (Fraction(13, 4), Fraction(-5, 4)), (Fraction(-7, 2), Fraction(5, 4)), (Fraction(-3, 1), Fraction(5, 4)), (Fraction(7, 2), Fraction(-3, 2)), (Fraction(-1, 8), Fraction(1, 4)), (Fraction(7, 8), Fraction(-3, 4)), (Fraction(-1, 2), Fraction(-1, 2)), (Fraction(0, 1), Fraction(-1, 2)), (Fraction(1, 4), Fraction(-1, 2)), (Fraction(-1, 2), Fraction(-3, 4)), (Fraction(1, 2), Fraction(1, 2)), (Fraction(-1, 4), Fraction(3, 4)), (Fraction(0, 1), Fraction(1, 1)), (Fraction(-1, 2), Fraction(1, 1)), (Fraction(5, 4), Fraction(1, 4)), (Fraction(1, 1), Fraction(1, 2)), (Fraction(9, 8), Fraction(0, 1)), (Fraction(3, 2), Fraction(-5, 6)), (Fraction(1, 1), Fraction(-5, 6)), (Fraction(-2, 1), Fraction(1, 1)), (Fraction(-5, 2), Fraction(1, 1)), (Fraction(-5, 2), Fraction(5, 4)), (Fraction(-1, 1), Fraction(1, 1)), (Fraction(-5, 2), Fraction(3, 2)), (Fraction(-2, 1), Fraction(3, 2)), (Fraction(-11, 4), Fraction(1, 1)), (Fraction(-9, 4), Fraction(1, 1)), (Fraction(-3, 2), Fraction(2, 3)), (Fraction(7, 4), Fraction(-2, 3)), (Fraction(3, 2), Fraction(-2, 3)), (Fraction(5, 4), Fraction(-5, 12)), (Fraction(1, 1), Fraction(-2, 3)), (Fraction(1, 2), Fraction(-1, 1)), (Fraction(1, 2), Fraction(-1, 6)), (Fraction(0, 1), Fraction(-1, 6)), (Fraction(-1, 2), Fraction(-1, 6)), (Fraction(1, 4), Fraction(-1, 6)), (Fraction(-1, 2), Fraction(5, 6)), (Fraction(13, 4), Fraction(-3, 4)), (Fraction(-11, 6), Fraction(7, 12)), (Fraction(3, 1), Fraction(-3, 4)), (Fraction(25, 8), Fraction(-3, 4)), (Fraction(7, 2), Fraction(-3, 4)), (Fraction(7, 4), Fraction(0, 1)), (Fraction(3, 2), Fraction(0, 1)), (Fraction(1, 1), Fraction(1, 4)), (Fraction(7, 4), Fraction(-1, 2)), (Fraction(3, 1), Fraction(-1, 2)), (Fraction(15, 8), Fraction(-1, 4)), (Fraction(13, 8), Fraction(-1, 2)), (Fraction(11, 8), Fraction(-1, 4)), (Fraction(11, 8), Fraction(-3, 4)), (Fraction(-13, 6), Fraction(1, 6)), (Fraction(9, 2), Fraction(-5, 4)), (Fraction(9, 2), Fraction(-3, 2)), (Fraction(4, 1), Fraction(-3, 2)), (Fraction(17, 4), Fraction(-3, 2)), (Fraction(4, 3), Fraction(-2, 3)), (Fraction(-1, 6), Fraction(1, 12)), (Fraction(4, 1), Fraction(-5, 4)), (Fraction(17, 4), Fraction(-5, 4)), (Fraction(1, 4), Fraction(1, 2)), (Fraction(0, 1), Fraction(3, 4)), (Fraction(1, 2), Fraction(3, 4)), (Fraction(1, 4), Fraction(3, 4)), (Fraction(-7, 8), Fraction(3, 4)), (Fraction(-5, 8), Fraction(3, 4)), (Fraction(-7, 8), Fraction(-1, 4)), (Fraction(-17, 6), Fraction(5, 6)), (Fraction(-17, 6), Fraction(2, 3)), (Fraction(-10, 3), Fraction(5, 6)), (Fraction(11, 3), Fraction(-2, 3)), (Fraction(-1, 1), Fraction(1, 12)), (Fraction(-2, 1), Fraction(1, 3)), (Fraction(-1, 1), Fraction(1, 3)), (Fraction(0, 1), Fraction(-1, 3)), (Fraction(3, 4), Fraction(-1, 3)), (Fraction(1, 2), Fraction(-1, 12)), (Fraction(-3, 8), Fraction(-1, 12)), (Fraction(-1, 8), Fraction(-1, 12)), (Fraction(1, 4), Fraction(-1, 12)), (Fraction(0, 1), Fraction(-1, 12)), (Fraction(3, 8), Fraction(-1, 12)), (Fraction(-1, 2), Fraction(-1, 12)), (Fraction(3, 4), Fraction(-1, 12)), (Fraction(19, 4), Fraction(-5, 4)), (Fraction(1, 24), Fraction(1, 12)), (Fraction(-13, 12), Fraction(1, 3)), (Fraction(-17, 8), Fraction(1, 2)), (Fraction(-27, 8), Fraction(3, 4)), (Fraction(-15, 4), Fraction(3, 4)), (Fraction(7, 2), Fraction(-1, 1)), (Fraction(-25, 8), Fraction(3, 4)), (Fraction(-3, 1), Fraction(1, 4)), (Fraction(-3, 1), Fraction(0, 1)), (Fraction(-3, 2), Fraction(5, 6)), (Fraction(-7, 6), Fraction(1, 6)), (Fraction(-2, 3), Fraction(1, 6)), (Fraction(17, 6), Fraction(-5, 6)), (Fraction(5, 2), Fraction(-1, 4)), (Fraction(9, 4), Fraction(-1, 2)), (Fraction(2, 1), Fraction(-1, 4)), (Fraction(5, 2), Fraction(-1, 2)), (Fraction(9, 4), Fraction(-1, 4)), (Fraction(2, 1), Fraction(0, 1)), (Fraction(9, 4), Fraction(-3, 4)), (Fraction(11, 4), Fraction(-3, 4)), (Fraction(2, 1), Fraction(-3, 4)), (Fraction(5, 2), Fraction(-3, 4))]\n"
     ]
    }
   ],
   "source": [
    "# eliminate from first to the second last\n",
    "ret = matrix.copy()\n",
    "while len(ret[0]) > 2:\n",
    "    newMatrix = []\n",
    "    for x in ret:\n",
    "        if x[0] == zero:\n",
    "            newMatrix.append(x[1:])\n",
    "    \n",
    "    for i in range(len(ret)):\n",
    "        for j in range(i+1, len(ret)):\n",
    "            \n",
    "            if ret[i][0] == zero or ret[j][0] == 0:\n",
    "                continue\n",
    "                \n",
    "            first = list(ret[i])\n",
    "            second = list(ret[j])\n",
    "            first = [x/ret[i][0] for x in first]\n",
    "            second = [x/ret[j][0] for x in second]\n",
    "            \n",
    "            diff = [first[i] - second[i] for i in range(len(first))]\n",
    "            \n",
    "            newMatrix.append(diff[1:])\n",
    "    \n",
    "    # remove duplicate\n",
    "    newMatrix = [tuple(x) for x in newMatrix]\n",
    "    newMatrix = list(set(newMatrix))\n",
    "    \n",
    "    ret = newMatrix\n",
    "    \n",
    "    print(ret)"
   ]
  },
  {
   "cell_type": "code",
   "execution_count": 38,
   "metadata": {},
   "outputs": [
    {
     "data": {
      "text/plain": [
       "Fraction(1, 23)"
      ]
     },
     "execution_count": 38,
     "metadata": {},
     "output_type": "execute_result"
    }
   ],
   "source": [
    "# every x, theta, epsilon, d variable and constant term are on the left only zero on the right\n",
    "candidates = []\n",
    "for pair in ret:\n",
    "    if pair[0]:\n",
    "        candidates.append(-pair[1]/pair[0])\n",
    "min([x for x in candidates if x>0])"
   ]
  },
  {
   "cell_type": "markdown",
   "metadata": {},
   "source": [
    "# log linear xy"
   ]
  },
  {
   "cell_type": "code",
   "execution_count": 39,
   "metadata": {},
   "outputs": [],
   "source": [
    "# two output linear\n",
    "\n",
    "pmatrix = []\n",
    "generatePMatrix([2,2],pmatrix)\n",
    "\n",
    "epsilon = [1]\n",
    "nepsilon = [-1]\n",
    "notheta = 1\n",
    "d = [1]\n",
    "nd = [-1]\n",
    "theta = []\n",
    "for i in range(notheta):\n",
    "    temp = [0 for  _ in range(notheta)]\n",
    "    temp[i] = 1\n",
    "    theta.append(temp)\n",
    "    \n",
    "t = generateOneBitCondition([2,2])\n",
    "onebit = []\n",
    "#b - s >= epsilon\n",
    "for pair in t:\n",
    "    s = pmatrix[pair[0]]\n",
    "    b = pmatrix[pair[1]]\n",
    "    diff = [b[i] - s[i] for i in range(len(b))]\n",
    "    onebit.append(diff)\n",
    "    \n",
    "# last term for the constant term\n",
    "oneBitEps = []\n",
    "for x in onebit:\n",
    "    oneBitEps.append(x + [0 for i in range(notheta)] + nepsilon +[0] + [0])\n",
    "    \n",
    "polyWithTheta = []\n",
    "for x in pmatrix:\n",
    "    for y in theta:\n",
    "        y = [-t for t in y]\n",
    "        polyWithTheta.append(x+y+ [0,0] + [0])\n",
    "        \n",
    "lBoundD = [[0,1,0,0,0,0,-1,0],[0,0,0,1,0,0,-1,0]]\n",
    "thetaBoundD =[[0,0,0,0,1,0,-1,0]]\n",
    "\n",
    "sdr = [[1 for _ in range(len(polyWithTheta[0]))]]\n",
    "sdr[0][-3:-1] = [0,0]\n",
    "sdr[0][-1] = 0"
   ]
  },
  {
   "cell_type": "code",
   "execution_count": 40,
   "metadata": {},
   "outputs": [],
   "source": [
    "matrix = polyWithTheta + oneBitEps + lBoundD + thetaBoundD + sdr "
   ]
  },
  {
   "cell_type": "code",
   "execution_count": 41,
   "metadata": {},
   "outputs": [],
   "source": [
    "# eliminate from first to the second last\n",
    "# get bound for epsilon first\n",
    "ret = matrix.copy()\n",
    "while len(ret[0]) > 3:\n",
    "    newMatrix = []\n",
    "    for x in ret:\n",
    "        if x[0] == 0:\n",
    "            newMatrix.append(x[1:])\n",
    "    \n",
    "    for i in range(len(ret)):\n",
    "        for j in range(i+1, len(ret)):\n",
    "            \n",
    "            if ret[i][0] == 0 or ret[j][0] == 0:\n",
    "                continue\n",
    "                \n",
    "            first = list(ret[i])\n",
    "            second = list(ret[j])\n",
    "            first = [x/ret[i][0] for x in first]\n",
    "            second = [x/ret[j][0] for x in second]\n",
    "            \n",
    "            diff = [first[i] - second[i] for i in range(len(first))]\n",
    "            \n",
    "            newMatrix.append(diff[1:])\n",
    "    \n",
    "    # remove duplicate\n",
    "    newMatrix = [tuple(x) for x in newMatrix]\n",
    "    newMatrix = list(set(newMatrix))\n",
    "    \n",
    "    ret = newMatrix\n",
    "    \n",
    "    #print(ret)"
   ]
  },
  {
   "cell_type": "code",
   "execution_count": 42,
   "metadata": {},
   "outputs": [
    {
     "data": {
      "text/plain": [
       "3.833333333333333"
      ]
     },
     "execution_count": 42,
     "metadata": {},
     "output_type": "execute_result"
    }
   ],
   "source": [
    "candidates = []\n",
    "for pair in ret:\n",
    "    if pair[1]:\n",
    "        candidates.append(-pair[0]/pair[1])\n",
    "max([x for x in candidates if x>0])"
   ]
  },
  {
   "cell_type": "markdown",
   "metadata": {},
   "source": [
    "# log linear (x+y)z"
   ]
  },
  {
   "cell_type": "code",
   "execution_count": 47,
   "metadata": {},
   "outputs": [],
   "source": [
    "# two outputs\n",
    "\n",
    "pmatrix = []\n",
    "generatePMatrix([4,2],pmatrix)\n",
    "\n",
    "epsilon = [1]\n",
    "nepsilon = [-1]\n",
    "notheta = 2\n",
    "d = [1]\n",
    "nd = [-1]\n",
    "theta = []\n",
    "for i in range(notheta):\n",
    "    temp = [0 for  _ in range(notheta)]\n",
    "    temp[i] = 1\n",
    "    theta.append(temp)\n",
    "    \n",
    "t = generateOneBitCondition([4,2])\n",
    "onebit = []\n",
    "#b - s >= epsilon\n",
    "for pair in t:\n",
    "    s = pmatrix[pair[0]]\n",
    "    b = pmatrix[pair[1]]\n",
    "    diff = [b[i] - s[i] for i in range(len(b))]\n",
    "    onebit.append(diff)\n",
    "    \n",
    "# last term for the constant term\n",
    "oneBitEps = []\n",
    "for x in onebit:\n",
    "    oneBitEps.append(x + [0 for i in range(notheta)] + nepsilon +[0] + [0])\n",
    "    \n",
    "polyWithTheta = []\n",
    "for x in pmatrix:\n",
    "    for y in theta:\n",
    "        y = [-t for t in y]\n",
    "        polyWithTheta.append(x+y+ [0,0] + [0])\n",
    "        \n",
    "lBoundD = [[0,0,0,1,0,0,0,0,0,-1,0],[0,0,0,0,0,1,0,0,0,-1,0]]\n",
    "\n",
    "thetaBoundD =[[0,0,0,0,0,0,1,0,0,-1,0],[0,0,0,0,0,0,0,1,0,-1,0]]\n",
    "\n",
    "thetaOrder = [[0,0,0,0,0,0,0,0,0,0,0]]\n",
    "\n",
    "sdr = [[1 for _ in range(len(polyWithTheta[0]))]]\n",
    "sdr[0][-3:] = [0,0,0]"
   ]
  },
  {
   "cell_type": "code",
   "execution_count": 48,
   "metadata": {},
   "outputs": [],
   "source": [
    "matrix = polyWithTheta + oneBitEps + lBoundD + thetaBoundD + sdr "
   ]
  },
  {
   "cell_type": "code",
   "execution_count": 50,
   "metadata": {},
   "outputs": [
    {
     "data": {
      "text/plain": [
       "26"
      ]
     },
     "execution_count": 50,
     "metadata": {},
     "output_type": "execute_result"
    }
   ],
   "source": [
    "matrix.__len__()"
   ]
  },
  {
   "cell_type": "code",
   "execution_count": 56,
   "metadata": {},
   "outputs": [
    {
     "name": "stdout",
     "output_type": "stream",
     "text": [
      "11\n",
      "10\n",
      "9\n",
      "8\n"
     ]
    },
    {
     "ename": "KeyboardInterrupt",
     "evalue": "",
     "output_type": "error",
     "traceback": [
      "\u001b[0;31m---------------------------------------------------------------------------\u001b[0m",
      "\u001b[0;31mKeyboardInterrupt\u001b[0m                         Traceback (most recent call last)",
      "\u001b[0;32m<ipython-input-56-f89a5bdab211>\u001b[0m in \u001b[0;36m<module>\u001b[0;34m\u001b[0m\n\u001b[1;32m     19\u001b[0m             \u001b[0mfirstLC\u001b[0m \u001b[0;34m=\u001b[0m \u001b[0mfirst\u001b[0m\u001b[0;34m[\u001b[0m\u001b[0;36m0\u001b[0m\u001b[0;34m]\u001b[0m\u001b[0;34m\u001b[0m\u001b[0;34m\u001b[0m\u001b[0m\n\u001b[1;32m     20\u001b[0m             \u001b[0msecondLC\u001b[0m \u001b[0;34m=\u001b[0m \u001b[0msecond\u001b[0m\u001b[0;34m[\u001b[0m\u001b[0;36m0\u001b[0m\u001b[0;34m]\u001b[0m\u001b[0;34m\u001b[0m\u001b[0;34m\u001b[0m\u001b[0m\n\u001b[0;32m---> 21\u001b[0;31m             \u001b[0mfirst\u001b[0m \u001b[0;34m=\u001b[0m \u001b[0;34m[\u001b[0m\u001b[0mx\u001b[0m\u001b[0;34m*\u001b[0m\u001b[0msecondLC\u001b[0m \u001b[0;32mfor\u001b[0m \u001b[0mx\u001b[0m \u001b[0;32min\u001b[0m \u001b[0mfirst\u001b[0m\u001b[0;34m]\u001b[0m\u001b[0;34m\u001b[0m\u001b[0;34m\u001b[0m\u001b[0m\n\u001b[0m\u001b[1;32m     22\u001b[0m             \u001b[0msecond\u001b[0m \u001b[0;34m=\u001b[0m \u001b[0;34m[\u001b[0m\u001b[0mx\u001b[0m\u001b[0;34m*\u001b[0m\u001b[0mfirstLC\u001b[0m \u001b[0;32mfor\u001b[0m \u001b[0mx\u001b[0m \u001b[0;32min\u001b[0m \u001b[0msecond\u001b[0m\u001b[0;34m]\u001b[0m\u001b[0;34m\u001b[0m\u001b[0;34m\u001b[0m\u001b[0m\n\u001b[1;32m     23\u001b[0m \u001b[0;34m\u001b[0m\u001b[0m\n",
      "\u001b[0;32m<ipython-input-56-f89a5bdab211>\u001b[0m in \u001b[0;36m<listcomp>\u001b[0;34m(.0)\u001b[0m\n\u001b[1;32m     19\u001b[0m             \u001b[0mfirstLC\u001b[0m \u001b[0;34m=\u001b[0m \u001b[0mfirst\u001b[0m\u001b[0;34m[\u001b[0m\u001b[0;36m0\u001b[0m\u001b[0;34m]\u001b[0m\u001b[0;34m\u001b[0m\u001b[0;34m\u001b[0m\u001b[0m\n\u001b[1;32m     20\u001b[0m             \u001b[0msecondLC\u001b[0m \u001b[0;34m=\u001b[0m \u001b[0msecond\u001b[0m\u001b[0;34m[\u001b[0m\u001b[0;36m0\u001b[0m\u001b[0;34m]\u001b[0m\u001b[0;34m\u001b[0m\u001b[0;34m\u001b[0m\u001b[0m\n\u001b[0;32m---> 21\u001b[0;31m             \u001b[0mfirst\u001b[0m \u001b[0;34m=\u001b[0m \u001b[0;34m[\u001b[0m\u001b[0mx\u001b[0m\u001b[0;34m*\u001b[0m\u001b[0msecondLC\u001b[0m \u001b[0;32mfor\u001b[0m \u001b[0mx\u001b[0m \u001b[0;32min\u001b[0m \u001b[0mfirst\u001b[0m\u001b[0;34m]\u001b[0m\u001b[0;34m\u001b[0m\u001b[0;34m\u001b[0m\u001b[0m\n\u001b[0m\u001b[1;32m     22\u001b[0m             \u001b[0msecond\u001b[0m \u001b[0;34m=\u001b[0m \u001b[0;34m[\u001b[0m\u001b[0mx\u001b[0m\u001b[0;34m*\u001b[0m\u001b[0mfirstLC\u001b[0m \u001b[0;32mfor\u001b[0m \u001b[0mx\u001b[0m \u001b[0;32min\u001b[0m \u001b[0msecond\u001b[0m\u001b[0;34m]\u001b[0m\u001b[0;34m\u001b[0m\u001b[0;34m\u001b[0m\u001b[0m\n\u001b[1;32m     23\u001b[0m \u001b[0;34m\u001b[0m\u001b[0m\n",
      "\u001b[0;32m~/anaconda3/envs/tensorflow_env/lib/python3.6/fractions.py\u001b[0m in \u001b[0;36mforward\u001b[0;34m(a, b)\u001b[0m\n\u001b[1;32m    374\u001b[0m         \u001b[0;32mdef\u001b[0m \u001b[0mforward\u001b[0m\u001b[0;34m(\u001b[0m\u001b[0ma\u001b[0m\u001b[0;34m,\u001b[0m \u001b[0mb\u001b[0m\u001b[0;34m)\u001b[0m\u001b[0;34m:\u001b[0m\u001b[0;34m\u001b[0m\u001b[0;34m\u001b[0m\u001b[0m\n\u001b[1;32m    375\u001b[0m             \u001b[0;32mif\u001b[0m \u001b[0misinstance\u001b[0m\u001b[0;34m(\u001b[0m\u001b[0mb\u001b[0m\u001b[0;34m,\u001b[0m \u001b[0;34m(\u001b[0m\u001b[0mint\u001b[0m\u001b[0;34m,\u001b[0m \u001b[0mFraction\u001b[0m\u001b[0;34m)\u001b[0m\u001b[0;34m)\u001b[0m\u001b[0;34m:\u001b[0m\u001b[0;34m\u001b[0m\u001b[0;34m\u001b[0m\u001b[0m\n\u001b[0;32m--> 376\u001b[0;31m                 \u001b[0;32mreturn\u001b[0m \u001b[0mmonomorphic_operator\u001b[0m\u001b[0;34m(\u001b[0m\u001b[0ma\u001b[0m\u001b[0;34m,\u001b[0m \u001b[0mb\u001b[0m\u001b[0;34m)\u001b[0m\u001b[0;34m\u001b[0m\u001b[0;34m\u001b[0m\u001b[0m\n\u001b[0m\u001b[1;32m    377\u001b[0m             \u001b[0;32melif\u001b[0m \u001b[0misinstance\u001b[0m\u001b[0;34m(\u001b[0m\u001b[0mb\u001b[0m\u001b[0;34m,\u001b[0m \u001b[0mfloat\u001b[0m\u001b[0;34m)\u001b[0m\u001b[0;34m:\u001b[0m\u001b[0;34m\u001b[0m\u001b[0;34m\u001b[0m\u001b[0m\n\u001b[1;32m    378\u001b[0m                 \u001b[0;32mreturn\u001b[0m \u001b[0mfallback_operator\u001b[0m\u001b[0;34m(\u001b[0m\u001b[0mfloat\u001b[0m\u001b[0;34m(\u001b[0m\u001b[0ma\u001b[0m\u001b[0;34m)\u001b[0m\u001b[0;34m,\u001b[0m \u001b[0mb\u001b[0m\u001b[0;34m)\u001b[0m\u001b[0;34m\u001b[0m\u001b[0;34m\u001b[0m\u001b[0m\n",
      "\u001b[0;32m~/anaconda3/envs/tensorflow_env/lib/python3.6/fractions.py\u001b[0m in \u001b[0;36m_mul\u001b[0;34m(a, b)\u001b[0m\n\u001b[1;32m    417\u001b[0m     \u001b[0;32mdef\u001b[0m \u001b[0m_mul\u001b[0m\u001b[0;34m(\u001b[0m\u001b[0ma\u001b[0m\u001b[0;34m,\u001b[0m \u001b[0mb\u001b[0m\u001b[0;34m)\u001b[0m\u001b[0;34m:\u001b[0m\u001b[0;34m\u001b[0m\u001b[0;34m\u001b[0m\u001b[0m\n\u001b[1;32m    418\u001b[0m         \u001b[0;34m\"\"\"a * b\"\"\"\u001b[0m\u001b[0;34m\u001b[0m\u001b[0;34m\u001b[0m\u001b[0m\n\u001b[0;32m--> 419\u001b[0;31m         \u001b[0;32mreturn\u001b[0m \u001b[0mFraction\u001b[0m\u001b[0;34m(\u001b[0m\u001b[0ma\u001b[0m\u001b[0;34m.\u001b[0m\u001b[0mnumerator\u001b[0m \u001b[0;34m*\u001b[0m \u001b[0mb\u001b[0m\u001b[0;34m.\u001b[0m\u001b[0mnumerator\u001b[0m\u001b[0;34m,\u001b[0m \u001b[0ma\u001b[0m\u001b[0;34m.\u001b[0m\u001b[0mdenominator\u001b[0m \u001b[0;34m*\u001b[0m \u001b[0mb\u001b[0m\u001b[0;34m.\u001b[0m\u001b[0mdenominator\u001b[0m\u001b[0;34m)\u001b[0m\u001b[0;34m\u001b[0m\u001b[0;34m\u001b[0m\u001b[0m\n\u001b[0m\u001b[1;32m    420\u001b[0m \u001b[0;34m\u001b[0m\u001b[0m\n\u001b[1;32m    421\u001b[0m     \u001b[0m__mul__\u001b[0m\u001b[0;34m,\u001b[0m \u001b[0m__rmul__\u001b[0m \u001b[0;34m=\u001b[0m \u001b[0m_operator_fallbacks\u001b[0m\u001b[0;34m(\u001b[0m\u001b[0m_mul\u001b[0m\u001b[0;34m,\u001b[0m \u001b[0moperator\u001b[0m\u001b[0;34m.\u001b[0m\u001b[0mmul\u001b[0m\u001b[0;34m)\u001b[0m\u001b[0;34m\u001b[0m\u001b[0;34m\u001b[0m\u001b[0m\n",
      "\u001b[0;32m~/anaconda3/envs/tensorflow_env/lib/python3.6/fractions.py\u001b[0m in \u001b[0;36m__new__\u001b[0;34m(cls, numerator, denominator, _normalize)\u001b[0m\n\u001b[1;32m    180\u001b[0m             \u001b[0;32mif\u001b[0m \u001b[0mtype\u001b[0m\u001b[0;34m(\u001b[0m\u001b[0mnumerator\u001b[0m\u001b[0;34m)\u001b[0m \u001b[0;32mis\u001b[0m \u001b[0mint\u001b[0m \u001b[0;32mis\u001b[0m \u001b[0mtype\u001b[0m\u001b[0;34m(\u001b[0m\u001b[0mdenominator\u001b[0m\u001b[0;34m)\u001b[0m\u001b[0;34m:\u001b[0m\u001b[0;34m\u001b[0m\u001b[0;34m\u001b[0m\u001b[0m\n\u001b[1;32m    181\u001b[0m                 \u001b[0;31m# *very* normal case\u001b[0m\u001b[0;34m\u001b[0m\u001b[0;34m\u001b[0m\u001b[0;34m\u001b[0m\u001b[0m\n\u001b[0;32m--> 182\u001b[0;31m                 \u001b[0mg\u001b[0m \u001b[0;34m=\u001b[0m \u001b[0mmath\u001b[0m\u001b[0;34m.\u001b[0m\u001b[0mgcd\u001b[0m\u001b[0;34m(\u001b[0m\u001b[0mnumerator\u001b[0m\u001b[0;34m,\u001b[0m \u001b[0mdenominator\u001b[0m\u001b[0;34m)\u001b[0m\u001b[0;34m\u001b[0m\u001b[0;34m\u001b[0m\u001b[0m\n\u001b[0m\u001b[1;32m    183\u001b[0m                 \u001b[0;32mif\u001b[0m \u001b[0mdenominator\u001b[0m \u001b[0;34m<\u001b[0m \u001b[0;36m0\u001b[0m\u001b[0;34m:\u001b[0m\u001b[0;34m\u001b[0m\u001b[0;34m\u001b[0m\u001b[0m\n\u001b[1;32m    184\u001b[0m                     \u001b[0mg\u001b[0m \u001b[0;34m=\u001b[0m \u001b[0;34m-\u001b[0m\u001b[0mg\u001b[0m\u001b[0;34m\u001b[0m\u001b[0;34m\u001b[0m\u001b[0m\n",
      "\u001b[0;31mKeyboardInterrupt\u001b[0m: "
     ]
    }
   ],
   "source": [
    "# eliminate from first to the second last\n",
    "# get bound for epsilon first\n",
    "ret = matrix.copy()\n",
    "while len(ret[0]) > 3:\n",
    "    print(len(ret[0]))\n",
    "    newMatrix = []\n",
    "    for x in ret:\n",
    "        if x[0] == 0:\n",
    "            newMatrix.append(x[1:])\n",
    "    \n",
    "    for i in range(len(ret)):\n",
    "        for j in range(i+1, len(ret)):\n",
    "            \n",
    "            if ret[i][0] == 0 or ret[j][0] == 0:\n",
    "                continue\n",
    "                \n",
    "            first = list(ret[i])\n",
    "            second = list(ret[j])\n",
    "            firstLC = first[0]\n",
    "            secondLC = second[0]\n",
    "            first = [x*secondLC for x in first]\n",
    "            second = [x*firstLC for x in second]\n",
    "            \n",
    "            diff = [first[i] - second[i] for i in range(len(first))]\n",
    "            for ele in diff:\n",
    "                if ele!=0:\n",
    "                    newMatrix.append(diff[1:])\n",
    "                    break    \n",
    "            \n",
    "    # remove duplicate\n",
    "    newMatrix = [tuple(x) for x in newMatrix]\n",
    "    newMatrix = list(set(newMatrix))\n",
    "    \n",
    "    ret = newMatrix\n",
    "    \n",
    "    #print(ret)"
   ]
  },
  {
   "cell_type": "code",
   "execution_count": 53,
   "metadata": {},
   "outputs": [],
   "source": [
    "# two outputs\n",
    "\n",
    "pmatrix = []\n",
    "generatePMatrix([4,2],pmatrix)\n",
    "pmatrix = [list(map(lambda x: Fraction(x), y)) for y in pmatrix]\n",
    "\n",
    "epsilon = [one]\n",
    "nepsilon = [-one]\n",
    "notheta = 2\n",
    "d = [one]\n",
    "nd = [-one]\n",
    "theta = []\n",
    "for i in range(notheta):\n",
    "    temp = [zero for  _ in range(notheta)]\n",
    "    temp[i] = one\n",
    "    theta.append(temp)\n",
    "    \n",
    "t = generateOneBitCondition([4,2])\n",
    "onebit = []\n",
    "#b - s >= epsilon\n",
    "for pair in t:\n",
    "    s = pmatrix[pair[0]]\n",
    "    b = pmatrix[pair[1]]\n",
    "    diff = [b[i] - s[i] for i in range(len(b))]\n",
    "    onebit.append(diff)\n",
    "    \n",
    "# last term for the constant term\n",
    "oneBitEps = []\n",
    "for x in onebit:\n",
    "    oneBitEps.append(x + [zero for i in range(notheta)] + nepsilon +[zero] + [zero])\n",
    "    \n",
    "polyWithTheta = []\n",
    "for x in pmatrix:\n",
    "    for y in theta:\n",
    "        y = [-t for t in y]\n",
    "        polyWithTheta.append(x+y+ [zero,zero] + [zero])\n",
    "        \n",
    "lBoundD = [[zero,zero,zero,one,zero,zero,zero,zero,zero,-one,zero],[zero,zero,zero,zero,zero,one,zero,zero,zero,-one,zero]]\n",
    "\n",
    "thetaBoundD =[[zero,zero,zero,zero,zero,zero,one,zero,zero,-one,zero],[zero,zero,zero,zero,zero,zero,zero,one,zero,-one,zero]]\n",
    "\n",
    "thetaOrder = [[zero,zero,zero,zero,zero,zero,zero,zero,zero,zero,zero]]\n",
    "\n",
    "sdr = [[one for _ in range(len(polyWithTheta[0]))]]\n",
    "sdr[0][-3:] = [zero,zero,zero]"
   ]
  },
  {
   "cell_type": "code",
   "execution_count": 54,
   "metadata": {},
   "outputs": [],
   "source": [
    "matrix = polyWithTheta + oneBitEps + lBoundD + thetaBoundD + sdr "
   ]
  },
  {
   "cell_type": "code",
   "execution_count": 55,
   "metadata": {},
   "outputs": [
    {
     "data": {
      "text/plain": [
       "[[Fraction(0, 1),\n",
       "  Fraction(0, 1),\n",
       "  Fraction(0, 1),\n",
       "  Fraction(1, 1),\n",
       "  Fraction(0, 1),\n",
       "  Fraction(1, 1),\n",
       "  Fraction(-1, 1),\n",
       "  Fraction(0, 1),\n",
       "  Fraction(0, 1),\n",
       "  Fraction(0, 1),\n",
       "  Fraction(0, 1)],\n",
       " [Fraction(0, 1),\n",
       "  Fraction(0, 1),\n",
       "  Fraction(0, 1),\n",
       "  Fraction(1, 1),\n",
       "  Fraction(0, 1),\n",
       "  Fraction(1, 1),\n",
       "  Fraction(0, 1),\n",
       "  Fraction(-1, 1),\n",
       "  Fraction(0, 1),\n",
       "  Fraction(0, 1),\n",
       "  Fraction(0, 1)],\n",
       " [Fraction(0, 1),\n",
       "  Fraction(0, 1),\n",
       "  Fraction(0, 1),\n",
       "  Fraction(1, 1),\n",
       "  Fraction(1, 1),\n",
       "  Fraction(0, 1),\n",
       "  Fraction(-1, 1),\n",
       "  Fraction(0, 1),\n",
       "  Fraction(0, 1),\n",
       "  Fraction(0, 1),\n",
       "  Fraction(0, 1)],\n",
       " [Fraction(0, 1),\n",
       "  Fraction(0, 1),\n",
       "  Fraction(0, 1),\n",
       "  Fraction(1, 1),\n",
       "  Fraction(1, 1),\n",
       "  Fraction(0, 1),\n",
       "  Fraction(0, 1),\n",
       "  Fraction(-1, 1),\n",
       "  Fraction(0, 1),\n",
       "  Fraction(0, 1),\n",
       "  Fraction(0, 1)],\n",
       " [Fraction(0, 1),\n",
       "  Fraction(0, 1),\n",
       "  Fraction(1, 1),\n",
       "  Fraction(0, 1),\n",
       "  Fraction(0, 1),\n",
       "  Fraction(1, 1),\n",
       "  Fraction(-1, 1),\n",
       "  Fraction(0, 1),\n",
       "  Fraction(0, 1),\n",
       "  Fraction(0, 1),\n",
       "  Fraction(0, 1)],\n",
       " [Fraction(0, 1),\n",
       "  Fraction(0, 1),\n",
       "  Fraction(1, 1),\n",
       "  Fraction(0, 1),\n",
       "  Fraction(0, 1),\n",
       "  Fraction(1, 1),\n",
       "  Fraction(0, 1),\n",
       "  Fraction(-1, 1),\n",
       "  Fraction(0, 1),\n",
       "  Fraction(0, 1),\n",
       "  Fraction(0, 1)],\n",
       " [Fraction(0, 1),\n",
       "  Fraction(0, 1),\n",
       "  Fraction(1, 1),\n",
       "  Fraction(0, 1),\n",
       "  Fraction(1, 1),\n",
       "  Fraction(0, 1),\n",
       "  Fraction(-1, 1),\n",
       "  Fraction(0, 1),\n",
       "  Fraction(0, 1),\n",
       "  Fraction(0, 1),\n",
       "  Fraction(0, 1)],\n",
       " [Fraction(0, 1),\n",
       "  Fraction(0, 1),\n",
       "  Fraction(1, 1),\n",
       "  Fraction(0, 1),\n",
       "  Fraction(1, 1),\n",
       "  Fraction(0, 1),\n",
       "  Fraction(0, 1),\n",
       "  Fraction(-1, 1),\n",
       "  Fraction(0, 1),\n",
       "  Fraction(0, 1),\n",
       "  Fraction(0, 1)],\n",
       " [Fraction(0, 1),\n",
       "  Fraction(1, 1),\n",
       "  Fraction(0, 1),\n",
       "  Fraction(0, 1),\n",
       "  Fraction(0, 1),\n",
       "  Fraction(1, 1),\n",
       "  Fraction(-1, 1),\n",
       "  Fraction(0, 1),\n",
       "  Fraction(0, 1),\n",
       "  Fraction(0, 1),\n",
       "  Fraction(0, 1)],\n",
       " [Fraction(0, 1),\n",
       "  Fraction(1, 1),\n",
       "  Fraction(0, 1),\n",
       "  Fraction(0, 1),\n",
       "  Fraction(0, 1),\n",
       "  Fraction(1, 1),\n",
       "  Fraction(0, 1),\n",
       "  Fraction(-1, 1),\n",
       "  Fraction(0, 1),\n",
       "  Fraction(0, 1),\n",
       "  Fraction(0, 1)],\n",
       " [Fraction(0, 1),\n",
       "  Fraction(1, 1),\n",
       "  Fraction(0, 1),\n",
       "  Fraction(0, 1),\n",
       "  Fraction(1, 1),\n",
       "  Fraction(0, 1),\n",
       "  Fraction(-1, 1),\n",
       "  Fraction(0, 1),\n",
       "  Fraction(0, 1),\n",
       "  Fraction(0, 1),\n",
       "  Fraction(0, 1)],\n",
       " [Fraction(0, 1),\n",
       "  Fraction(1, 1),\n",
       "  Fraction(0, 1),\n",
       "  Fraction(0, 1),\n",
       "  Fraction(1, 1),\n",
       "  Fraction(0, 1),\n",
       "  Fraction(0, 1),\n",
       "  Fraction(-1, 1),\n",
       "  Fraction(0, 1),\n",
       "  Fraction(0, 1),\n",
       "  Fraction(0, 1)],\n",
       " [Fraction(1, 1),\n",
       "  Fraction(0, 1),\n",
       "  Fraction(0, 1),\n",
       "  Fraction(0, 1),\n",
       "  Fraction(0, 1),\n",
       "  Fraction(1, 1),\n",
       "  Fraction(-1, 1),\n",
       "  Fraction(0, 1),\n",
       "  Fraction(0, 1),\n",
       "  Fraction(0, 1),\n",
       "  Fraction(0, 1)],\n",
       " [Fraction(1, 1),\n",
       "  Fraction(0, 1),\n",
       "  Fraction(0, 1),\n",
       "  Fraction(0, 1),\n",
       "  Fraction(0, 1),\n",
       "  Fraction(1, 1),\n",
       "  Fraction(0, 1),\n",
       "  Fraction(-1, 1),\n",
       "  Fraction(0, 1),\n",
       "  Fraction(0, 1),\n",
       "  Fraction(0, 1)],\n",
       " [Fraction(1, 1),\n",
       "  Fraction(0, 1),\n",
       "  Fraction(0, 1),\n",
       "  Fraction(0, 1),\n",
       "  Fraction(1, 1),\n",
       "  Fraction(0, 1),\n",
       "  Fraction(-1, 1),\n",
       "  Fraction(0, 1),\n",
       "  Fraction(0, 1),\n",
       "  Fraction(0, 1),\n",
       "  Fraction(0, 1)],\n",
       " [Fraction(1, 1),\n",
       "  Fraction(0, 1),\n",
       "  Fraction(0, 1),\n",
       "  Fraction(0, 1),\n",
       "  Fraction(1, 1),\n",
       "  Fraction(0, 1),\n",
       "  Fraction(0, 1),\n",
       "  Fraction(-1, 1),\n",
       "  Fraction(0, 1),\n",
       "  Fraction(0, 1),\n",
       "  Fraction(0, 1)],\n",
       " [Fraction(0, 1),\n",
       "  Fraction(0, 1),\n",
       "  Fraction(0, 1),\n",
       "  Fraction(0, 1),\n",
       "  Fraction(1, 1),\n",
       "  Fraction(-1, 1),\n",
       "  Fraction(0, 1),\n",
       "  Fraction(0, 1),\n",
       "  Fraction(-1, 1),\n",
       "  Fraction(0, 1),\n",
       "  Fraction(0, 1)],\n",
       " [Fraction(1, 1),\n",
       "  Fraction(0, 1),\n",
       "  Fraction(-1, 1),\n",
       "  Fraction(0, 1),\n",
       "  Fraction(0, 1),\n",
       "  Fraction(0, 1),\n",
       "  Fraction(0, 1),\n",
       "  Fraction(0, 1),\n",
       "  Fraction(-1, 1),\n",
       "  Fraction(0, 1),\n",
       "  Fraction(0, 1)],\n",
       " [Fraction(1, 1),\n",
       "  Fraction(-1, 1),\n",
       "  Fraction(0, 1),\n",
       "  Fraction(0, 1),\n",
       "  Fraction(0, 1),\n",
       "  Fraction(0, 1),\n",
       "  Fraction(0, 1),\n",
       "  Fraction(0, 1),\n",
       "  Fraction(-1, 1),\n",
       "  Fraction(0, 1),\n",
       "  Fraction(0, 1)],\n",
       " [Fraction(0, 1),\n",
       "  Fraction(1, 1),\n",
       "  Fraction(0, 1),\n",
       "  Fraction(-1, 1),\n",
       "  Fraction(0, 1),\n",
       "  Fraction(0, 1),\n",
       "  Fraction(0, 1),\n",
       "  Fraction(0, 1),\n",
       "  Fraction(-1, 1),\n",
       "  Fraction(0, 1),\n",
       "  Fraction(0, 1)],\n",
       " [Fraction(0, 1),\n",
       "  Fraction(0, 1),\n",
       "  Fraction(1, 1),\n",
       "  Fraction(-1, 1),\n",
       "  Fraction(0, 1),\n",
       "  Fraction(0, 1),\n",
       "  Fraction(0, 1),\n",
       "  Fraction(0, 1),\n",
       "  Fraction(-1, 1),\n",
       "  Fraction(0, 1),\n",
       "  Fraction(0, 1)],\n",
       " [Fraction(0, 1),\n",
       "  Fraction(0, 1),\n",
       "  Fraction(0, 1),\n",
       "  Fraction(1, 1),\n",
       "  Fraction(0, 1),\n",
       "  Fraction(0, 1),\n",
       "  Fraction(0, 1),\n",
       "  Fraction(0, 1),\n",
       "  Fraction(0, 1),\n",
       "  Fraction(-1, 1),\n",
       "  Fraction(0, 1)],\n",
       " [Fraction(0, 1),\n",
       "  Fraction(0, 1),\n",
       "  Fraction(0, 1),\n",
       "  Fraction(0, 1),\n",
       "  Fraction(0, 1),\n",
       "  Fraction(1, 1),\n",
       "  Fraction(0, 1),\n",
       "  Fraction(0, 1),\n",
       "  Fraction(0, 1),\n",
       "  Fraction(-1, 1),\n",
       "  Fraction(0, 1)],\n",
       " [Fraction(0, 1),\n",
       "  Fraction(0, 1),\n",
       "  Fraction(0, 1),\n",
       "  Fraction(0, 1),\n",
       "  Fraction(0, 1),\n",
       "  Fraction(0, 1),\n",
       "  Fraction(1, 1),\n",
       "  Fraction(0, 1),\n",
       "  Fraction(0, 1),\n",
       "  Fraction(-1, 1),\n",
       "  Fraction(0, 1)],\n",
       " [Fraction(0, 1),\n",
       "  Fraction(0, 1),\n",
       "  Fraction(0, 1),\n",
       "  Fraction(0, 1),\n",
       "  Fraction(0, 1),\n",
       "  Fraction(0, 1),\n",
       "  Fraction(0, 1),\n",
       "  Fraction(1, 1),\n",
       "  Fraction(0, 1),\n",
       "  Fraction(-1, 1),\n",
       "  Fraction(0, 1)],\n",
       " [Fraction(1, 1),\n",
       "  Fraction(1, 1),\n",
       "  Fraction(1, 1),\n",
       "  Fraction(1, 1),\n",
       "  Fraction(1, 1),\n",
       "  Fraction(1, 1),\n",
       "  Fraction(1, 1),\n",
       "  Fraction(1, 1),\n",
       "  Fraction(0, 1),\n",
       "  Fraction(0, 1),\n",
       "  Fraction(0, 1)]]"
      ]
     },
     "execution_count": 55,
     "metadata": {},
     "output_type": "execute_result"
    }
   ],
   "source": [
    "matrix"
   ]
  },
  {
   "cell_type": "code",
   "execution_count": 59,
   "metadata": {},
   "outputs": [
    {
     "name": "stdout",
     "output_type": "stream",
     "text": [
      "26\n",
      "38\n",
      "83\n",
      "484\n",
      "12237\n"
     ]
    },
    {
     "ename": "KeyboardInterrupt",
     "evalue": "",
     "output_type": "error",
     "traceback": [
      "\u001b[0;31m---------------------------------------------------------------------------\u001b[0m",
      "\u001b[0;31mKeyboardInterrupt\u001b[0m                         Traceback (most recent call last)",
      "\u001b[0;32m<ipython-input-59-1bf9f45e8feb>\u001b[0m in \u001b[0;36m<module>\u001b[0;34m\u001b[0m\n\u001b[1;32m     21\u001b[0m \u001b[0;34m\u001b[0m\u001b[0m\n\u001b[1;32m     22\u001b[0m             \u001b[0mdiff\u001b[0m \u001b[0;34m=\u001b[0m \u001b[0;34m[\u001b[0m\u001b[0mfirst\u001b[0m\u001b[0;34m[\u001b[0m\u001b[0mi\u001b[0m\u001b[0;34m]\u001b[0m \u001b[0;34m-\u001b[0m \u001b[0msecond\u001b[0m\u001b[0;34m[\u001b[0m\u001b[0mi\u001b[0m\u001b[0;34m]\u001b[0m \u001b[0;32mfor\u001b[0m \u001b[0mi\u001b[0m \u001b[0;32min\u001b[0m \u001b[0mrange\u001b[0m\u001b[0;34m(\u001b[0m\u001b[0mlen\u001b[0m\u001b[0;34m(\u001b[0m\u001b[0mfirst\u001b[0m\u001b[0;34m)\u001b[0m\u001b[0;34m)\u001b[0m\u001b[0;34m]\u001b[0m\u001b[0;34m\u001b[0m\u001b[0;34m\u001b[0m\u001b[0m\n\u001b[0;32m---> 23\u001b[0;31m             \u001b[0mfirst\u001b[0m \u001b[0;34m=\u001b[0m \u001b[0mdiff\u001b[0m\u001b[0;34m[\u001b[0m\u001b[0;36m1\u001b[0m\u001b[0;34m]\u001b[0m\u001b[0;34m\u001b[0m\u001b[0;34m\u001b[0m\u001b[0m\n\u001b[0m\u001b[1;32m     24\u001b[0m             \u001b[0;32mif\u001b[0m \u001b[0mfirst\u001b[0m \u001b[0;34m!=\u001b[0m \u001b[0;36m0\u001b[0m\u001b[0;34m:\u001b[0m\u001b[0;34m\u001b[0m\u001b[0;34m\u001b[0m\u001b[0m\n\u001b[1;32m     25\u001b[0m                 \u001b[0mdiff\u001b[0m \u001b[0;34m=\u001b[0m \u001b[0;34m[\u001b[0m\u001b[0mx\u001b[0m\u001b[0;34m/\u001b[0m\u001b[0mfirst\u001b[0m \u001b[0;32mfor\u001b[0m \u001b[0mx\u001b[0m \u001b[0;32min\u001b[0m \u001b[0mdiff\u001b[0m\u001b[0;34m]\u001b[0m\u001b[0;34m\u001b[0m\u001b[0;34m\u001b[0m\u001b[0m\n",
      "\u001b[0;31mKeyboardInterrupt\u001b[0m: "
     ]
    }
   ],
   "source": [
    "# eliminate from first to the second last\n",
    "# get bound for epsilon first\n",
    "ret = matrix.copy()\n",
    "while len(ret[0]) > 3:\n",
    "    print(len(ret))\n",
    "    newMatrix = []\n",
    "    for x in ret:\n",
    "        if x[0] == 0:\n",
    "            newMatrix.append(x[1:])\n",
    "    \n",
    "    for i in range(len(ret)):\n",
    "        for j in range(i+1, len(ret)):\n",
    "            \n",
    "            if ret[i][0] == 0 or ret[j][0] == 0:\n",
    "                continue\n",
    "                \n",
    "            first = list(ret[i])\n",
    "            second = list(ret[j])\n",
    "            first = [x/ret[i][0] for x in first]\n",
    "            second = [x/ret[j][0] for x in second]\n",
    "            \n",
    "            diff = [first[i] - second[i] for i in range(len(first))]\n",
    "            first = diff[1]\n",
    "            if first != 0:\n",
    "                diff = [x/first for x in diff]\n",
    "            \n",
    "            newMatrix.append(diff[1:])\n",
    "    \n",
    "    # remove duplicate\n",
    "    newMatrix = [tuple(x) for x in newMatrix]\n",
    "    newMatrix = list(set(newMatrix))\n",
    "    \n",
    "    ret = newMatrix\n",
    "    \n",
    "    #print(ret)"
   ]
  },
  {
   "cell_type": "code",
   "execution_count": 1,
   "metadata": {},
   "outputs": [
    {
     "name": "stdout",
     "output_type": "stream",
     "text": [
      "1\n",
      "2\n",
      "3\n",
      "1\n",
      "2\n",
      "3\n"
     ]
    }
   ],
   "source": [
    "for i in range(1,3):\n",
    "    for i in range(1,4):\n",
    "        print(i)"
   ]
  },
  {
   "cell_type": "code",
   "execution_count": null,
   "metadata": {},
   "outputs": [],
   "source": []
  }
 ],
 "metadata": {
  "kernelspec": {
   "display_name": "Python (tensorflow)",
   "language": "python",
   "name": "myenv"
  },
  "language_info": {
   "codemirror_mode": {
    "name": "ipython",
    "version": 3
   },
   "file_extension": ".py",
   "mimetype": "text/x-python",
   "name": "python",
   "nbconvert_exporter": "python",
   "pygments_lexer": "ipython3",
   "version": "3.6.7"
  }
 },
 "nbformat": 4,
 "nbformat_minor": 2
}
