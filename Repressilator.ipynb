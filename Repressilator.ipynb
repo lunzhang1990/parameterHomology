{
 "cells": [
  {
   "cell_type": "code",
   "execution_count": 1,
   "metadata": {},
   "outputs": [],
   "source": [
    "import sys\n",
    "sys.path+=['/Users/lunzhang/anaconda3/lib/python3.6/site-packages']\n",
    "import DSGRN\n",
    "import os\n",
    "import json"
   ]
  },
  {
   "cell_type": "code",
   "execution_count": 2,
   "metadata": {},
   "outputs": [],
   "source": [
    "from total2partial import *\n",
    "import time \n",
    "import re\n",
    "import json\n",
    "import numpy as np\n",
    "from itertools import product\n",
    "from itertools import permutations\n",
    "import os\n",
    "import sys"
   ]
  },
  {
   "cell_type": "code",
   "execution_count": 3,
   "metadata": {},
   "outputs": [
    {
     "data": {
      "text/plain": [
       "27"
      ]
     },
     "execution_count": 3,
     "metadata": {},
     "output_type": "execute_result"
    }
   ],
   "source": [
    "nwStr = \"x1:~x2 \\n x2:~x3 \\n x3:~x1\"\n",
    "network = DSGRN.Network(nwStr)\n",
    "DSGRN.DrawGraph(network)\n",
    "parameterGraph = DSGRN.ParameterGraph(network)\n",
    "parameterGraph.size()"
   ]
  },
  {
   "cell_type": "code",
   "execution_count": 4,
   "metadata": {},
   "outputs": [],
   "source": [
    "parameterSample = parameterGraph.parameter(0)\n",
    "domainGraph = DSGRN.DomainGraph(parameterSample)\n",
    "morseDecomposition = DSGRN.MorseDecomposition(domainGraph.digraph())\n",
    "morseGraph = DSGRN.MorseGraph(domainGraph, morseDecomposition)"
   ]
  },
  {
   "cell_type": "code",
   "execution_count": 5,
   "metadata": {},
   "outputs": [
    {
     "data": {
      "text/plain": [
       "'FP { 0, 0, 0 }'"
      ]
     },
     "execution_count": 5,
     "metadata": {},
     "output_type": "execute_result"
    }
   ],
   "source": [
    "morseGraph.poset().size()\n",
    "morseGraph.annotation(0)[0]"
   ]
  },
  {
   "cell_type": "code",
   "execution_count": 6,
   "metadata": {},
   "outputs": [],
   "source": [
    "notOscillatory = []\n",
    "size = parameterGraph.size()\n",
    "for i in range(size):\n",
    "    parameterSample = parameterGraph.parameter(i)\n",
    "    domainGraph = DSGRN.DomainGraph(parameterSample)\n",
    "    morseDecomposition = DSGRN.MorseDecomposition(domainGraph.digraph())\n",
    "    morseGraph = DSGRN.MorseGraph(domainGraph, morseDecomposition)\n",
    "    l = morseGraph.poset().size()\n",
    "    notOscillatory.append(parameterSample)\n",
    "    #print(j)\n",
    "    for j in range(l):\n",
    "        if morseGraph.annotation(j)[0].startswith('FC'):\n",
    "            notOscillatory = notOscillatory[:-1]\n",
    "            break        "
   ]
  },
  {
   "cell_type": "code",
   "execution_count": 7,
   "metadata": {},
   "outputs": [
    {
     "data": {
      "text/plain": [
       "26"
      ]
     },
     "execution_count": 7,
     "metadata": {},
     "output_type": "execute_result"
    }
   ],
   "source": [
    "len(notOscillatory)"
   ]
  },
  {
   "cell_type": "code",
   "execution_count": 8,
   "metadata": {},
   "outputs": [],
   "source": [
    "\n",
    "# suppose there are at most 2 thresholds\n",
    "def stringifyParser(l):\n",
    "    ret =  []\n",
    "    l = eval(l)\n",
    "    #print(l)\n",
    "    for i in range(len(l)):\n",
    "        inputNo = l[i][1][0]  \n",
    "        m=outputNo = l[i][1][1] \n",
    "        polyNo = pow(2,inputNo)\n",
    "        totalLen = polyNo*outputNo\n",
    "\n",
    "        logic = l[i][1][2]\n",
    "        logic = bin(int(logic,16))[2:].zfill(totalLen)\n",
    "\n",
    "        lower = []\n",
    "        middle = []\n",
    "        upper = []\n",
    "        thetas = l[i][2]\n",
    "        temp = []\n",
    "        for j in range(0,len(logic),m):\n",
    "            polyIndex = polyNo - int(j/m) - 1\n",
    "            piece = logic[j:j+m]\n",
    "            #print(piece)\n",
    "            if len(set(piece)) == 2:\n",
    "                middle.append(polyIndex)\n",
    "            elif set(piece) == set('1'):\n",
    "                upper.append(polyIndex)\n",
    "            else:\n",
    "                lower.append(polyIndex)\n",
    "\n",
    "        if len(thetas)==1:\n",
    "            temp = sorted(lower) + [-thetas[0]-1] + sorted(upper)\n",
    "        else:\n",
    "            \n",
    "            temp = sorted(lower) + [-thetas[0]-1] + sorted(middle) + [-thetas[1]-1]+sorted(upper)\n",
    "            #print(temp)\n",
    "\n",
    "        ret.append(tuple(temp))\n",
    "    return ret"
   ]
  },
  {
   "cell_type": "code",
   "execution_count": 9,
   "metadata": {},
   "outputs": [],
   "source": [
    "pnlist = [stringifyParser(x.stringify()) for x in notOscillatory]"
   ]
  },
  {
   "cell_type": "code",
   "execution_count": 10,
   "metadata": {},
   "outputs": [],
   "source": [
    "def loadAtomicChainComplex(fpath):\n",
    "    ret = dict()\n",
    "    with open(fpath,'r') as file:\n",
    "        atomicCC = json.load(file)\n",
    "    for key in atomicCC:\n",
    "        newk = key[1:-1].split(',')\n",
    "        newk = tuple([int(x) for x in newk])\n",
    "        v = atomicCC[key]\n",
    "        newvalue = dict()\n",
    "        for dim in v:\n",
    "            newfaces = set([tuple(x) for x in v[dim]])\n",
    "            newvalue[int(dim)] = newfaces\n",
    "        ret[newk] = newvalue \n",
    "    return ret\n",
    "\n",
    "def integerPartitionHelper(Sum,UpperBounds,path,ret):\n",
    "    if len(path) == len(UpperBounds):\n",
    "        if Sum!=0:\n",
    "            return\n",
    "        else:\n",
    "            ret.append(path.copy())\n",
    "            return \n",
    "    \n",
    "    for i in range(min(Sum,UpperBounds[len(path)])+1):\n",
    "        path.append(i)\n",
    "        integerPartitionHelper(Sum-i,UpperBounds,path,ret)\n",
    "        #print(path)\n",
    "        path.pop()\n",
    "        \n",
    "    return \n",
    "            \n",
    "\n",
    "def integerPartition(Sum, UpperBounds):\n",
    "    ret = []\n",
    "    path = []\n",
    "    integerPartitionHelper(Sum,UpperBounds,path,ret)\n",
    "    return ret\n",
    "    \n",
    "\n",
    "def tensorProduct(atomicParameterNodeList):\n",
    "    upperBounds = [len(x)-1 for x in atomicParameterNodeList]\n",
    "    topDim = sum(upperBounds)\n",
    "    faceLattice = dict()\n",
    "    for i in range(topDim+1):\n",
    "        partition = integerPartition(i,upperBounds)\n",
    "        faces = set()\n",
    "        for p in partition:\n",
    "            #print(p)\n",
    "            facelist = [atomicParameterNodeList[i][p[i]] for i in range(len(p))]\n",
    "            faces |= set(product(*facelist))\n",
    "        faceLattice[i] = faces\n",
    "        \n",
    "    return faceLattice \n",
    "\n",
    "\n",
    "def parameterNodeLoader(fileNameList):\n",
    "    \"\"\"For global parameter node\"\"\"\n",
    "    pnlist = []\n",
    "    for fname in fileNameList:\n",
    "        with open(fname,'r') as file:\n",
    "            currentParameterNode = json.load(file)\n",
    "            recover = dict()\n",
    "            for key in currentParameterNode:\n",
    "                newkey = int(key)\n",
    "                newvalue = []\n",
    "                for face in currentParameterNode[key]:\n",
    "                    tempFace = tuple([tuple(x) for x in face])\n",
    "                    newvalue.append(tempFace)\n",
    "                newvalue =set(newvalue)\n",
    "                recover[newkey] = newvalue\n",
    "            pnlist.append(recover)\n",
    "            \n",
    "    return pnlist\n",
    "\n",
    "# need the dimension to be 1\n",
    "def checkFace(faceCell,bodyCell):\n",
    "    for i in range(len(faceCell)):\n",
    "        if not set(faceCell[i]).issubset(set(bodyCell[i])):\n",
    "            return False\n",
    "    return True\n",
    "\n",
    "def unionParameterNodeFaceLattice(pnlist):\n",
    "    # left multiplication sparse matrix\n",
    "    ret = []\n",
    "    topDim = max(pnlist[0].keys())\n",
    "    \n",
    "    faceCells = dict()\n",
    "    bodyCells = dict()\n",
    "    for i in range(len(pnlist)):\n",
    "        for vertex in pnlist[i][0]:\n",
    "            if vertex not in bodyCells:\n",
    "                bodyCells[vertex] = len(bodyCells)\n",
    "                \n",
    "    for d in range(1,topDim+1):\n",
    "        diffMatrix = dict()\n",
    "        faceCells = bodyCells\n",
    "        bodyCells = dict()\n",
    "        # generate d-dimensional faces set\n",
    "        for i in range(len(pnlist)):\n",
    "            for dFaces in pnlist[i][d]:\n",
    "                if dFaces not in bodyCells:\n",
    "                    bodyCells[dFaces] = len(bodyCells)\n",
    "        \n",
    "        for bodyCell in bodyCells:\n",
    "            for faceCell in faceCells:\n",
    "                if checkFace(faceCell,bodyCell):\n",
    "                    row = bodyCells[bodyCell]\n",
    "                    col = faceCells[faceCell]\n",
    "                    diffMatrix[(row,col)] = 1\n",
    "        \n",
    "        ret.append(diffMatrix)\n",
    "    \n",
    "    return ret"
   ]
  },
  {
   "cell_type": "code",
   "execution_count": 11,
   "metadata": {},
   "outputs": [],
   "source": [
    "filepathList = ['x_o_1.json','x_o_1.json', 'x_o_1.json'] \n",
    "apnFaceLattice = [loadAtomicChainComplex(file) for file in filepathList]\n",
    "keysList = [x.keys() for x in apnFaceLattice]\n",
    "#indexOfParameterNode = product(*keysList)\n",
    "#firstParameterNode = next(indexOfParameterNode)\n",
    "#firstParameterNode"
   ]
  },
  {
   "cell_type": "code",
   "execution_count": 12,
   "metadata": {},
   "outputs": [],
   "source": [
    "fcList = []\n",
    "for pn in pnlist:\n",
    "    apnList = [apnFaceLattice[i][pn[i]] for i in range(len(pn))]\n",
    "\n",
    "    # facelattice\n",
    "    oneFaceLattice = tensorProduct(apnList)\n",
    "\n",
    "    fcList.append(oneFaceLattice)"
   ]
  },
  {
   "cell_type": "code",
   "execution_count": 13,
   "metadata": {},
   "outputs": [],
   "source": [
    "rnFaceLattice = dict()\n",
    "for fl in fcList:\n",
    "    for key in fl:\n",
    "        if key in rnFaceLattice:\n",
    "            rnFaceLattice[key] |= fl[key] \n",
    "        else:\n",
    "            rnFaceLattice[key] = fl[key]"
   ]
  },
  {
   "cell_type": "code",
   "execution_count": 14,
   "metadata": {},
   "outputs": [
    {
     "name": "stdout",
     "output_type": "stream",
     "text": [
      "216\n",
      "864\n",
      "1476\n",
      "1368\n",
      "726\n",
      "210\n",
      "26\n"
     ]
    }
   ],
   "source": [
    "for d in rnFaceLattice:\n",
    "    print(len(rnFaceLattice[d]))"
   ]
  },
  {
   "cell_type": "code",
   "execution_count": 15,
   "metadata": {},
   "outputs": [],
   "source": [
    "ret = unionParameterNodeFaceLattice(fcList)"
   ]
  },
  {
   "cell_type": "code",
   "execution_count": 16,
   "metadata": {},
   "outputs": [
    {
     "data": {
      "text/plain": [
       "{0: 1, 1: 0, 2: 1, 3: 0, 4: 0, 5: 0, 6: 0}"
      ]
     },
     "execution_count": 16,
     "metadata": {},
     "output_type": "execute_result"
    }
   ],
   "source": [
    "mats = [matrix(GF(2),r) for r in ret]\n",
    "chains = ChainComplex(mats)\n",
    "chains.betti()"
   ]
  },
  {
   "cell_type": "code",
   "execution_count": null,
   "metadata": {},
   "outputs": [],
   "source": []
  },
  {
   "cell_type": "code",
   "execution_count": null,
   "metadata": {},
   "outputs": [],
   "source": []
  }
 ],
 "metadata": {
  "kernelspec": {
   "display_name": "SageMath 8.9",
   "language": "sage",
   "name": "sagemath"
  },
  "language_info": {
   "codemirror_mode": {
    "name": "ipython",
    "version": 3
   },
   "file_extension": ".py",
   "mimetype": "text/x-python",
   "name": "python",
   "nbconvert_exporter": "python",
   "pygments_lexer": "ipython3",
   "version": "3.6.7"
  }
 },
 "nbformat": 4,
 "nbformat_minor": 2
}
