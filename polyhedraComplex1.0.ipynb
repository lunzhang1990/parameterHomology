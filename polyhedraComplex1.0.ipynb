{
 "cells": [
  {
   "cell_type": "markdown",
   "metadata": {},
   "source": [
    "ATM: in: x out: 2\n",
    "\n",
    "Wip1: in: x out: 2\n",
    "\n",
    "Chk2: in: xy out: 1\n",
    "\n",
    "Mdm2: in: x out: 1\n",
    "\n",
    "p53: in: (x+y)z out: 2"
   ]
  },
  {
   "cell_type": "markdown",
   "metadata": {},
   "source": [
    "the form for python is \n",
    "\n",
    "a x <= b\n",
    "so the vector is (a,b)\n",
    "\n",
    "the form for sage is \n",
    "b + ax >= 0\n",
    "\n",
    "so the vector is (b,a)"
   ]
  },
  {
   "cell_type": "code",
   "execution_count": 3,
   "metadata": {},
   "outputs": [],
   "source": [
    "from total2partial import *\n",
    "import time \n",
    "import re\n",
    "import json\n",
    "import numpy as np\n",
    "from itertools import product\n",
    "from itertools import permutations\n",
    "import os"
   ]
  },
  {
   "cell_type": "markdown",
   "metadata": {},
   "source": [
    "# (1;1)"
   ]
  },
  {
   "cell_type": "markdown",
   "metadata": {},
   "source": [
    "## 1. generate matrix for each atomic parameter node"
   ]
  },
  {
   "cell_type": "code",
   "execution_count": 44,
   "metadata": {},
   "outputs": [],
   "source": [
    "# the old form for mathematica is Ax < b, x>0\n",
    "def generatePMatrix(m, pmatrix):\n",
    "    acc_prod = list(map(lambda x: int(x), [np.prod(m[i+1:]) for i in range(len(m))]))\n",
    "    l = np.sum(m)-1\n",
    "    p = [() for _ in range(np.prod(m))]\n",
    "    level = []\n",
    "\n",
    "    for i in range(len(p)):\n",
    "        total = i\n",
    "        level = []\n",
    "        for j in range(len(m)):\n",
    "            current = int(total/acc_prod[j])\n",
    "            total %= acc_prod[j]\n",
    "            level.append(current)\n",
    "        curr_p = []\n",
    "        for k in range(len(level)):\n",
    "            temp = [0 for _ in range(m[k])]\n",
    "            temp[m[k]-1-level[k]] = 1\n",
    "            curr_p+=temp\n",
    "        pmatrix.append(curr_p)\n",
    "\n",
    "def rowByThresholdLinear(l,start,nothresholds,pmatrix):\n",
    "    thresholds = [0 for _ in range(nothresholds)]\n",
    "    currthreshold = -l[start]-1\n",
    "    thresholds[currthreshold] = -1\n",
    "    ret = []\n",
    "    # lower part\n",
    "    for i in range(start-1,-1,-1):\n",
    "        if l[i] >=0:\n",
    "            temp = list(pmatrix[l[i]])+thresholds+[0]\n",
    "            ret.append(temp)\n",
    "        else:\n",
    "            break\n",
    "    # upper part\n",
    "    for i in range(start+1,len(l)):\n",
    "        if l[i] >=0:\n",
    "            temp = list(pmatrix[l[i]])+thresholds+[0]\n",
    "            temp = [-x for x in temp]\n",
    "            ret.append(temp)\n",
    "        else:\n",
    "            break\n",
    "    return ret      \n",
    "    \n",
    "    \n",
    "def generatePolynomialRowLinear(l,pmatrix,nothresholds):\n",
    "    ret = []\n",
    "    for i in range(len(l)):\n",
    "        if l[i] <0:\n",
    "            temp = rowByThresholdLinear(l,i,nothresholds,pmatrix)\n",
    "            ret+=temp\n",
    "    return ret\n",
    "\n",
    "def generateULEpsilonLinear(noinedges,nothresholds,epsilon):\n",
    "    ret = []\n",
    "    \n",
    "    for i in range(noinedges):\n",
    "        \n",
    "        # for u-l > epsilon\n",
    "        temp = [0 for _ in range(noinedges*2+nothresholds+1)]\n",
    "        temp[2*i] = -1\n",
    "        temp[2*i+1] = 1\n",
    "        temp[-1] = -epsilon\n",
    "        ret.append(temp)\n",
    "        \n",
    "        # for l > epsilon\n",
    "        temp = [0 for _ in range(noinedges*2+nothresholds+1)]\n",
    "        temp[2*i+1] = -1\n",
    "        temp[-1] = -epsilon\n",
    "        ret.append(temp)\n",
    "        \n",
    "    return ret\n",
    "\n",
    "def generateThresholdOrder(l):\n",
    "    ret = []\n",
    "    for i in range(len(l)):\n",
    "        if l[i] <0:\n",
    "            ret.append(-l[i])\n",
    "    return ret\n",
    "\n",
    "def generateNonNegtaiveLinear(noinedges,nothresholds,smallestThreshold,epsilon):\n",
    "    # for l and theta, no need for u\n",
    "    ret = []\n",
    "    \n",
    "    #for i in range(noinedges):\n",
    "    #    # for l >= 0\n",
    "    #    temp = [0 for _ in range(noinedges*2+nothresholds+1)]\n",
    "    #    temp[2*i+1] = -1\n",
    "    #    ret.append(temp)\n",
    "    \n",
    "    # non negative for the smallest threshold\n",
    "    temp = [0 for _ in range(noinedges*2+nothresholds+1)]\n",
    "    temp[noinedges*2+smallestThreshold-1]=-1\n",
    "    temp[-1] = -epsilon*noinedges\n",
    "    ret.append(temp)\n",
    "    \n",
    "    return ret\n",
    "\n",
    "def generateThresholdOrder(l):\n",
    "    ret = []\n",
    "    for i in range(len(l)):\n",
    "        if l[i] <0:\n",
    "            ret.append(-l[i])\n",
    "    return ret\n",
    "\n",
    "def generateThresholdComparison(noinedges,nothresholds,thresholdorders):\n",
    "    ret =  []\n",
    "    # \\sum  < level\n",
    "    for i in range(1,len(thresholdorders)):\n",
    "        temp = [0 for _ in range(noinedges*2+nothresholds+1)]\n",
    "        biggerThreshold = thresholdorders[i]\n",
    "        smallerThreshold = thresholdorders[i-1]\n",
    "        temp[noinedges*2+biggerThreshold-1]=-1\n",
    "        temp[noinedges*2+smallerThreshold-1] = 1\n",
    "        ret.append(temp)\n",
    "    \n",
    "    return ret\n",
    "    \n",
    "\n",
    "def generateSDR(noinedges,nothresholds, level):\n",
    "    ret =  []\n",
    "    # \\sum  < level\n",
    "    temp = [1 for _ in range(noinedges*2+nothresholds+1)]\n",
    "    temp[-1] = level\n",
    "    ret.append(temp)\n",
    "    \n",
    "    # \\sum > level\n",
    "    temp = [-1 for _ in range(noinedges*2+nothresholds+1)]\n",
    "    temp[-1] = -level\n",
    "    ret.append(temp)\n",
    "    \n",
    "    return ret\n",
    "\n",
    "def sagePTemplate(m):\n",
    "    ret = []\n",
    "    for i in range(len(m)):\n",
    "        curr = m[i]\n",
    "        first = [curr[-1]]\n",
    "        second = [-x for x in curr[:-1]]\n",
    "        temp = first + second\n",
    "        ret.append(temp)\n",
    "    return ret\n",
    "\n",
    "# generate the matrix for parameter node\n",
    "def generatePNMatrixLinear(ls,noinedges,nothresholds,epsilon, level,pmatrix):\n",
    "    ret = []\n",
    "    for i in range(len(ls)):\n",
    "        l = ls[i]\n",
    "        thresholdOrder = generateThresholdOrder(l)\n",
    "        temp = generatePolynomialRowLinear(l,pmatrix, nothresholds)\n",
    "        temp += generateULEpsilonLinear(noinedges,nothresholds,epsilon)\n",
    "        temp += generateNonNegtaiveLinear(noinedges,nothresholds,thresholdOrder[0],epsilon)\n",
    "        temp += generateSDR(noinedges,nothresholds,level)\n",
    "        temp += generateThresholdComparison(noinedges,nothresholds,thresholdOrder)\n",
    "        ret.append(sagePTemplate(temp))\n",
    "        \n",
    "    return ret"
   ]
  },
  {
   "cell_type": "code",
   "execution_count": 72,
   "metadata": {},
   "outputs": [
    {
     "name": "stdout",
     "output_type": "stream",
     "text": [
      "2_final.dat\n",
      "Threshold: 1 --> PG: 3\n"
     ]
    }
   ],
   "source": [
    "# x\n",
    "start =time.time()\n",
    "file = '2_final.dat'\n",
    "print(file)\n",
    "for i in range(1,2):\n",
    "    rx1 = getPartialOrderByThreshold(i,file)\n",
    "    print('Threshold: {} --> PG: {}'.format(i, len(rx1)))\n",
    "time.time() -start\n",
    "\n",
    "ls = list(rx1)\n",
    "ilist = list(rx1)\n",
    "noinedges = 1\n",
    "nothresholds = 1\n",
    "epsilon = 1/1000\n",
    "pmatrix = []\n",
    "pmatrix = []\n",
    "generatePMatrix([2],pmatrix)\n",
    "#thresholdsorder = (0,)\n",
    "level = 1"
   ]
  },
  {
   "cell_type": "code",
   "execution_count": 73,
   "metadata": {},
   "outputs": [],
   "source": [
    "mats = generatePNMatrixLinear(ls,noinedges,nothresholds,epsilon,level,pmatrix)"
   ]
  },
  {
   "cell_type": "code",
   "execution_count": 74,
   "metadata": {},
   "outputs": [
    {
     "data": {
      "text/plain": [
       "[[0, 0, 1, -1],\n",
       " [0, 1, 0, -1],\n",
       " [-1/1000, 1, -1, 0],\n",
       " [-1/1000, 0, 1, 0],\n",
       " [-1/1000, 0, 0, 1],\n",
       " [1, -1, -1, -1],\n",
       " [-1, 1, 1, 1]]"
      ]
     },
     "execution_count": 74,
     "metadata": {},
     "output_type": "execute_result"
    }
   ],
   "source": [
    "mats[0]"
   ]
  },
  {
   "cell_type": "code",
   "execution_count": 75,
   "metadata": {},
   "outputs": [
    {
     "data": {
      "text/plain": [
       "(A vertex at (499/500, 1/1000, 1/1000),\n",
       " A vertex at (1/2, 499/1000, 1/1000),\n",
       " A vertex at (1/500, 1/1000, 997/1000))"
      ]
     },
     "execution_count": 75,
     "metadata": {},
     "output_type": "execute_result"
    }
   ],
   "source": [
    "# check the base regions is closed and bounded\n",
    "basep = Polyhedron(ieqs= mats[0][2:])\n",
    "basep.Vrepresentation()"
   ]
  },
  {
   "cell_type": "code",
   "execution_count": 76,
   "metadata": {},
   "outputs": [
    {
     "data": {
      "text/plain": [
       "(A vertex at (499/500, 1/1000, 1/1000),\n",
       " A vertex at (1/2, 499/1000, 1/1000),\n",
       " A vertex at (167/500, 333/1000, 333/1000))"
      ]
     },
     "execution_count": 76,
     "metadata": {},
     "output_type": "execute_result"
    }
   ],
   "source": [
    "basep = Polyhedron(ieqs= mats[0])\n",
    "basep.Vrepresentation()"
   ]
  },
  {
   "cell_type": "code",
   "execution_count": 77,
   "metadata": {},
   "outputs": [
    {
     "data": {
      "text/plain": [
       "(A vertex at (999/2000, 1/1000, 999/2000),\n",
       " A vertex at (1/500, 1/1000, 997/1000),\n",
       " A vertex at (1001/3000, 499/1500, 1001/3000))"
      ]
     },
     "execution_count": 77,
     "metadata": {},
     "output_type": "execute_result"
    }
   ],
   "source": [
    "basep = Polyhedron(ieqs= mats[1])\n",
    "basep.Vrepresentation()"
   ]
  },
  {
   "cell_type": "code",
   "execution_count": 78,
   "metadata": {},
   "outputs": [
    {
     "data": {
      "text/plain": [
       "(A vertex at (499/500, 1/1000, 1/1000),\n",
       " A vertex at (999/2000, 1/1000, 999/2000),\n",
       " A vertex at (1001/3000, 499/1500, 1001/3000),\n",
       " A vertex at (167/500, 333/1000, 333/1000))"
      ]
     },
     "execution_count": 78,
     "metadata": {},
     "output_type": "execute_result"
    }
   ],
   "source": [
    "basep = Polyhedron(ieqs= mats[2])\n",
    "basep.Vrepresentation()"
   ]
  },
  {
   "cell_type": "code",
   "execution_count": 79,
   "metadata": {},
   "outputs": [],
   "source": [
    "vlists = set()\n",
    "plist = []\n",
    "for mat in mats:\n",
    "    p = Polyhedron(ieqs = mat)\n",
    "    plist.append(p)\n",
    "    vlists|= set(p.vertices())\n",
    "vlists = list(vlists)\n",
    "pdim = plist[0].dimension()\n",
    "\n",
    "vdict = dict()\n",
    "for i in range(len(vlists)):\n",
    "    vdict[vlists[i]] = i\n",
    "\n",
    "nodelist = dict()\n",
    "# key is the index in ilist\n",
    "# value is the dictionary dnode\n",
    "# dnode takes dimension 0, ..., pdim as keys\n",
    "# takes set/tuple(json) of tuples of vertices index (faces) as values\n",
    "# the differential operator can be do by checking the subset of vertices index\n",
    "for i in range(len(ilist)):\n",
    "    key = ilist[i]\n",
    "    value = dict()\n",
    "    p = plist[i]\n",
    "    for j in range(pdim+1):\n",
    "        faces = p.faces(j)\n",
    "        fvIndexSet = set()\n",
    "        for f in faces:\n",
    "            tempindex =[]\n",
    "            for v in f.vertices():\n",
    "                tempindex.append(vdict[v])\n",
    "            fvIndexSet.add(tuple(sorted(tempindex)))\n",
    "        value[j] = tuple(fvIndexSet)\n",
    "    nodelist[key] = value\n",
    "    "
   ]
  },
  {
   "cell_type": "code",
   "execution_count": 80,
   "metadata": {},
   "outputs": [
    {
     "data": {
      "text/plain": [
       "{(-1, 0, 1): {0: ((2,), (1,), (4,)),\n",
       "  1: ((1, 2), (2, 4), (1, 4)),\n",
       "  2: ((1, 2, 4),)},\n",
       " (0, 1, -1): {0: ((5,), (0,), (3,)),\n",
       "  1: ((0, 3), (0, 5), (3, 5)),\n",
       "  2: ((0, 3, 5),)},\n",
       " (0, -1, 1): {0: ((2,), (0,), (3,), (4,)),\n",
       "  1: ((0, 3), (2, 3), (2, 4), (0, 4)),\n",
       "  2: ((0, 2, 3, 4),)}}"
      ]
     },
     "execution_count": 80,
     "metadata": {},
     "output_type": "execute_result"
    }
   ],
   "source": [
    "nodelist"
   ]
  },
  {
   "cell_type": "code",
   "execution_count": 81,
   "metadata": {},
   "outputs": [],
   "source": [
    "jsonNodelist = dict()\n",
    "for key in nodelist:\n",
    "    skey = str(key)\n",
    "    jsonNodelist[skey] = nodelist[key]\n",
    "    \n",
    "with open('x_o_1.json','w') as file:\n",
    "    json.dump(jsonNodelist,file)"
   ]
  },
  {
   "cell_type": "code",
   "execution_count": 55,
   "metadata": {},
   "outputs": [],
   "source": [
    "firstKey = list(nodelist.keys())[0]\n",
    "dim = len(nodelist[firstKey])-1\n",
    "fList = []\n",
    "for i in range(dim+1):\n",
    "    dimFL = set()\n",
    "    for cell in nodelist:\n",
    "        dimFL |= set(nodelist[cell][i])\n",
    "    fList.append(dimFL)"
   ]
  },
  {
   "cell_type": "code",
   "execution_count": 56,
   "metadata": {},
   "outputs": [
    {
     "name": "stdout",
     "output_type": "stream",
     "text": [
      "0 6\n",
      "1 8\n",
      "2 3\n"
     ]
    }
   ],
   "source": [
    "for i in range(dim+1):\n",
    "    print(i, len(fList[i]))"
   ]
  },
  {
   "cell_type": "markdown",
   "metadata": {},
   "source": [
    "# (2;1)"
   ]
  },
  {
   "cell_type": "code",
   "execution_count": 89,
   "metadata": {},
   "outputs": [
    {
     "name": "stdout",
     "output_type": "stream",
     "text": [
      "4_final.dat\n",
      "Threshold: 1 --> PG: 6\n"
     ]
    }
   ],
   "source": [
    "# x\n",
    "start =time.time()\n",
    "file = '4_final.dat'\n",
    "print(file)\n",
    "for i in range(1,2):\n",
    "    rx1 = getPartialOrderByThreshold(i,file)\n",
    "    print('Threshold: {} --> PG: {}'.format(i, len(rx1)))\n",
    "time.time() -start\n",
    "\n",
    "ls = list(rx1)\n",
    "ilist = list(rx1)\n",
    "noinedges = 2\n",
    "nothresholds = 1\n",
    "epsilon = 1/1000\n",
    "pmatrix = []\n",
    "pmatrix = []\n",
    "generatePMatrix([2,2],pmatrix)\n",
    "#thresholdsorder = (0,)\n",
    "level = 1"
   ]
  },
  {
   "cell_type": "code",
   "execution_count": 83,
   "metadata": {},
   "outputs": [],
   "source": [
    "mats = generatePNMatrixLinear(ls,noinedges,nothresholds,epsilon,level,pmatrix)"
   ]
  },
  {
   "cell_type": "code",
   "execution_count": 84,
   "metadata": {},
   "outputs": [
    {
     "data": {
      "text/plain": [
       "[[0, 0, 1, 0, 1, -1],\n",
       " [0, 0, 1, 1, 0, -1],\n",
       " [0, 1, 0, 0, 1, -1],\n",
       " [0, 1, 0, 1, 0, -1],\n",
       " [-1/1000, 1, -1, 0, 0, 0],\n",
       " [-1/1000, 0, 1, 0, 0, 0],\n",
       " [-1/1000, 0, 0, 1, -1, 0],\n",
       " [-1/1000, 0, 0, 0, 1, 0],\n",
       " [-1/500, 0, 0, 0, 0, 1],\n",
       " [1, -1, -1, -1, -1, -1],\n",
       " [-1, 1, 1, 1, 1, 1]]"
      ]
     },
     "execution_count": 84,
     "metadata": {},
     "output_type": "execute_result"
    }
   ],
   "source": [
    "mats[0]"
   ]
  },
  {
   "cell_type": "code",
   "execution_count": 85,
   "metadata": {},
   "outputs": [],
   "source": [
    "vlists = set()\n",
    "plist = []\n",
    "for mat in mats:\n",
    "    p = Polyhedron(ieqs = mat)\n",
    "    plist.append(p)\n",
    "    vlists|= set(p.vertices())\n",
    "vlists = list(vlists)\n",
    "pdim = plist[0].dimension()\n",
    "\n",
    "vdict = dict()\n",
    "for i in range(len(vlists)):\n",
    "    vdict[vlists[i]] = i\n",
    "\n",
    "nodelist = dict()\n",
    "# key is the index in ilist\n",
    "# value is the dictionary dnode\n",
    "# dnode takes dimension 0, ..., pdim as keys\n",
    "# takes set/tuple(json) of tuples of vertices index (faces) as values\n",
    "# the differential operator can be do by checking the subset of vertices index\n",
    "for i in range(len(ilist)):\n",
    "    key = ilist[i]\n",
    "    value = dict()\n",
    "    p = plist[i]\n",
    "    for j in range(pdim+1):\n",
    "        faces = p.faces(j)\n",
    "        fvIndexSet = set()\n",
    "        for f in faces:\n",
    "            tempindex =[]\n",
    "            for v in f.vertices():\n",
    "                tempindex.append(vdict[v])\n",
    "            fvIndexSet.add(tuple(sorted(tempindex)))\n",
    "        value[j] = tuple(fvIndexSet)\n",
    "    nodelist[key] = value\n",
    "    "
   ]
  },
  {
   "cell_type": "code",
   "execution_count": 86,
   "metadata": {},
   "outputs": [],
   "source": [
    "jsonNodelist = dict()\n",
    "for key in nodelist:\n",
    "    skey = str(key)\n",
    "    jsonNodelist[skey] = nodelist[key]\n",
    "    \n",
    "with open('x+y_o_1.json','w') as file:\n",
    "    json.dump(jsonNodelist,file)"
   ]
  },
  {
   "cell_type": "code",
   "execution_count": 87,
   "metadata": {},
   "outputs": [],
   "source": [
    "firstKey = list(nodelist.keys())[0]\n",
    "dim = len(nodelist[firstKey])-1\n",
    "fList = []\n",
    "for i in range(dim+1):\n",
    "    dimFL = set()\n",
    "    for cell in nodelist:\n",
    "        dimFL |= set(nodelist[cell][i])\n",
    "    fList.append(dimFL)"
   ]
  },
  {
   "cell_type": "code",
   "execution_count": 88,
   "metadata": {},
   "outputs": [
    {
     "name": "stdout",
     "output_type": "stream",
     "text": [
      "0 18\n",
      "1 48\n",
      "2 54\n",
      "3 29\n",
      "4 6\n"
     ]
    }
   ],
   "source": [
    "for i in range(dim+1):\n",
    "    print(i, len(fList[i]))"
   ]
  },
  {
   "cell_type": "markdown",
   "metadata": {},
   "source": [
    "# (3:1)"
   ]
  },
  {
   "cell_type": "code",
   "execution_count": 149,
   "metadata": {},
   "outputs": [
    {
     "name": "stdout",
     "output_type": "stream",
     "text": [
      "8_final.dat\n",
      "Threshold: 1 --> PG: 20\n"
     ]
    }
   ],
   "source": [
    "# x\n",
    "start =time.time()\n",
    "file = '8_final.dat'\n",
    "print(file)\n",
    "for i in range(1,2):\n",
    "    rx1 = getPartialOrderByThreshold(i,file)\n",
    "    print('Threshold: {} --> PG: {}'.format(i, len(rx1)))\n",
    "time.time() -start\n",
    "\n",
    "ls = list(rx1)\n",
    "ilist = list(rx1)\n",
    "noinedges = 3\n",
    "nothresholds = 1\n",
    "epsilon = 1/2**256\n",
    "pmatrix = []\n",
    "pmatrix = []\n",
    "generatePMatrix([2,2,2],pmatrix)\n",
    "#thresholdsorder = (0,)\n",
    "level = 1"
   ]
  },
  {
   "cell_type": "code",
   "execution_count": 150,
   "metadata": {},
   "outputs": [],
   "source": [
    "mats = generatePNMatrixLinear(ls,noinedges,nothresholds,epsilon,level,pmatrix)"
   ]
  },
  {
   "cell_type": "code",
   "execution_count": 152,
   "metadata": {},
   "outputs": [],
   "source": [
    "vlists = set()\n",
    "plist = []\n",
    "for mat in mats:\n",
    "    p = Polyhedron(ieqs = mat)\n",
    "    plist.append(p)\n",
    "    vlists|= set(p.vertices())\n",
    "vlists = list(vlists)\n",
    "pdim = plist[0].dimension()\n",
    "\n",
    "vdict = dict()\n",
    "for i in range(len(vlists)):\n",
    "    vdict[vlists[i]] = i\n",
    "\n",
    "nodelist = dict()\n",
    "# key is the index in ilist\n",
    "# value is the dictionary dnode\n",
    "# dnode takes dimension 0, ..., pdim as keys\n",
    "# takes set/tuple(json) of tuples of vertices index (faces) as values\n",
    "# the differential operator can be do by checking the subset of vertices index\n",
    "for i in range(len(ilist)):\n",
    "    key = ilist[i]\n",
    "    value = dict()\n",
    "    p = plist[i]\n",
    "    for j in range(pdim+1):\n",
    "        faces = p.faces(j)\n",
    "        fvIndexSet = set()\n",
    "        for f in faces:\n",
    "            tempindex =[]\n",
    "            for v in f.vertices():\n",
    "                tempindex.append(vdict[v])\n",
    "            fvIndexSet.add(tuple(sorted(tempindex)))\n",
    "        value[j] = tuple(fvIndexSet)\n",
    "    nodelist[key] = value\n",
    "    "
   ]
  },
  {
   "cell_type": "code",
   "execution_count": 153,
   "metadata": {},
   "outputs": [],
   "source": [
    "jsonNodelist = dict()\n",
    "for key in nodelist:\n",
    "    skey = str(key)\n",
    "    jsonNodelist[skey] = nodelist[key]\n",
    "    \n",
    "with open('x+y+z_o_1.json','w') as file:\n",
    "    json.dump(jsonNodelist,file)"
   ]
  },
  {
   "cell_type": "code",
   "execution_count": 154,
   "metadata": {},
   "outputs": [],
   "source": [
    "firstKey = list(nodelist.keys())[0]\n",
    "dim = len(nodelist[firstKey])-1\n",
    "fList = []\n",
    "for i in range(dim+1):\n",
    "    dimFL = set()\n",
    "    for cell in nodelist:\n",
    "        dimFL |= set(nodelist[cell][i])\n",
    "    fList.append(dimFL)"
   ]
  },
  {
   "cell_type": "code",
   "execution_count": 155,
   "metadata": {},
   "outputs": [
    {
     "name": "stdout",
     "output_type": "stream",
     "text": [
      "0 57\n",
      "1 243\n",
      "2 484\n",
      "3 551\n",
      "4 366\n",
      "5 132\n",
      "6 20\n"
     ]
    }
   ],
   "source": [
    "for i in range(dim+1):\n",
    "    print(i, len(fList[i]))"
   ]
  },
  {
   "cell_type": "markdown",
   "metadata": {},
   "source": [
    "# (4;1)"
   ]
  },
  {
   "cell_type": "code",
   "execution_count": 173,
   "metadata": {},
   "outputs": [
    {
     "name": "stdout",
     "output_type": "stream",
     "text": [
      "16_final.dat\n",
      "Threshold: 1 --> PG: 150\n"
     ]
    }
   ],
   "source": [
    "# x\n",
    "start =time.time()\n",
    "file = '16_final.dat'\n",
    "print(file)\n",
    "for i in range(1,2):\n",
    "    rx1 = getPartialOrderByThreshold(i,file)\n",
    "    print('Threshold: {} --> PG: {}'.format(i, len(rx1)))\n",
    "time.time() -start\n",
    "\n",
    "ls = list(rx1)\n",
    "ilist = list(rx1)\n",
    "noinedges = 4\n",
    "nothresholds = 1\n",
    "epsilon = 1/2**512\n",
    "pmatrix = []\n",
    "pmatrix = []\n",
    "generatePMatrix([2,2,2,2],pmatrix)\n",
    "#thresholdsorder = (0,)\n",
    "level = 1"
   ]
  },
  {
   "cell_type": "code",
   "execution_count": 174,
   "metadata": {},
   "outputs": [],
   "source": [
    "mats = generatePNMatrixLinear(ls,noinedges,nothresholds,epsilon,level,pmatrix)"
   ]
  },
  {
   "cell_type": "code",
   "execution_count": 176,
   "metadata": {},
   "outputs": [
    {
     "name": "stdout",
     "output_type": "stream",
     "text": [
      "0\n",
      "1\n",
      "2\n",
      "3\n",
      "4\n",
      "5\n",
      "6\n",
      "7\n",
      "8\n",
      "9\n",
      "10\n",
      "11\n",
      "12\n",
      "13\n",
      "14\n",
      "15\n",
      "16\n",
      "17\n",
      "18\n",
      "19\n",
      "20\n",
      "21\n",
      "22\n",
      "23\n",
      "24\n",
      "25\n",
      "26\n",
      "27\n",
      "28\n",
      "29\n",
      "30\n",
      "31\n",
      "32\n",
      "33\n",
      "34\n",
      "35\n",
      "36\n",
      "37\n",
      "38\n",
      "39\n",
      "40\n",
      "41\n",
      "42\n",
      "43\n",
      "44\n",
      "45\n",
      "46\n",
      "47\n",
      "48\n",
      "49\n",
      "50\n",
      "51\n",
      "52\n",
      "53\n",
      "54\n",
      "55\n",
      "56\n",
      "57\n",
      "58\n",
      "59\n",
      "60\n",
      "61\n",
      "62\n",
      "63\n",
      "64\n",
      "65\n",
      "66\n",
      "67\n",
      "68\n",
      "69\n",
      "70\n",
      "71\n",
      "72\n",
      "73\n",
      "74\n",
      "75\n",
      "76\n",
      "77\n",
      "78\n",
      "79\n",
      "80\n",
      "81\n",
      "82\n",
      "83\n",
      "84\n",
      "85\n",
      "86\n",
      "87\n",
      "88\n",
      "89\n",
      "90\n",
      "91\n",
      "92\n",
      "93\n",
      "94\n",
      "95\n",
      "96\n",
      "97\n",
      "98\n",
      "99\n",
      "100\n",
      "101\n",
      "102\n",
      "103\n",
      "104\n",
      "105\n",
      "106\n",
      "107\n",
      "108\n",
      "109\n",
      "110\n",
      "111\n",
      "112\n",
      "113\n",
      "114\n",
      "115\n",
      "116\n",
      "117\n",
      "118\n",
      "119\n",
      "120\n",
      "121\n",
      "122\n",
      "123\n",
      "124\n",
      "125\n",
      "126\n",
      "127\n",
      "128\n",
      "129\n",
      "130\n",
      "131\n",
      "132\n",
      "133\n",
      "134\n",
      "135\n",
      "136\n",
      "137\n",
      "138\n",
      "139\n",
      "140\n",
      "141\n",
      "142\n",
      "143\n",
      "144\n",
      "145\n",
      "146\n",
      "147\n",
      "148\n",
      "149\n"
     ]
    }
   ],
   "source": [
    "vlists = set()\n",
    "plist = []\n",
    "for mat in mats:\n",
    "    p = Polyhedron(ieqs = mat)\n",
    "    plist.append(p)\n",
    "    vlists|= set(p.vertices())\n",
    "vlists = list(vlists)\n",
    "pdim = plist[0].dimension()\n",
    "\n",
    "vdict = dict()\n",
    "for i in range(len(vlists)):\n",
    "    vdict[vlists[i]] = i\n",
    "\n",
    "nodelist = dict()\n",
    "# key is the index in ilist\n",
    "# value is the dictionary dnode\n",
    "# dnode takes dimension 0, ..., pdim as keys\n",
    "# takes set/tuple(json) of tuples of vertices index (faces) as values\n",
    "# the differential operator can be do by checking the subset of vertices index\n",
    "for i in range(len(ilist)):\n",
    "    print(i)\n",
    "    key = ilist[i]\n",
    "    value = dict()\n",
    "    p = plist[i]\n",
    "    for j in range(pdim+1):\n",
    "        faces = p.faces(j)\n",
    "        fvIndexSet = set()\n",
    "        for f in faces:\n",
    "            tempindex =[]\n",
    "            for v in f.vertices():\n",
    "                tempindex.append(vdict[v])\n",
    "            fvIndexSet.add(tuple(sorted(tempindex)))\n",
    "        value[j] = tuple(fvIndexSet)\n",
    "    nodelist[key] = value\n",
    "    "
   ]
  },
  {
   "cell_type": "code",
   "execution_count": 177,
   "metadata": {},
   "outputs": [],
   "source": [
    "jsonNodelist = dict()\n",
    "for key in nodelist:\n",
    "    skey = str(key)\n",
    "    jsonNodelist[skey] = nodelist[key]\n",
    "    \n",
    "with open('x+y+z+w_o_1.json','w') as file:\n",
    "    json.dump(jsonNodelist,file)"
   ]
  },
  {
   "cell_type": "code",
   "execution_count": 178,
   "metadata": {},
   "outputs": [],
   "source": [
    "firstKey = list(nodelist.keys())[0]\n",
    "dim = len(nodelist[firstKey])-1\n",
    "fList = []\n",
    "for i in range(dim+1):\n",
    "    dimFL = set()\n",
    "    for cell in nodelist:\n",
    "        dimFL |= set(nodelist[cell][i])\n",
    "    fList.append(dimFL)"
   ]
  },
  {
   "cell_type": "code",
   "execution_count": 179,
   "metadata": {},
   "outputs": [
    {
     "name": "stdout",
     "output_type": "stream",
     "text": [
      "0 306\n",
      "1 1902\n",
      "2 5700\n",
      "3 10380\n",
      "4 12224\n",
      "5 9370\n",
      "6 4520\n",
      "7 1247\n",
      "8 150\n"
     ]
    }
   ],
   "source": [
    "for i in range(dim+1):\n",
    "    print(i, len(fList[i]))"
   ]
  },
  {
   "cell_type": "markdown",
   "metadata": {},
   "source": [
    "# Case in: x out: 2 (ATM, Wip1)"
   ]
  },
  {
   "cell_type": "markdown",
   "metadata": {},
   "source": [
    "If there are multiple thresholds we can not just compute the case $\\theta_1 < \\theta_2$ but both of them, as for regulatory network the $\\theta_i$ are not in imsomorphic condition."
   ]
  },
  {
   "cell_type": "code",
   "execution_count": 94,
   "metadata": {},
   "outputs": [],
   "source": [
    "def thresholdSymmetry(l):\n",
    "    l = list(l)\n",
    "    indexList = []\n",
    "    valuesList = []\n",
    "    for i, value in enumerate(l):\n",
    "        if value < 0:\n",
    "            indexList.append(i)\n",
    "            valuesList.append(l[i])\n",
    "    \n",
    "    ret = []\n",
    "    for p in permutations(valuesList):\n",
    "        temp = l.copy()\n",
    "        for i in range(len(p)):\n",
    "            temp[indexList[i]] = p[i]\n",
    "        ret.append(tuple(temp))\n",
    "    return ret"
   ]
  },
  {
   "cell_type": "code",
   "execution_count": 38,
   "metadata": {},
   "outputs": [
    {
     "name": "stdout",
     "output_type": "stream",
     "text": [
      "2_final.dat\n",
      "Threshold: 2 --> PG: 6\n"
     ]
    },
    {
     "data": {
      "text/plain": [
       "0.001367807388305664"
      ]
     },
     "execution_count": 38,
     "metadata": {},
     "output_type": "execute_result"
    }
   ],
   "source": [
    "# prepare order list of atomic parameter node\n",
    "start =time.time()\n",
    "file = '2_final.dat'\n",
    "print(file)\n",
    "for i in range(2,3):\n",
    "    rx2 = getPartialOrderByThreshold(i,file)\n",
    "    print('Threshold: {} --> PG: {}'.format(i, len(rx2)))\n",
    "time.time() -start"
   ]
  },
  {
   "cell_type": "code",
   "execution_count": 39,
   "metadata": {},
   "outputs": [],
   "source": [
    "# compute matrix for each atomic parameter node\n",
    "oldls = list(rx2)\n",
    "noinedges = 1\n",
    "nothresholds = 2\n",
    "epsilon = 1/1000\n",
    "pmatrix = []\n",
    "generatePMatrix([2],pmatrix)\n",
    "level = 1\n",
    "thresholdsorder = (0,1)\n",
    "ls = []\n",
    "\n",
    "for i in oldls:\n",
    "    ls+=thresholdSymmetry(i)\n",
    "\n",
    "ilist = ls # the index list for atomic parameter node\n",
    "mats = generatePNMatrixLinear(ls,noinedges,nothresholds,epsilon,level,pmatrix)"
   ]
  },
  {
   "cell_type": "code",
   "execution_count": 40,
   "metadata": {},
   "outputs": [
    {
     "data": {
      "text/plain": [
       "(A vertex at (999/1000, 1/1000, 0, 0),\n",
       " A vertex at (1/500, 1/1000, 997/1000, 0),\n",
       " A vertex at (1001/2000, 999/2000, 0, 0),\n",
       " A vertex at (1/500, 1/1000, 997/2000, 997/2000))"
      ]
     },
     "execution_count": 40,
     "metadata": {},
     "output_type": "execute_result"
    }
   ],
   "source": [
    "# check the base region is bounded closed 2 is the number of polynomials\n",
    "basep = Polyhedron(ieqs = mats[0][2:])\n",
    "basep.Vrepresentation()"
   ]
  },
  {
   "cell_type": "code",
   "execution_count": 98,
   "metadata": {},
   "outputs": [],
   "source": [
    "vlists = set()\n",
    "plist = []\n",
    "for mat in mats:\n",
    "    p = Polyhedron(ieqs = mat)\n",
    "    plist.append(p)\n",
    "    vlists|= set(p.vertices())\n",
    "vlists = list(vlists)\n",
    "pdim = plist[0].dimension()\n",
    "\n",
    "vdict = dict()\n",
    "for i in range(len(vlists)):\n",
    "    vdict[vlists[i]] = i\n",
    "\n",
    "nodelist = dict()\n",
    "# key is the index in ilist\n",
    "# value is the dictionary dnode\n",
    "# dnode takes dimension 0, ..., pdim as keys\n",
    "# takes set/tuple(json) of tuples of vertices index (faces) as values\n",
    "# the differential operator can be do by checking the subset of vertices index\n",
    "for i in range(len(ilist)):\n",
    "    key = ilist[i]\n",
    "    value = dict()\n",
    "    p = plist[i]\n",
    "    for j in range(pdim+1):\n",
    "        faces = p.faces(j)\n",
    "        fvIndexSet = set()\n",
    "        for f in faces:\n",
    "            tempindex =[]\n",
    "            for v in f.vertices():\n",
    "                tempindex.append(vdict[v])\n",
    "            fvIndexSet.add(tuple(sorted(tempindex)))\n",
    "        value[j] = tuple(fvIndexSet)\n",
    "    nodelist[key] = value\n",
    "    "
   ]
  },
  {
   "cell_type": "code",
   "execution_count": 99,
   "metadata": {},
   "outputs": [],
   "source": [
    "jsonNodelist = dict()\n",
    "for key in nodelist:\n",
    "    skey = str(key)\n",
    "    jsonNodelist[skey] = nodelist[key]\n",
    "    \n",
    "with open('xy_o_1.json','w') as file:\n",
    "    json.dump(jsonNodelist,file)"
   ]
  },
  {
   "cell_type": "code",
   "execution_count": 100,
   "metadata": {},
   "outputs": [],
   "source": [
    "firstKey = list(nodelist.keys())[0]\n",
    "dim = len(nodelist[firstKey])-1\n",
    "fList = []\n",
    "for i in range(dim+1):\n",
    "    dimFL = set()\n",
    "    for cell in nodelist:\n",
    "        dimFL |= set(nodelist[cell][i])\n",
    "    fList.append(dimFL)"
   ]
  },
  {
   "cell_type": "code",
   "execution_count": 101,
   "metadata": {},
   "outputs": [
    {
     "name": "stdout",
     "output_type": "stream",
     "text": [
      "0 18\n",
      "1 48\n",
      "2 54\n",
      "3 29\n",
      "4 6\n"
     ]
    }
   ],
   "source": [
    "for i in range(dim+1):\n",
    "    print(i, len(fList[i]))"
   ]
  },
  {
   "cell_type": "markdown",
   "metadata": {},
   "source": [
    "# Nonlinear Case"
   ]
  },
  {
   "cell_type": "markdown",
   "metadata": {},
   "source": [
    "# (1,1;1)"
   ]
  },
  {
   "cell_type": "markdown",
   "metadata": {},
   "source": [
    "For product case, we should alwaya make restriction and then take log, as whenever we take the log \n",
    "the space will be unbounded. If we take log first, then it is not easy to find a bounded closed strong deformation retraction.\n",
    "\n",
    "restriction over $\\frac{u}{l} > 1+\\epsilon$, $log(u) - log(l) > log(1+\\epsilon)\\approx \\epsilon$, $l,\\theta>\\epsilon$ $\\prod u, l,\\theta =1$"
   ]
  },
  {
   "cell_type": "code",
   "execution_count": 190,
   "metadata": {},
   "outputs": [],
   "source": [
    "def diffByOneBit(a,b):\n",
    "    # a< b and differ only one bit\n",
    "    diff = abs(a-b)\n",
    "    if (a|b == b) and bin(diff).count('1') == 1:\n",
    "        return True\n",
    "    return False\n",
    "\n",
    "def generateOneBitCondition(m):\n",
    "    \n",
    "    counts = [int(np.log2(i)) for i in m]\n",
    "    bitsNo = [sum(counts[i+1:]) for i in range(len(counts))]\n",
    "    \n",
    "    pairs = set()\n",
    "    for i in range(len(m)):\n",
    "        component = m[i]\n",
    "        for j in range(component):\n",
    "            for k in range(j+1,component):\n",
    "                if diffByOneBit(j,k):\n",
    "                    pairs.add((j<<bitsNo[i],k<<bitsNo[i]))\n",
    "            \n",
    "    return pairs\n",
    "\n",
    "def generateOneBitPolynomialLogLinear(m, p_matrix,nothresholds,epsilon):\n",
    "    ret = []\n",
    "    pairs = generateOneBitCondition(m)\n",
    "    for l, u in pairs:\n",
    "        smallerPoly = p_matrix[l]\n",
    "        biggerPoly = p_matrix[u]\n",
    "        diffPoly = [-biggerPoly[j]+smallerPoly[j] for j in range(len(biggerPoly))]\n",
    "        diffPoly += [0 for j in range(nothresholds+1)]\n",
    "        diffPoly[-1] = -epsilon\n",
    "        ret.append(diffPoly)\n",
    "    return ret\n",
    "\n",
    "\n",
    "def generateThresholodLowerBoundLogLinear(m,nothresholds,smallestThreshold,lowerBound):\n",
    "    ret = []\n",
    "    \n",
    "    temp = [0 for _ in range(sum(m)+nothresholds+1)]\n",
    "    temp[sum(m)+smallestThreshold-1]=-1\n",
    "    temp[-1] = -lowerBound\n",
    "    ret.append(temp)\n",
    "    \n",
    "    return ret\n",
    "    \n",
    "\n",
    "def generateLsLowerBoundLogLinear(m,p_matrix,lowerBound,nothresholds):\n",
    "    # for l_i sums\n",
    "    ret = []\n",
    "    smallestPoly = p_matrix[0]\n",
    "    basis = 0\n",
    "    rightList = [0 for _ in range(nothresholds+1)]\n",
    "    rightList[-1] = -lowerBound\n",
    "    #print(smallestPoly)\n",
    "    for i in range(len(m)):\n",
    "        #print(smallestPoly[basis:basis+m[i]],basis,m[i])\n",
    "        temp = [0 for _ in range(basis)]+smallestPoly[basis:basis+m[i]]+[0 for _ in range(basis+m[i],len(smallestPoly))]\n",
    "        temp = [-x for x in temp]+rightList\n",
    "        ret.append(temp)\n",
    "        basis +=m[i]\n",
    "    \n",
    "    return ret\n",
    "\n",
    "\n",
    "def generateThresholdComparisonLogLinear(m,nothresholds,thresholdorders):\n",
    "    ret =  []\n",
    "    # \\sum  < level\n",
    "    base = sum(m)\n",
    "    for i in range(1,len(thresholdorders)):\n",
    "        temp = [0 for _ in range(base+nothresholds+1)]\n",
    "        biggerThreshold = thresholdorders[i]\n",
    "        smallerThreshold = thresholdorders[i-1]\n",
    "        temp[base+biggerThreshold-1]=-1\n",
    "        temp[base+smallerThreshold-1] = 1\n",
    "        ret.append(temp)\n",
    "    \n",
    "    return ret\n",
    "    \n",
    "\n",
    "\n",
    "def generateSDRLogLinear(m,nothresholds,level):\n",
    "    ret =  []\n",
    "    base = sum(m)\n",
    "    # \\sum  <= level\n",
    "    temp = [1 for _ in range(base+nothresholds+1)]\n",
    "    temp[-1] = level\n",
    "    ret.append(temp)\n",
    "    \n",
    "    # \\sum >= level\n",
    "    temp = [-1 for _ in range(base+nothresholds+1)]\n",
    "    temp[-1] = -level\n",
    "    ret.append(temp)\n",
    "    \n",
    "    # also need the parameter paper restrction -x_0 + x_1+x_2 - x_3 >=0\n",
    "    \n",
    "    return ret\n",
    "\n",
    "def generatePaperRestriction(m,nothresholds,epsilon):\n",
    "    base = sum(m)\n",
    "    temp = [0 for _ in range(base+nothresholds+1)]\n",
    "    temp[0:4] = [1,-1,-1,1]\n",
    "    temp[-1] = -epsilon\n",
    "    return [temp]\n",
    "\n",
    "\n",
    "# generate the matrix for parameter node\n",
    "def generatePNMatrixLogLinear(ls,m,nothresholds,epsilon,lowerbound,thetalowerbound,level,pmatrix):\n",
    "    ret = []\n",
    "    for i in range(len(ls)):\n",
    "        l = ls[i]\n",
    "        thresholdOrder = generateThresholdOrder(l)\n",
    "        temp = generatePolynomialRowLinear(l,pmatrix, nothresholds)\n",
    "        temp += generateOneBitPolynomialLogLinear(m,pmatrix,nothresholds,epsilon)\n",
    "        temp += generateLsLowerBoundLogLinear(m,pmatrix,lowerbound,nothresholds)\n",
    "        temp += generateThresholodLowerBoundLogLinear(m,nothresholds,thresholdOrder[0],thetalowerbound)\n",
    "        temp += generateSDRLogLinear(m,nothresholds,level)\n",
    "        temp += generateThresholdComparisonLogLinear(m,nothresholds,thresholdOrder)\n",
    "        ret.append(sagePTemplate(temp))\n",
    "        \n",
    "    return ret\n",
    "\n",
    "# for the generator of (x+y)z\n",
    "def generatePNMatrixLogLinearNotPure(ls,m,nothresholds,epsilon,lowerbound,thetalowerbound,level,pmatrix):\n",
    "    ret = []\n",
    "    for i in range(len(ls)):\n",
    "        l = ls[i]\n",
    "        thresholdOrder = generateThresholdOrder(l)\n",
    "        temp = generatePolynomialRowLinear(l,pmatrix, nothresholds)\n",
    "        temp += generateOneBitPolynomialLogLinear(m,pmatrix,nothresholds,epsilon)\n",
    "        temp += generateLsLowerBoundLogLinear(m,pmatrix,lowerbound,nothresholds)\n",
    "        temp += generateThresholodLowerBoundLogLinear(m,nothresholds,thresholdOrder[0],thetalowerbound)\n",
    "        temp += generateSDRLogLinear(m,nothresholds,level)\n",
    "        temp += generateThresholdComparisonLogLinear(m,nothresholds,thresholdOrder)\n",
    "        temp += generatePaperRestriction(m,nothresholds,epsilon)\n",
    "        ret.append(sagePTemplate(temp))\n",
    "        \n",
    "    return ret"
   ]
  },
  {
   "cell_type": "markdown",
   "metadata": {},
   "source": [
    "temp"
   ]
  },
  {
   "cell_type": "code",
   "execution_count": 114,
   "metadata": {},
   "outputs": [
    {
     "name": "stdout",
     "output_type": "stream",
     "text": [
      "2_2_final.dat\n",
      "Threshold: 1 --> PG: 6\n"
     ]
    },
    {
     "data": {
      "text/plain": [
       "0.002048015594482422"
      ]
     },
     "execution_count": 114,
     "metadata": {},
     "output_type": "execute_result"
    }
   ],
   "source": [
    "# prepare order list of atomic parameter node\n",
    "start =time.time()\n",
    "file = '2_2_final.dat'\n",
    "print(file)\n",
    "for i in range(1,2):\n",
    "    rxy1 = getPartialOrderByThreshold(i,file)\n",
    "    print('Threshold: {} --> PG: {}'.format(i, len(rxy1)))\n",
    "time.time() -start"
   ]
  },
  {
   "cell_type": "code",
   "execution_count": 115,
   "metadata": {},
   "outputs": [],
   "source": [
    "# compute matrix for each atomic parameter node\n",
    "oldls = list(rxy1)\n",
    "m = [2,2]\n",
    "nothresholds = 1\n",
    "epsilon = 1/1000\n",
    "lowerbound = -10\n",
    "# thetalowerbound = lowerbound*inedges\n",
    "thetalowerbound = 2*lowerbound\n",
    "pmatrix = []\n",
    "generatePMatrix([2,2],pmatrix)\n",
    "level = 0\n",
    "ls = []\n",
    "\n",
    "for i in oldls:\n",
    "    ls+=thresholdSymmetry(i)\n",
    "\n",
    "ilist = ls # the index list for atomic parameter node\n",
    "mats = generatePNMatrixLogLinear(ls,m,nothresholds,epsilon,lowerbound,thetalowerbound,level,pmatrix)"
   ]
  },
  {
   "cell_type": "code",
   "execution_count": 116,
   "metadata": {},
   "outputs": [
    {
     "data": {
      "text/plain": [
       "[[0, 0, 1, 0, 1, -1],\n",
       " [0, 0, 1, 1, 0, -1],\n",
       " [0, 1, 0, 0, 1, -1],\n",
       " [0, 1, 0, 1, 0, -1],\n",
       " [-1/1000, 0, 0, 1, -1, 0],\n",
       " [-1/1000, 1, -1, 0, 0, 0],\n",
       " [10, 0, 1, 0, 0, 0],\n",
       " [10, 0, 0, 0, 1, 0],\n",
       " [20, 0, 0, 0, 0, 1],\n",
       " [0, -1, -1, -1, -1, -1],\n",
       " [0, 1, 1, 1, 1, 1]]"
      ]
     },
     "execution_count": 116,
     "metadata": {},
     "output_type": "execute_result"
    }
   ],
   "source": [
    "mats[0]"
   ]
  },
  {
   "cell_type": "code",
   "execution_count": 117,
   "metadata": {},
   "outputs": [
    {
     "data": {
      "text/plain": [
       "(A vertex at (49999/1000, -10, -9999/1000, -10, -20),\n",
       " A vertex at (20, 19999/1000, -9999/1000, -10, -20),\n",
       " A vertex at (-9999/1000, -10, 49999/1000, -10, -20),\n",
       " A vertex at (-9999/1000, -10, -9999/1000, -10, 19999/500),\n",
       " A vertex at (-9999/1000, -10, 20, 19999/1000, -20))"
      ]
     },
     "execution_count": 117,
     "metadata": {},
     "output_type": "execute_result"
    }
   ],
   "source": [
    "# check whether the base regions is bounded closed\n",
    "basep = Polyhedron(ieqs = mats[0][4:])\n",
    "basep.Vrepresentation()"
   ]
  },
  {
   "cell_type": "code",
   "execution_count": 118,
   "metadata": {},
   "outputs": [],
   "source": [
    "vlists = set()\n",
    "plist = []\n",
    "for mat in mats:\n",
    "    p = Polyhedron(ieqs = mat)\n",
    "    plist.append(p)\n",
    "    vlists|= set(p.vertices())\n",
    "vlists = list(vlists)\n",
    "pdim = plist[0].dimension()\n",
    "\n",
    "vdict = dict()\n",
    "for i in range(len(vlists)):\n",
    "    vdict[vlists[i]] = i\n",
    "\n",
    "nodelist = dict()\n",
    "# key is the index in ilist\n",
    "# value is the dictionary dnode\n",
    "# dnode takes dimension 0, ..., pdim as keys\n",
    "# takes set/tuple(json) of tuples of vertices index (faces) as values\n",
    "# the differential operator can be do by checking the subset of vertices index\n",
    "for i in range(len(ilist)):\n",
    "    key = ilist[i]\n",
    "    value = dict()\n",
    "    p = plist[i]\n",
    "    for j in range(pdim+1):\n",
    "        faces = p.faces(j)\n",
    "        fvIndexSet = set()\n",
    "        for f in faces:\n",
    "            tempindex =[]\n",
    "            for v in f.vertices():\n",
    "                tempindex.append(vdict[v])\n",
    "            fvIndexSet.add(tuple(sorted(tempindex)))\n",
    "        value[j] = tuple(fvIndexSet)\n",
    "    nodelist[key] = value"
   ]
  },
  {
   "cell_type": "code",
   "execution_count": 119,
   "metadata": {},
   "outputs": [],
   "source": [
    "jsonNodelist = dict()\n",
    "for key in nodelist:\n",
    "    skey = str(key)\n",
    "    jsonNodelist[skey] = nodelist[key]\n",
    "    \n",
    "with open('xy_o_1.json','w') as file:\n",
    "    json.dump(jsonNodelist,file)"
   ]
  },
  {
   "cell_type": "code",
   "execution_count": 120,
   "metadata": {},
   "outputs": [],
   "source": [
    "firstKey = list(nodelist.keys())[0]\n",
    "dim = len(nodelist[firstKey])-1\n",
    "fList = []\n",
    "for i in range(dim+1):\n",
    "    dimFL = set()\n",
    "    for cell in nodelist:\n",
    "        dimFL |= set(nodelist[cell][i])\n",
    "    fList.append(dimFL)"
   ]
  },
  {
   "cell_type": "code",
   "execution_count": 121,
   "metadata": {},
   "outputs": [
    {
     "name": "stdout",
     "output_type": "stream",
     "text": [
      "0 18\n",
      "1 48\n",
      "2 54\n",
      "3 29\n",
      "4 6\n"
     ]
    }
   ],
   "source": [
    "for i in range(dim+1):\n",
    "    print(i, len(fList[i]))"
   ]
  },
  {
   "cell_type": "markdown",
   "metadata": {},
   "source": [
    "# (1,1,1:1)"
   ]
  },
  {
   "cell_type": "code",
   "execution_count": 157,
   "metadata": {},
   "outputs": [
    {
     "name": "stdout",
     "output_type": "stream",
     "text": [
      "2_2_2_final.dat\n",
      "Threshold: 1 --> PG: 20\n"
     ]
    },
    {
     "data": {
      "text/plain": [
       "0.003187894821166992"
      ]
     },
     "execution_count": 157,
     "metadata": {},
     "output_type": "execute_result"
    }
   ],
   "source": [
    "# prepare order list of atomic parameter node\n",
    "start =time.time()\n",
    "file = '2_2_2_final.dat'\n",
    "print(file)\n",
    "for i in range(1,2):\n",
    "    rxy1 = getPartialOrderByThreshold(i,file)\n",
    "    print('Threshold: {} --> PG: {}'.format(i, len(rxy1)))\n",
    "time.time() -start"
   ]
  },
  {
   "cell_type": "code",
   "execution_count": 159,
   "metadata": {},
   "outputs": [],
   "source": [
    "# compute matrix for each atomic parameter node\n",
    "oldls = list(rxy1)\n",
    "m = [2,2,2]\n",
    "nothresholds = 1\n",
    "epsilon = 1/2**256\n",
    "lowerbound = -10\n",
    "# thetalowerbound = lowerbound*inedges\n",
    "thetalowerbound = 3*lowerbound\n",
    "pmatrix = []\n",
    "generatePMatrix([2,2,2],pmatrix)\n",
    "level = 0\n",
    "ls = []\n",
    "\n",
    "for i in oldls:\n",
    "    ls+=thresholdSymmetry(i)\n",
    "\n",
    "ilist = ls # the index list for atomic parameter node\n",
    "mats = generatePNMatrixLogLinear(ls,m,nothresholds,epsilon,lowerbound,thetalowerbound,level,pmatrix)"
   ]
  },
  {
   "cell_type": "code",
   "execution_count": 161,
   "metadata": {},
   "outputs": [],
   "source": [
    "vlists = set()\n",
    "plist = []\n",
    "for mat in mats:\n",
    "    p = Polyhedron(ieqs = mat)\n",
    "    plist.append(p)\n",
    "    vlists|= set(p.vertices())\n",
    "vlists = list(vlists)\n",
    "pdim = plist[0].dimension()\n",
    "\n",
    "vdict = dict()\n",
    "for i in range(len(vlists)):\n",
    "    vdict[vlists[i]] = i\n",
    "\n",
    "nodelist = dict()\n",
    "# key is the index in ilist\n",
    "# value is the dictionary dnode\n",
    "# dnode takes dimension 0, ..., pdim as keys\n",
    "# takes set/tuple(json) of tuples of vertices index (faces) as values\n",
    "# the differential operator can be do by checking the subset of vertices index\n",
    "for i in range(len(ilist)):\n",
    "    key = ilist[i]\n",
    "    value = dict()\n",
    "    p = plist[i]\n",
    "    for j in range(pdim+1):\n",
    "        faces = p.faces(j)\n",
    "        fvIndexSet = set()\n",
    "        for f in faces:\n",
    "            tempindex =[]\n",
    "            for v in f.vertices():\n",
    "                tempindex.append(vdict[v])\n",
    "            fvIndexSet.add(tuple(sorted(tempindex)))\n",
    "        value[j] = tuple(fvIndexSet)\n",
    "    nodelist[key] = value"
   ]
  },
  {
   "cell_type": "code",
   "execution_count": 162,
   "metadata": {},
   "outputs": [],
   "source": [
    "jsonNodelist = dict()\n",
    "for key in nodelist:\n",
    "    skey = str(key)\n",
    "    jsonNodelist[skey] = nodelist[key]\n",
    "    \n",
    "with open('xyz_o_1.json','w') as file:\n",
    "    json.dump(jsonNodelist,file)"
   ]
  },
  {
   "cell_type": "code",
   "execution_count": 163,
   "metadata": {},
   "outputs": [],
   "source": [
    "firstKey = list(nodelist.keys())[0]\n",
    "dim = len(nodelist[firstKey])-1\n",
    "fList = []\n",
    "for i in range(dim+1):\n",
    "    dimFL = set()\n",
    "    for cell in nodelist:\n",
    "        dimFL |= set(nodelist[cell][i])\n",
    "    fList.append(dimFL)"
   ]
  },
  {
   "cell_type": "code",
   "execution_count": 164,
   "metadata": {},
   "outputs": [
    {
     "name": "stdout",
     "output_type": "stream",
     "text": [
      "0 57\n",
      "1 243\n",
      "2 484\n",
      "3 551\n",
      "4 366\n",
      "5 132\n",
      "6 20\n"
     ]
    }
   ],
   "source": [
    "for i in range(dim+1):\n",
    "    print(i, len(fList[i]))"
   ]
  },
  {
   "cell_type": "markdown",
   "metadata": {},
   "source": [
    "# (1,1,1,1:1)"
   ]
  },
  {
   "cell_type": "code",
   "execution_count": 166,
   "metadata": {},
   "outputs": [
    {
     "name": "stdout",
     "output_type": "stream",
     "text": [
      "2_2_2_2_final.dat\n",
      "Threshold: 1 --> PG: 150\n"
     ]
    }
   ],
   "source": [
    "# prepare order list of atomic parameter node\n",
    "start =time.time()\n",
    "file = '2_2_2_2_final.dat'\n",
    "print(file)\n",
    "for i in range(1,2):\n",
    "    rxy1 = getPartialOrderByThreshold(i,file)\n",
    "    print('Threshold: {} --> PG: {}'.format(i, len(rxy1)))\n",
    "time.time() -start\n",
    "\n",
    "# compute matrix for each atomic parameter node\n",
    "oldls = list(rxy1)\n",
    "m = [2,2,2,2]\n",
    "nothresholds = 1\n",
    "epsilon = 1/2**512\n",
    "lowerbound = -10\n",
    "# thetalowerbound = lowerbound*inedges\n",
    "thetalowerbound = 4*lowerbound\n",
    "pmatrix = []\n",
    "generatePMatrix([2,2,2,2],pmatrix)\n",
    "level = 0\n",
    "ls = []\n",
    "\n",
    "for i in oldls:\n",
    "    ls+=thresholdSymmetry(i)\n",
    "\n",
    "ilist = ls # the index list for atomic parameter node\n",
    "mats = generatePNMatrixLogLinear(ls,m,nothresholds,epsilon,lowerbound,thetalowerbound,level,pmatrix)"
   ]
  },
  {
   "cell_type": "code",
   "execution_count": 169,
   "metadata": {},
   "outputs": [
    {
     "name": "stdout",
     "output_type": "stream",
     "text": [
      "done 1\n",
      "done 2\n",
      "0\n",
      "1\n",
      "2\n",
      "3\n",
      "4\n",
      "5\n",
      "6\n",
      "7\n",
      "8\n",
      "9\n",
      "10\n",
      "11\n",
      "12\n",
      "13\n",
      "14\n",
      "15\n",
      "16\n",
      "17\n",
      "18\n",
      "19\n",
      "20\n",
      "21\n",
      "22\n",
      "23\n",
      "24\n",
      "25\n",
      "26\n",
      "27\n",
      "28\n",
      "29\n",
      "30\n",
      "31\n",
      "32\n",
      "33\n",
      "34\n",
      "35\n",
      "36\n",
      "37\n",
      "38\n",
      "39\n",
      "40\n",
      "41\n",
      "42\n",
      "43\n",
      "44\n",
      "45\n",
      "46\n",
      "47\n",
      "48\n",
      "49\n",
      "50\n",
      "51\n",
      "52\n",
      "53\n",
      "54\n",
      "55\n",
      "56\n",
      "57\n",
      "58\n",
      "59\n",
      "60\n",
      "61\n",
      "62\n",
      "63\n",
      "64\n",
      "65\n",
      "66\n",
      "67\n",
      "68\n",
      "69\n",
      "70\n",
      "71\n",
      "72\n",
      "73\n",
      "74\n",
      "75\n",
      "76\n",
      "77\n",
      "78\n",
      "79\n",
      "80\n",
      "81\n",
      "82\n",
      "83\n",
      "84\n",
      "85\n",
      "86\n",
      "87\n",
      "88\n",
      "89\n",
      "90\n",
      "91\n",
      "92\n",
      "93\n",
      "94\n",
      "95\n",
      "96\n",
      "97\n",
      "98\n",
      "99\n",
      "100\n",
      "101\n",
      "102\n",
      "103\n",
      "104\n",
      "105\n",
      "106\n",
      "107\n",
      "108\n",
      "109\n",
      "110\n",
      "111\n",
      "112\n",
      "113\n",
      "114\n",
      "115\n",
      "116\n",
      "117\n",
      "118\n",
      "119\n",
      "120\n",
      "121\n",
      "122\n",
      "123\n",
      "124\n",
      "125\n",
      "126\n",
      "127\n",
      "128\n",
      "129\n",
      "130\n",
      "131\n",
      "132\n",
      "133\n",
      "134\n",
      "135\n",
      "136\n",
      "137\n",
      "138\n",
      "139\n",
      "140\n",
      "141\n",
      "142\n",
      "143\n",
      "144\n",
      "145\n",
      "146\n",
      "147\n",
      "148\n",
      "149\n"
     ]
    }
   ],
   "source": [
    "vlists = set()\n",
    "plist = []\n",
    "count = 0\n",
    "for mat in mats:\n",
    "    p = Polyhedron(ieqs = mat)\n",
    "    plist.append(p)\n",
    "    vlists|= set(p.vertices())\n",
    "vlists = list(vlists)\n",
    "pdim = plist[0].dimension()\n",
    "\n",
    "print(\"done 1\")\n",
    "\n",
    "vdict = dict()\n",
    "for i in range(len(vlists)):\n",
    "    vdict[vlists[i]] = i\n",
    "\n",
    "print(\"done 2\")\n",
    "\n",
    "nodelist = dict()\n",
    "# key is the index in ilist\n",
    "# value is the dictionary dnode\n",
    "# dnode takes dimension 0, ..., pdim as keys\n",
    "# takes set/tuple(json) of tuples of vertices index (faces) as values\n",
    "# the differential operator can be do by checking the subset of vertices index\n",
    "for i in range(len(ilist)):\n",
    "    print(i)\n",
    "    key = ilist[i]\n",
    "    value = dict()\n",
    "    p = plist[i]\n",
    "    for j in range(pdim+1):\n",
    "        faces = p.faces(j)\n",
    "        fvIndexSet = set()\n",
    "        for f in faces:\n",
    "            tempindex =[]\n",
    "            for v in f.vertices():\n",
    "                tempindex.append(vdict[v])\n",
    "            fvIndexSet.add(tuple(sorted(tempindex)))\n",
    "        value[j] = tuple(fvIndexSet)\n",
    "    nodelist[key] = value"
   ]
  },
  {
   "cell_type": "code",
   "execution_count": 170,
   "metadata": {},
   "outputs": [],
   "source": [
    "jsonNodelist = dict()\n",
    "for key in nodelist:\n",
    "    skey = str(key)\n",
    "    jsonNodelist[skey] = nodelist[key]\n",
    "    \n",
    "with open('xyzw_o_1.json','w') as file:\n",
    "    json.dump(jsonNodelist,file)"
   ]
  },
  {
   "cell_type": "code",
   "execution_count": 171,
   "metadata": {},
   "outputs": [],
   "source": [
    "firstKey = list(nodelist.keys())[0]\n",
    "dim = len(nodelist[firstKey])-1\n",
    "fList = []\n",
    "for i in range(dim+1):\n",
    "    dimFL = set()\n",
    "    for cell in nodelist:\n",
    "        dimFL |= set(nodelist[cell][i])\n",
    "    fList.append(dimFL)"
   ]
  },
  {
   "cell_type": "code",
   "execution_count": 172,
   "metadata": {},
   "outputs": [
    {
     "name": "stdout",
     "output_type": "stream",
     "text": [
      "0 306\n",
      "1 1902\n",
      "2 5700\n",
      "3 10380\n",
      "4 12224\n",
      "5 9370\n",
      "6 4520\n",
      "7 1247\n",
      "8 150\n"
     ]
    }
   ],
   "source": [
    "for i in range(dim+1):\n",
    "    print(i, len(fList[i]))"
   ]
  },
  {
   "cell_type": "markdown",
   "metadata": {},
   "source": [
    "# Case in: (x+y)z out: 2 (p53)"
   ]
  },
  {
   "cell_type": "markdown",
   "metadata": {},
   "source": [
    "For this case, we first explain the correspondence bewtween the unbouned cells of (x+y)z and linearized case, then make restriction $\\epsilon$ in original parameters but transform them to \n",
    "the linearized space for computation problem. The regularity can be proved by using the strong \n",
    "deformation retraction technique for parameter logic $(2,1,\\dots,1)$ rather than direct computation.\n",
    "\n",
    "The base region also include onebit condition componentwise."
   ]
  },
  {
   "cell_type": "code",
   "execution_count": 107,
   "metadata": {},
   "outputs": [
    {
     "name": "stdout",
     "output_type": "stream",
     "text": [
      "4_2_final.dat\n",
      "Threshold: 2 --> PG: 155\n"
     ]
    },
    {
     "data": {
      "text/plain": [
       "0.008254051208496094"
      ]
     },
     "execution_count": 107,
     "metadata": {},
     "output_type": "execute_result"
    }
   ],
   "source": [
    "start =time.time()\n",
    "file = '4_2_final.dat'\n",
    "print(file)\n",
    "for i in range(2,3):\n",
    "    rxyz2 = getPartialOrderByThreshold(i,file)\n",
    "    print('Threshold: {} --> PG: {}'.format(i, len(rxyz2)))\n",
    "time.time() -start"
   ]
  },
  {
   "cell_type": "code",
   "execution_count": 108,
   "metadata": {},
   "outputs": [],
   "source": [
    "# compute matrix for each atomic parameter node\n",
    "oldls = list(rxyz2)\n",
    "m = [4,2]\n",
    "noinedges = 3\n",
    "nothresholds = 2\n",
    "epsilon = 1/1000\n",
    "lowerbound = -10\n",
    "thetalowerbound = 2*lowerbound # homogeneity degree\n",
    "pmatrix = []\n",
    "\n",
    "generatePMatrix([4,2],pmatrix)\n",
    "level = 0\n",
    "thresholdsorder = (0,1)\n",
    "ls = []\n",
    "\n",
    "for i in oldls:\n",
    "    ls+=thresholdSymmetry(i)\n",
    "\n",
    "\n",
    "ilist = ls # the index list for atomic parameter node\n",
    "mats = generatePNMatrixLogLinear(ls,m,nothresholds,epsilon,lowerbound,thetalowerbound,level,pmatrix)"
   ]
  },
  {
   "cell_type": "code",
   "execution_count": 111,
   "metadata": {},
   "outputs": [
    {
     "data": {
      "text/plain": [
       "[[-1/1000, 0, 0, 0, 0, 1, -1, 0, 0],\n",
       " [-1/1000, 1, 0, -1, 0, 0, 0, 0, 0],\n",
       " [-1/1000, 1, -1, 0, 0, 0, 0, 0, 0],\n",
       " [-1/1000, 0, 1, 0, -1, 0, 0, 0, 0],\n",
       " [-1/1000, 0, 0, 1, -1, 0, 0, 0, 0],\n",
       " [10, 0, 0, 0, 1, 0, 0, 0, 0],\n",
       " [10, 0, 0, 0, 0, 0, 1, 0, 0],\n",
       " [20, 0, 0, 0, 0, 0, 0, 0, 1],\n",
       " [0, -1, -1, -1, -1, -1, -1, -1, -1],\n",
       " [0, 1, 1, 1, 1, 1, 1, 1, 1],\n",
       " [0, 0, 0, 0, 0, 0, 0, 1, -1]]"
      ]
     },
     "execution_count": 111,
     "metadata": {},
     "output_type": "execute_result"
    }
   ],
   "source": [
    "mats[0][-11:]"
   ]
  },
  {
   "cell_type": "code",
   "execution_count": 112,
   "metadata": {},
   "outputs": [
    {
     "data": {
      "text/plain": [
       "(A vertex at (60003/4000, 59999/4000, 59999/4000, 11999/800, -9999/1000, -10, -20, -20),\n",
       " A vertex at (-4999/500, -9999/1000, -9999/1000, -10, -9999/1000, -10, 11999/400, 11999/400),\n",
       " A vertex at (-4999/500, -9999/1000, -9999/1000, -10, -9999/1000, -10, 15999/200, -20),\n",
       " A vertex at (-4999/500, -9999/1000, -9999/1000, -10, 79997/2000, 15999/400, -20, -20),\n",
       " A vertex at (-4999/500, -9999/1000, -9999/1000, -10, 22499/250, -10, -20, -20),\n",
       " A vertex at (79999/2000, 79997/2000, -9999/1000, -10, -9999/1000, -10, -20, -20),\n",
       " A vertex at (89997/1000, -9999/1000, -9999/1000, -10, -9999/1000, -10, -20, -20),\n",
       " A vertex at (79999/2000, -9999/1000, 79997/2000, -10, -9999/1000, -10, -20, -20),\n",
       " A vertex at (70001/3000, 34999/1500, 34999/1500, -10, -9999/1000, -10, -20, -20))"
      ]
     },
     "execution_count": 112,
     "metadata": {},
     "output_type": "execute_result"
    }
   ],
   "source": [
    "# check the base region is bounded and closed\n",
    "# look it is not closed as the onebit is not complete and we should also add -X_0+X_1+X_2-X_3 >=0\n",
    "basep = Polyhedron(ieqs =mats[0][-11:])\n",
    "basep.Vrepresentation()"
   ]
  },
  {
   "cell_type": "code",
   "execution_count": 113,
   "metadata": {},
   "outputs": [],
   "source": [
    "# generate set of vertices\n",
    "vlists = set()\n",
    "plist = []\n",
    "for mat in mats:\n",
    "    p = Polyhedron(ieqs = mat)\n",
    "    plist.append(p)\n",
    "    vlists|= set(p.vertices())\n",
    "vlists = list(vlists)\n",
    "pdim = plist[0].dimension()\n",
    "\n",
    "vdict = dict()\n",
    "for i in range(len(vlists)):\n",
    "    vdict[vlists[i]] = i"
   ]
  },
  {
   "cell_type": "code",
   "execution_count": 114,
   "metadata": {},
   "outputs": [
    {
     "name": "stdout",
     "output_type": "stream",
     "text": [
      "0\n",
      "1\n",
      "2\n",
      "3\n",
      "4\n",
      "5\n",
      "6\n",
      "7\n",
      "8\n",
      "9\n",
      "10\n",
      "11\n",
      "12\n",
      "13\n",
      "14\n",
      "15\n",
      "16\n",
      "17\n",
      "18\n",
      "19\n",
      "20\n",
      "21\n",
      "22\n",
      "23\n",
      "24\n",
      "25\n",
      "26\n",
      "27\n",
      "28\n",
      "29\n",
      "30\n",
      "31\n",
      "32\n",
      "33\n",
      "34\n",
      "35\n",
      "36\n",
      "37\n",
      "38\n",
      "39\n",
      "40\n",
      "41\n",
      "42\n",
      "43\n",
      "44\n",
      "45\n",
      "46\n",
      "47\n",
      "48\n",
      "49\n",
      "50\n",
      "51\n",
      "52\n",
      "53\n",
      "54\n",
      "55\n",
      "56\n",
      "57\n",
      "58\n",
      "59\n",
      "60\n",
      "61\n",
      "62\n",
      "63\n",
      "64\n",
      "65\n",
      "66\n",
      "67\n",
      "68\n",
      "69\n",
      "70\n",
      "71\n",
      "72\n",
      "73\n",
      "74\n",
      "75\n",
      "76\n",
      "77\n",
      "78\n",
      "79\n",
      "80\n",
      "81\n",
      "82\n",
      "83\n",
      "84\n",
      "85\n",
      "86\n",
      "87\n",
      "88\n",
      "89\n",
      "90\n",
      "91\n",
      "92\n",
      "93\n",
      "94\n",
      "95\n",
      "96\n",
      "97\n",
      "98\n",
      "99\n",
      "100\n",
      "101\n",
      "102\n",
      "103\n",
      "104\n",
      "105\n",
      "106\n",
      "107\n",
      "108\n",
      "109\n",
      "110\n",
      "111\n",
      "112\n",
      "113\n",
      "114\n",
      "115\n",
      "116\n",
      "117\n",
      "118\n",
      "119\n",
      "120\n",
      "121\n",
      "122\n",
      "123\n",
      "124\n",
      "125\n",
      "126\n",
      "127\n",
      "128\n",
      "129\n",
      "130\n",
      "131\n",
      "132\n",
      "133\n",
      "134\n",
      "135\n",
      "136\n",
      "137\n",
      "138\n",
      "139\n",
      "140\n",
      "141\n",
      "142\n",
      "143\n",
      "144\n",
      "145\n",
      "146\n",
      "147\n",
      "148\n",
      "149\n",
      "150\n",
      "151\n",
      "152\n",
      "153\n",
      "154\n",
      "155\n",
      "156\n",
      "157\n",
      "158\n",
      "159\n",
      "160\n",
      "161\n",
      "162\n",
      "163\n",
      "164\n",
      "165\n",
      "166\n",
      "167\n",
      "168\n",
      "169\n",
      "170\n",
      "171\n",
      "172\n",
      "173\n",
      "174\n",
      "175\n",
      "176\n",
      "177\n",
      "178\n",
      "179\n",
      "180\n",
      "181\n",
      "182\n",
      "183\n",
      "184\n",
      "185\n",
      "186\n",
      "187\n",
      "188\n",
      "189\n",
      "190\n",
      "191\n",
      "192\n",
      "193\n",
      "194\n",
      "195\n",
      "196\n",
      "197\n",
      "198\n",
      "199\n",
      "200\n",
      "201\n",
      "202\n",
      "203\n",
      "204\n",
      "205\n",
      "206\n",
      "207\n",
      "208\n",
      "209\n",
      "210\n",
      "211\n",
      "212\n",
      "213\n",
      "214\n",
      "215\n",
      "216\n",
      "217\n",
      "218\n",
      "219\n",
      "220\n",
      "221\n",
      "222\n",
      "223\n",
      "224\n",
      "225\n",
      "226\n",
      "227\n",
      "228\n",
      "229\n",
      "230\n",
      "231\n",
      "232\n",
      "233\n",
      "234\n",
      "235\n",
      "236\n",
      "237\n",
      "238\n",
      "239\n",
      "240\n",
      "241\n",
      "242\n",
      "243\n",
      "244\n",
      "245\n",
      "246\n",
      "247\n",
      "248\n",
      "249\n",
      "250\n",
      "251\n",
      "252\n",
      "253\n",
      "254\n",
      "255\n",
      "256\n",
      "257\n",
      "258\n",
      "259\n",
      "260\n",
      "261\n",
      "262\n",
      "263\n",
      "264\n",
      "265\n",
      "266\n",
      "267\n",
      "268\n",
      "269\n",
      "270\n",
      "271\n",
      "272\n",
      "273\n",
      "274\n",
      "275\n",
      "276\n",
      "277\n",
      "278\n",
      "279\n",
      "280\n",
      "281\n",
      "282\n",
      "283\n",
      "284\n",
      "285\n",
      "286\n",
      "287\n",
      "288\n",
      "289\n",
      "290\n",
      "291\n",
      "292\n",
      "293\n",
      "294\n",
      "295\n",
      "296\n",
      "297\n",
      "298\n",
      "299\n",
      "300\n",
      "301\n",
      "302\n",
      "303\n",
      "304\n",
      "305\n",
      "306\n",
      "307\n",
      "308\n",
      "309\n"
     ]
    }
   ],
   "source": [
    "nodelist = dict()\n",
    "for i in range(len(ilist)):\n",
    "    print(i)\n",
    "    key = ilist[i]\n",
    "    value = dict()\n",
    "    p = plist[i]\n",
    "    for j in range(pdim+1):\n",
    "        faces = p.faces(j)\n",
    "        fvIndexSet = set()\n",
    "        for f in faces:\n",
    "            tempindex =[]\n",
    "            for v in f.vertices():\n",
    "                tempindex.append(vdict[v])\n",
    "            fvIndexSet.add(tuple(sorted(tempindex)))\n",
    "        value[j] = tuple(fvIndexSet)\n",
    "    nodelist[key] = value"
   ]
  },
  {
   "cell_type": "code",
   "execution_count": 116,
   "metadata": {},
   "outputs": [],
   "source": [
    "# check the length of 0 and 1 cellss\n",
    "s0 = set()\n",
    "s1 = set()\n",
    "for key in nodelist:\n",
    "    cell0 = nodelist[key][0]\n",
    "    cell1 = nodelist[key][1]\n",
    "    \n",
    "    for i in cell0:\n",
    "        s0.add(len(i))\n",
    "    for i in cell1:\n",
    "        s1.add(len(i))"
   ]
  },
  {
   "cell_type": "code",
   "execution_count": 118,
   "metadata": {},
   "outputs": [
    {
     "data": {
      "text/plain": [
       "({1}, {2})"
      ]
     },
     "execution_count": 118,
     "metadata": {},
     "output_type": "execute_result"
    }
   ],
   "source": [
    "s0,s1"
   ]
  },
  {
   "cell_type": "code",
   "execution_count": 119,
   "metadata": {},
   "outputs": [],
   "source": [
    "# modify the key to string and store to json files \n",
    "jsonNodelist = dict()\n",
    "for key in nodelist:\n",
    "    skey = str(key)\n",
    "    jsonNodelist[skey] = nodelist[key]\n",
    "\n",
    "with open('(x+y)z_o_2.json','w') as file:\n",
    "    json.dump(jsonNodelist,file)"
   ]
  },
  {
   "cell_type": "code",
   "execution_count": 120,
   "metadata": {},
   "outputs": [
    {
     "data": {
      "text/plain": [
       "'/Users/lunzhang/Desktop/datapool/Homology'"
      ]
     },
     "execution_count": 120,
     "metadata": {},
     "output_type": "execute_result"
    }
   ],
   "source": [
    "pwd"
   ]
  },
  {
   "cell_type": "code",
   "execution_count": 144,
   "metadata": {},
   "outputs": [],
   "source": [
    "def generate_p_matrix(m, p_matrix):\n",
    "    acc_prod = list(map(lambda x: int(x), [np.prod(m[i+1:]) for i in range(len(m))]))\n",
    "    l = np.sum(m)-1\n",
    "    p = [() for _ in range(np.prod(m))]\n",
    "    level = []\n",
    "\n",
    "    for i in range(len(p)):\n",
    "        total = i \n",
    "        level = []\n",
    "        for j in range(len(m)):\n",
    "            current = int(total/acc_prod[j])\n",
    "            total %= acc_prod[j]\n",
    "            level.append(current)\n",
    "        curr_p = []\n",
    "        for i in range(len(level)):\n",
    "            temp = [0 for _ in range(m[i])]\n",
    "            temp[m[i]-1-level[i]] = 1 \n",
    "            curr_p+=temp\n",
    "        p_matrix.append(curr_p)\n",
    "        #print(p_matrix)"
   ]
  },
  {
   "cell_type": "markdown",
   "metadata": {},
   "source": [
    "# (2,1;1)"
   ]
  },
  {
   "cell_type": "code",
   "execution_count": 181,
   "metadata": {},
   "outputs": [
    {
     "name": "stdout",
     "output_type": "stream",
     "text": [
      "4_2_final.dat\n",
      "Threshold: 1 --> PG: 20\n"
     ]
    },
    {
     "data": {
      "text/plain": [
       "0.002707958221435547"
      ]
     },
     "execution_count": 181,
     "metadata": {},
     "output_type": "execute_result"
    }
   ],
   "source": [
    "start =time.time()\n",
    "file = '4_2_final.dat'\n",
    "print(file)\n",
    "for i in range(1,2):\n",
    "    rxyz2 = getPartialOrderByThreshold(i,file)\n",
    "    print('Threshold: {} --> PG: {}'.format(i, len(rxyz2)))\n",
    "time.time() -start"
   ]
  },
  {
   "cell_type": "code",
   "execution_count": 192,
   "metadata": {},
   "outputs": [],
   "source": [
    "# compute matrix for each atomic parameter node\n",
    "oldls = list(rxyz2)\n",
    "m = [4,2]\n",
    "noinedges = 3\n",
    "nothresholds = 1\n",
    "epsilon = 1/2**256\n",
    "lowerbound = -10\n",
    "thetalowerbound = 2*lowerbound # homogeneity degree\n",
    "pmatrix = []\n",
    "\n",
    "generatePMatrix([4,2],pmatrix)\n",
    "level = 0\n",
    "thresholdsorder = (0,)\n",
    "ls = []\n",
    "\n",
    "for i in oldls:\n",
    "    ls+=thresholdSymmetry(i)\n",
    "\n",
    "\n",
    "ilist = ls # the index list for atomic parameter node\n",
    "mats = generatePNMatrixLogLinearNotPure(ls,m,nothresholds,epsilon,lowerbound,thetalowerbound,level,pmatrix)"
   ]
  },
  {
   "cell_type": "code",
   "execution_count": 193,
   "metadata": {},
   "outputs": [
    {
     "name": "stdout",
     "output_type": "stream",
     "text": [
      "done 1\n",
      "done 2\n",
      "0\n",
      "1\n",
      "2\n",
      "3\n",
      "4\n",
      "5\n",
      "6\n",
      "7\n",
      "8\n",
      "9\n",
      "10\n",
      "11\n",
      "12\n",
      "13\n",
      "14\n",
      "15\n",
      "16\n",
      "17\n",
      "18\n",
      "19\n"
     ]
    }
   ],
   "source": [
    "vlists = set()\n",
    "plist = []\n",
    "count = 0\n",
    "for mat in mats:\n",
    "    p = Polyhedron(ieqs = mat)\n",
    "    plist.append(p)\n",
    "    vlists|= set(p.vertices())\n",
    "vlists = list(vlists)\n",
    "pdim = plist[0].dimension()\n",
    "\n",
    "print(\"done 1\")\n",
    "\n",
    "vdict = dict()\n",
    "for i in range(len(vlists)):\n",
    "    vdict[vlists[i]] = i\n",
    "\n",
    "print(\"done 2\")\n",
    "\n",
    "nodelist = dict()\n",
    "# key is the index in ilist\n",
    "# value is the dictionary dnode\n",
    "# dnode takes dimension 0, ..., pdim as keys\n",
    "# takes set/tuple(json) of tuples of vertices index (faces) as values\n",
    "# the differential operator can be do by checking the subset of vertices index\n",
    "for i in range(len(ilist)):\n",
    "    print(i)\n",
    "    key = ilist[i]\n",
    "    value = dict()\n",
    "    p = plist[i]\n",
    "    for j in range(pdim+1):\n",
    "        faces = p.faces(j)\n",
    "        fvIndexSet = set()\n",
    "        for f in faces:\n",
    "            tempindex =[]\n",
    "            for v in f.vertices():\n",
    "                tempindex.append(vdict[v])\n",
    "            fvIndexSet.add(tuple(sorted(tempindex)))\n",
    "        value[j] = tuple(fvIndexSet)\n",
    "    nodelist[key] = value"
   ]
  },
  {
   "cell_type": "code",
   "execution_count": 194,
   "metadata": {},
   "outputs": [
    {
     "data": {
      "text/plain": [
       "[[0, -1, 0, 0, 0, -1, 0, 1],\n",
       " [0, -1, 0, 0, 0, 0, -1, 1],\n",
       " [0, 0, -1, 0, 0, -1, 0, 1],\n",
       " [0, 0, -1, 0, 0, 0, -1, 1],\n",
       " [0, 0, 0, -1, 0, -1, 0, 1],\n",
       " [0, 0, 0, -1, 0, 0, -1, 1],\n",
       " [0, 0, 0, 0, -1, -1, 0, 1],\n",
       " [0, 0, 0, 0, -1, 0, -1, 1],\n",
       " [-1/115792089237316195423570985008687907853269984665640564039457584007913129639936,\n",
       "  0,\n",
       "  0,\n",
       "  0,\n",
       "  0,\n",
       "  1,\n",
       "  -1,\n",
       "  0],\n",
       " [-1/115792089237316195423570985008687907853269984665640564039457584007913129639936,\n",
       "  1,\n",
       "  0,\n",
       "  -1,\n",
       "  0,\n",
       "  0,\n",
       "  0,\n",
       "  0],\n",
       " [-1/115792089237316195423570985008687907853269984665640564039457584007913129639936,\n",
       "  1,\n",
       "  -1,\n",
       "  0,\n",
       "  0,\n",
       "  0,\n",
       "  0,\n",
       "  0],\n",
       " [-1/115792089237316195423570985008687907853269984665640564039457584007913129639936,\n",
       "  0,\n",
       "  1,\n",
       "  0,\n",
       "  -1,\n",
       "  0,\n",
       "  0,\n",
       "  0],\n",
       " [-1/115792089237316195423570985008687907853269984665640564039457584007913129639936,\n",
       "  0,\n",
       "  0,\n",
       "  1,\n",
       "  -1,\n",
       "  0,\n",
       "  0,\n",
       "  0],\n",
       " [10, 0, 0, 0, 1, 0, 0, 0],\n",
       " [10, 0, 0, 0, 0, 0, 1, 0],\n",
       " [20, 0, 0, 0, 0, 0, 0, 1],\n",
       " [0, -1, -1, -1, -1, -1, -1, -1],\n",
       " [0, 1, 1, 1, 1, 1, 1, 1],\n",
       " [-1/115792089237316195423570985008687907853269984665640564039457584007913129639936,\n",
       "  -1,\n",
       "  1,\n",
       "  1,\n",
       "  -1,\n",
       "  0,\n",
       "  0,\n",
       "  0]]"
      ]
     },
     "execution_count": 194,
     "metadata": {},
     "output_type": "execute_result"
    }
   ],
   "source": [
    "mats[0]"
   ]
  },
  {
   "cell_type": "code",
   "execution_count": 195,
   "metadata": {},
   "outputs": [],
   "source": [
    "jsonNodelist = dict()\n",
    "for key in nodelist:\n",
    "    skey = str(key)\n",
    "    jsonNodelist[skey] = nodelist[key]\n",
    "    \n",
    "with open('(x+y)z_o_1.json','w') as file:\n",
    "    json.dump(jsonNodelist,file)"
   ]
  },
  {
   "cell_type": "code",
   "execution_count": 196,
   "metadata": {},
   "outputs": [],
   "source": [
    "firstKey = list(nodelist.keys())[0]\n",
    "dim = len(nodelist[firstKey])-1\n",
    "fList = []\n",
    "for i in range(dim+1):\n",
    "    dimFL = set()\n",
    "    for cell in nodelist:\n",
    "        dimFL |= set(nodelist[cell][i])\n",
    "    fList.append(dimFL)"
   ]
  },
  {
   "cell_type": "code",
   "execution_count": 197,
   "metadata": {},
   "outputs": [
    {
     "name": "stdout",
     "output_type": "stream",
     "text": [
      "0 66\n",
      "1 272\n",
      "2 524\n",
      "3 581\n",
      "4 378\n",
      "5 134\n",
      "6 20\n"
     ]
    }
   ],
   "source": [
    "for i in range(dim+1):\n",
    "    print(i, len(fList[i]))"
   ]
  },
  {
   "cell_type": "markdown",
   "metadata": {},
   "source": [
    "# (2,1,1:1)"
   ]
  },
  {
   "cell_type": "code",
   "execution_count": 198,
   "metadata": {},
   "outputs": [
    {
     "name": "stdout",
     "output_type": "stream",
     "text": [
      "4_2_2_final.dat\n",
      "Threshold: 1 --> PG: 155\n"
     ]
    },
    {
     "data": {
      "text/plain": [
       "0.1578991413116455"
      ]
     },
     "execution_count": 198,
     "metadata": {},
     "output_type": "execute_result"
    }
   ],
   "source": [
    "start =time.time()\n",
    "file = '4_2_2_final.dat'\n",
    "print(file)\n",
    "for i in range(1,2):\n",
    "    rxyz2 = getPartialOrderByThreshold(i,file)\n",
    "    print('Threshold: {} --> PG: {}'.format(i, len(rxyz2)))\n",
    "time.time() -start"
   ]
  },
  {
   "cell_type": "code",
   "execution_count": 201,
   "metadata": {},
   "outputs": [],
   "source": [
    "# compute matrix for each atomic parameter node\n",
    "oldls = list(rxyz2)\n",
    "m = [4,2,2]\n",
    "noinedges = 4\n",
    "nothresholds = 1\n",
    "epsilon = 1/2**512\n",
    "lowerbound = -10\n",
    "thetalowerbound = 3*lowerbound # homogeneity degree\n",
    "pmatrix = []\n",
    "\n",
    "generatePMatrix([4,2,2],pmatrix)\n",
    "level = 0\n",
    "thresholdsorder = (0,)\n",
    "ls = []\n",
    "\n",
    "for i in oldls:\n",
    "    ls+=thresholdSymmetry(i)\n",
    "\n",
    "\n",
    "ilist = ls # the index list for atomic parameter node\n",
    "mats = generatePNMatrixLogLinearNotPure(ls,m,nothresholds,epsilon,lowerbound,thetalowerbound,level,pmatrix)"
   ]
  },
  {
   "cell_type": "code",
   "execution_count": 202,
   "metadata": {},
   "outputs": [
    {
     "name": "stdout",
     "output_type": "stream",
     "text": [
      "done 1\n",
      "done 2\n",
      "0\n",
      "1\n",
      "2\n",
      "3\n",
      "4\n",
      "5\n",
      "6\n",
      "7\n",
      "8\n",
      "9\n",
      "10\n",
      "11\n",
      "12\n",
      "13\n",
      "14\n",
      "15\n",
      "16\n",
      "17\n",
      "18\n",
      "19\n",
      "20\n",
      "21\n",
      "22\n",
      "23\n",
      "24\n",
      "25\n",
      "26\n",
      "27\n",
      "28\n",
      "29\n",
      "30\n",
      "31\n",
      "32\n",
      "33\n",
      "34\n",
      "35\n",
      "36\n",
      "37\n",
      "38\n",
      "39\n",
      "40\n",
      "41\n",
      "42\n",
      "43\n",
      "44\n",
      "45\n",
      "46\n",
      "47\n",
      "48\n",
      "49\n",
      "50\n",
      "51\n",
      "52\n",
      "53\n",
      "54\n",
      "55\n",
      "56\n",
      "57\n",
      "58\n",
      "59\n",
      "60\n",
      "61\n",
      "62\n",
      "63\n",
      "64\n",
      "65\n",
      "66\n",
      "67\n",
      "68\n",
      "69\n",
      "70\n",
      "71\n",
      "72\n",
      "73\n",
      "74\n",
      "75\n",
      "76\n",
      "77\n",
      "78\n",
      "79\n",
      "80\n",
      "81\n",
      "82\n",
      "83\n",
      "84\n",
      "85\n",
      "86\n",
      "87\n",
      "88\n",
      "89\n",
      "90\n",
      "91\n",
      "92\n",
      "93\n",
      "94\n",
      "95\n",
      "96\n",
      "97\n",
      "98\n",
      "99\n",
      "100\n",
      "101\n",
      "102\n",
      "103\n",
      "104\n",
      "105\n",
      "106\n",
      "107\n",
      "108\n",
      "109\n",
      "110\n",
      "111\n",
      "112\n",
      "113\n",
      "114\n",
      "115\n",
      "116\n",
      "117\n",
      "118\n",
      "119\n",
      "120\n",
      "121\n",
      "122\n",
      "123\n",
      "124\n",
      "125\n",
      "126\n",
      "127\n",
      "128\n",
      "129\n",
      "130\n",
      "131\n",
      "132\n",
      "133\n",
      "134\n",
      "135\n",
      "136\n",
      "137\n",
      "138\n",
      "139\n",
      "140\n",
      "141\n",
      "142\n",
      "143\n",
      "144\n",
      "145\n",
      "146\n",
      "147\n",
      "148\n",
      "149\n",
      "150\n",
      "151\n",
      "152\n",
      "153\n",
      "154\n"
     ]
    }
   ],
   "source": [
    "vlists = set()\n",
    "plist = []\n",
    "count = 0\n",
    "for mat in mats:\n",
    "    p = Polyhedron(ieqs = mat)\n",
    "    plist.append(p)\n",
    "    vlists|= set(p.vertices())\n",
    "vlists = list(vlists)\n",
    "pdim = plist[0].dimension()\n",
    "\n",
    "print(\"done 1\")\n",
    "\n",
    "vdict = dict()\n",
    "for i in range(len(vlists)):\n",
    "    vdict[vlists[i]] = i\n",
    "\n",
    "print(\"done 2\")\n",
    "\n",
    "nodelist = dict()\n",
    "# key is the index in ilist\n",
    "# value is the dictionary dnode\n",
    "# dnode takes dimension 0, ..., pdim as keys\n",
    "# takes set/tuple(json) of tuples of vertices index (faces) as values\n",
    "# the differential operator can be do by checking the subset of vertices index\n",
    "for i in range(len(ilist)):\n",
    "    print(i)\n",
    "    key = ilist[i]\n",
    "    value = dict()\n",
    "    p = plist[i]\n",
    "    for j in range(pdim+1):\n",
    "        faces = p.faces(j)\n",
    "        fvIndexSet = set()\n",
    "        for f in faces:\n",
    "            tempindex =[]\n",
    "            for v in f.vertices():\n",
    "                tempindex.append(vdict[v])\n",
    "            fvIndexSet.add(tuple(sorted(tempindex)))\n",
    "        value[j] = tuple(fvIndexSet)\n",
    "    nodelist[key] = value"
   ]
  },
  {
   "cell_type": "code",
   "execution_count": 203,
   "metadata": {},
   "outputs": [],
   "source": [
    "jsonNodelist = dict()\n",
    "for key in nodelist:\n",
    "    skey = str(key)\n",
    "    jsonNodelist[skey] = nodelist[key]\n",
    "    \n",
    "with open('(x+y)zw_o_1.json','w') as file:\n",
    "    json.dump(jsonNodelist,file)"
   ]
  },
  {
   "cell_type": "code",
   "execution_count": 204,
   "metadata": {},
   "outputs": [],
   "source": [
    "firstKey = list(nodelist.keys())[0]\n",
    "dim = len(nodelist[firstKey])-1\n",
    "fList = []\n",
    "for i in range(dim+1):\n",
    "    dimFL = set()\n",
    "    for cell in nodelist:\n",
    "        dimFL |= set(nodelist[cell][i])\n",
    "    fList.append(dimFL)"
   ]
  },
  {
   "cell_type": "code",
   "execution_count": 205,
   "metadata": {},
   "outputs": [
    {
     "name": "stdout",
     "output_type": "stream",
     "text": [
      "0 433\n",
      "1 2593\n",
      "2 7406\n",
      "3 12842\n",
      "4 14451\n",
      "5 10634\n",
      "6 4948\n",
      "7 1323\n",
      "8 155\n"
     ]
    }
   ],
   "source": [
    "for i in range(dim+1):\n",
    "    print(i, len(fList[i]))"
   ]
  },
  {
   "cell_type": "markdown",
   "metadata": {},
   "source": [
    "# (2,1,1,1;1)"
   ]
  },
  {
   "cell_type": "code",
   "execution_count": 206,
   "metadata": {},
   "outputs": [
    {
     "name": "stdout",
     "output_type": "stream",
     "text": [
      "4_2_2_2_final.dat\n"
     ]
    },
    {
     "ename": "FileNotFoundError",
     "evalue": "[Errno 2] No such file or directory: '4_2_2_2_final.dat'",
     "output_type": "error",
     "traceback": [
      "\u001b[0;31m---------------------------------------------------------------------------\u001b[0m",
      "\u001b[0;31mFileNotFoundError\u001b[0m                         Traceback (most recent call last)",
      "\u001b[0;32m<ipython-input-206-bf7cb2830081>\u001b[0m in \u001b[0;36m<module>\u001b[0;34m()\u001b[0m\n\u001b[1;32m      3\u001b[0m \u001b[0mprint\u001b[0m\u001b[0;34m(\u001b[0m\u001b[0mfile\u001b[0m\u001b[0;34m)\u001b[0m\u001b[0;34m\u001b[0m\u001b[0;34m\u001b[0m\u001b[0m\n\u001b[1;32m      4\u001b[0m \u001b[0;32mfor\u001b[0m \u001b[0mi\u001b[0m \u001b[0;32min\u001b[0m \u001b[0mrange\u001b[0m\u001b[0;34m(\u001b[0m\u001b[0mInteger\u001b[0m\u001b[0;34m(\u001b[0m\u001b[0;36m1\u001b[0m\u001b[0;34m)\u001b[0m\u001b[0;34m,\u001b[0m\u001b[0mInteger\u001b[0m\u001b[0;34m(\u001b[0m\u001b[0;36m2\u001b[0m\u001b[0;34m)\u001b[0m\u001b[0;34m)\u001b[0m\u001b[0;34m:\u001b[0m\u001b[0;34m\u001b[0m\u001b[0;34m\u001b[0m\u001b[0m\n\u001b[0;32m----> 5\u001b[0;31m     \u001b[0mrxyz2\u001b[0m \u001b[0;34m=\u001b[0m \u001b[0mgetPartialOrderByThreshold\u001b[0m\u001b[0;34m(\u001b[0m\u001b[0mi\u001b[0m\u001b[0;34m,\u001b[0m\u001b[0mfile\u001b[0m\u001b[0;34m)\u001b[0m\u001b[0;34m\u001b[0m\u001b[0;34m\u001b[0m\u001b[0m\n\u001b[0m\u001b[1;32m      6\u001b[0m     \u001b[0mprint\u001b[0m\u001b[0;34m(\u001b[0m\u001b[0;34m'Threshold: {} --> PG: {}'\u001b[0m\u001b[0;34m.\u001b[0m\u001b[0mformat\u001b[0m\u001b[0;34m(\u001b[0m\u001b[0mi\u001b[0m\u001b[0;34m,\u001b[0m \u001b[0mlen\u001b[0m\u001b[0;34m(\u001b[0m\u001b[0mrxyz2\u001b[0m\u001b[0;34m)\u001b[0m\u001b[0;34m)\u001b[0m\u001b[0;34m)\u001b[0m\u001b[0;34m\u001b[0m\u001b[0;34m\u001b[0m\u001b[0m\n\u001b[1;32m      7\u001b[0m \u001b[0mtime\u001b[0m\u001b[0;34m.\u001b[0m\u001b[0mtime\u001b[0m\u001b[0;34m(\u001b[0m\u001b[0;34m)\u001b[0m \u001b[0;34m-\u001b[0m\u001b[0mstart\u001b[0m\u001b[0;34m\u001b[0m\u001b[0;34m\u001b[0m\u001b[0m\n",
      "\u001b[0;32m/Users/lunzhang/Desktop/parameterTopGit/complexCells/total2partial.py\u001b[0m in \u001b[0;36mgetPartialOrderByThreshold\u001b[0;34m(m, file)\u001b[0m\n\u001b[1;32m     54\u001b[0m \u001b[0;32mdef\u001b[0m \u001b[0mgetPartialOrderByThreshold\u001b[0m\u001b[0;34m(\u001b[0m\u001b[0mm\u001b[0m\u001b[0;34m,\u001b[0m\u001b[0mfile\u001b[0m\u001b[0;34m)\u001b[0m\u001b[0;34m:\u001b[0m\u001b[0;34m\u001b[0m\u001b[0;34m\u001b[0m\u001b[0m\n\u001b[1;32m     55\u001b[0m     \u001b[0mres\u001b[0m \u001b[0;34m=\u001b[0m \u001b[0mset\u001b[0m\u001b[0;34m(\u001b[0m\u001b[0;34m)\u001b[0m\u001b[0;34m\u001b[0m\u001b[0;34m\u001b[0m\u001b[0m\n\u001b[0;32m---> 56\u001b[0;31m     \u001b[0;32mwith\u001b[0m \u001b[0mopen\u001b[0m\u001b[0;34m(\u001b[0m\u001b[0mfile\u001b[0m\u001b[0;34m,\u001b[0m\u001b[0;34m'r'\u001b[0m\u001b[0;34m)\u001b[0m \u001b[0;32mas\u001b[0m \u001b[0mfile\u001b[0m\u001b[0;34m:\u001b[0m\u001b[0;34m\u001b[0m\u001b[0;34m\u001b[0m\u001b[0m\n\u001b[0m\u001b[1;32m     57\u001b[0m         \u001b[0ml\u001b[0m \u001b[0;34m=\u001b[0m \u001b[0mfile\u001b[0m\u001b[0;34m.\u001b[0m\u001b[0mreadline\u001b[0m\u001b[0;34m(\u001b[0m\u001b[0;34m)\u001b[0m\u001b[0;34m\u001b[0m\u001b[0;34m\u001b[0m\u001b[0m\n\u001b[1;32m     58\u001b[0m         \u001b[0;32mwhile\u001b[0m \u001b[0ml\u001b[0m\u001b[0;34m:\u001b[0m\u001b[0;34m\u001b[0m\u001b[0;34m\u001b[0m\u001b[0m\n",
      "\u001b[0;31mFileNotFoundError\u001b[0m: [Errno 2] No such file or directory: '4_2_2_2_final.dat'"
     ]
    }
   ],
   "source": [
    "start =time.time()\n",
    "file = '4_2_2_2_final.dat'\n",
    "print(file)\n",
    "for i in range(1,2):\n",
    "    rxyz2 = getPartialOrderByThreshold(i,file)\n",
    "    print('Threshold: {} --> PG: {}'.format(i, len(rxyz2)))\n",
    "time.time() -start"
   ]
  },
  {
   "cell_type": "code",
   "execution_count": null,
   "metadata": {},
   "outputs": [],
   "source": []
  }
 ],
 "metadata": {
  "kernelspec": {
   "display_name": "SageMath 8.9",
   "language": "sage",
   "name": "sagemath"
  },
  "language_info": {
   "codemirror_mode": {
    "name": "ipython",
    "version": 3
   },
   "file_extension": ".py",
   "mimetype": "text/x-python",
   "name": "python",
   "nbconvert_exporter": "python",
   "pygments_lexer": "ipython3",
   "version": "3.6.7"
  }
 },
 "nbformat": 4,
 "nbformat_minor": 2
}
